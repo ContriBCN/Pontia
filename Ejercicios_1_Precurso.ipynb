{
  "nbformat": 4,
  "nbformat_minor": 0,
  "metadata": {
    "colab": {
      "provenance": [],
      "include_colab_link": true
    },
    "kernelspec": {
      "name": "python3",
      "display_name": "Python 3"
    },
    "language_info": {
      "name": "python"
    }
  },
  "cells": [
    {
      "cell_type": "markdown",
      "metadata": {
        "id": "view-in-github",
        "colab_type": "text"
      },
      "source": [
        "<a href=\"https://colab.research.google.com/github/ContriBCN/ContriBCN/blob/main/Ejercicios_1_Precurso.ipynb\" target=\"_parent\"><img src=\"https://colab.research.google.com/assets/colab-badge.svg\" alt=\"Open In Colab\"/></a>"
      ]
    },
    {
      "cell_type": "markdown",
      "source": [
        "1. Crea 2 variables, `a` y `b`, y asignales los valores 5 y 7 respectivamente\n"
      ],
      "metadata": {
        "id": "g9eqyBtJm1Fu"
      }
    },
    {
      "cell_type": "code",
      "source": [
        "a = 5\n",
        "b = 7"
      ],
      "metadata": {
        "id": "BzouANwzxoet"
      },
      "execution_count": 1,
      "outputs": []
    },
    {
      "cell_type": "markdown",
      "source": [
        "2. Guarda la suma de `a` y `b` en la variable `c`"
      ],
      "metadata": {
        "id": "BW8HWMt1vmt-"
      }
    },
    {
      "cell_type": "code",
      "source": [
        "c = a+b\n",
        "print(c)"
      ],
      "metadata": {
        "id": "TTWA_u2ox_Z6",
        "outputId": "bbc89e63-ed2f-46f9-e92d-59aa3d9f961f",
        "colab": {
          "base_uri": "https://localhost:8080/"
        }
      },
      "execution_count": 3,
      "outputs": [
        {
          "output_type": "stream",
          "name": "stdout",
          "text": [
            "12\n"
          ]
        }
      ]
    },
    {
      "cell_type": "markdown",
      "source": [
        "3. Actualiza el valor de variable `c` sumandole 2 a sí misma"
      ],
      "metadata": {
        "id": "6_gmouJmzbpG"
      }
    },
    {
      "cell_type": "code",
      "source": [
        "c = c+2\n"
      ],
      "metadata": {
        "id": "H5iVveIAyGem",
        "outputId": "604681f5-2401-4396-ea02-4d0de38b8240",
        "colab": {
          "base_uri": "https://localhost:8080/"
        }
      },
      "execution_count": 8,
      "outputs": [
        {
          "output_type": "stream",
          "name": "stdout",
          "text": [
            "14\n"
          ]
        }
      ]
    },
    {
      "cell_type": "markdown",
      "source": [
        "4. Imprime en pantalla el valor de c"
      ],
      "metadata": {
        "id": "1rOBpTRbzouF"
      }
    },
    {
      "cell_type": "code",
      "source": [
        "print(c)"
      ],
      "metadata": {
        "id": "HbAOzJCoyU15",
        "outputId": "a7ab4a81-c394-47a7-edb8-e7c75af3a415",
        "colab": {
          "base_uri": "https://localhost:8080/"
        }
      },
      "execution_count": 9,
      "outputs": [
        {
          "output_type": "stream",
          "name": "stdout",
          "text": [
            "14\n"
          ]
        }
      ]
    },
    {
      "cell_type": "markdown",
      "source": [
        "5. Imprime en pantalla la siguiente frase:\n",
        "\n",
        "\"El valor de c es _\"\n",
        "\n",
        "Adaptarlo para que muestre el valor de la variable."
      ],
      "metadata": {
        "id": "VAM9UoDB0Dae"
      }
    },
    {
      "cell_type": "code",
      "source": [
        "print(\"El valor de c es \" + str(c))"
      ],
      "metadata": {
        "id": "xqPlEcl2yYVR",
        "outputId": "adc9eb02-0c6e-4f4d-b687-621529649130",
        "colab": {
          "base_uri": "https://localhost:8080/"
        }
      },
      "execution_count": 22,
      "outputs": [
        {
          "output_type": "stream",
          "name": "stdout",
          "text": [
            "El valor de c es 14\n"
          ]
        }
      ]
    },
    {
      "cell_type": "markdown",
      "source": [
        "7. Como podemos saber cuál es el tipo de datos de c?"
      ],
      "metadata": {
        "id": "ewJvonq83zV_"
      }
    },
    {
      "cell_type": "code",
      "source": [
        "type(c)"
      ],
      "metadata": {
        "id": "4c4tVJW4y9gq",
        "outputId": "cbe7424e-7dce-4a7c-c8cd-c1d2523cd930",
        "colab": {
          "base_uri": "https://localhost:8080/"
        }
      },
      "execution_count": 13,
      "outputs": [
        {
          "output_type": "execute_result",
          "data": {
            "text/plain": [
              "int"
            ]
          },
          "metadata": {},
          "execution_count": 13
        }
      ]
    },
    {
      "cell_type": "markdown",
      "source": [
        "8. Multiplica `c` por 1.0. Gurada el resultado en `d`"
      ],
      "metadata": {
        "id": "4XuqWLSU4839"
      }
    },
    {
      "cell_type": "code",
      "source": [
        "d = c*1.0"
      ],
      "metadata": {
        "id": "FpE2oVXJzBmX"
      },
      "execution_count": 14,
      "outputs": []
    },
    {
      "cell_type": "markdown",
      "source": [
        "9. Qué clase o tipo de dato almacena la variable `d`?"
      ],
      "metadata": {
        "id": "lc65lFOeU6_f"
      }
    },
    {
      "cell_type": "code",
      "source": [
        "type(d)"
      ],
      "metadata": {
        "id": "wcxIBI14zFbh",
        "outputId": "932fb899-6994-4fc0-f97b-4dfac5b7616d",
        "colab": {
          "base_uri": "https://localhost:8080/"
        }
      },
      "execution_count": 15,
      "outputs": [
        {
          "output_type": "execute_result",
          "data": {
            "text/plain": [
              "float"
            ]
          },
          "metadata": {},
          "execution_count": 15
        }
      ]
    },
    {
      "cell_type": "markdown",
      "source": [
        "10. A la luz del tipo de datos vistos en `c` y `d`, podemos decir que ambas variables son iguales? Escribe una expresión booleana que los iguale"
      ],
      "metadata": {
        "id": "yBjFrkdyVREY"
      }
    },
    {
      "cell_type": "markdown",
      "source": [
        "11. Guarda en una lista las variables `a`, `b`, `c` y `d`. Llama a la variable que la almacena *lista*"
      ],
      "metadata": {
        "id": "jifYF08OVqMI"
      }
    },
    {
      "cell_type": "code",
      "source": [
        "lista = [a,b,c,d]"
      ],
      "metadata": {
        "id": "e8mblKhD0RaP"
      },
      "execution_count": 23,
      "outputs": []
    },
    {
      "cell_type": "markdown",
      "source": [
        "12. Guarda en una tupla las variables `a`, `b`, `c` y `d`. Llama a la variable que la almacena *tupla*"
      ],
      "metadata": {
        "id": "O6mGrUHuWiHn"
      }
    },
    {
      "cell_type": "code",
      "source": [
        "tupla =(a,b,c,d)"
      ],
      "metadata": {
        "id": "VKv7qvyh0YeV"
      },
      "execution_count": 24,
      "outputs": []
    },
    {
      "cell_type": "markdown",
      "source": [
        "13. Guarda en un diccionario las variables `a`, `b`, `c` y `d`. Las claves o *keys* serán 'a', 'b', 'c' y 'd' y los valores las propias variables.  Llama a la variable que lo almacena *diccionario*"
      ],
      "metadata": {
        "id": "Jj2GFotrWW8N"
      }
    },
    {
      "cell_type": "code",
      "source": [
        "diccionario = {\"a\" : \"a\", \"b\" : \"b\", \"c\" : \"c\", \"d\" : \"d\"}"
      ],
      "metadata": {
        "id": "hgJqzuSb0rXv"
      },
      "execution_count": 25,
      "outputs": []
    },
    {
      "cell_type": "markdown",
      "source": [
        "14. Muestra el primer elemento de *lista*"
      ],
      "metadata": {
        "id": "tnBsjW-mbUM_"
      }
    },
    {
      "cell_type": "code",
      "source": [
        "print(lista[0])"
      ],
      "metadata": {
        "id": "t68Cv6Pa09gS",
        "outputId": "0d44b4b0-ace9-4ad2-f5e9-ab38d1b8da12",
        "colab": {
          "base_uri": "https://localhost:8080/"
        }
      },
      "execution_count": 26,
      "outputs": [
        {
          "output_type": "stream",
          "name": "stdout",
          "text": [
            "5\n"
          ]
        }
      ]
    },
    {
      "cell_type": "markdown",
      "source": [
        "15. Muestra el último elemento de *tupla*"
      ],
      "metadata": {
        "id": "0x-36zvlbjOI"
      }
    },
    {
      "cell_type": "code",
      "source": [
        "print(tupla[3])"
      ],
      "metadata": {
        "id": "nOBJF9Fl1DbE",
        "outputId": "8e38a7e2-65db-4ca3-cbbd-42a903abd4e2",
        "colab": {
          "base_uri": "https://localhost:8080/"
        }
      },
      "execution_count": 27,
      "outputs": [
        {
          "output_type": "stream",
          "name": "stdout",
          "text": [
            "14.0\n"
          ]
        }
      ]
    },
    {
      "cell_type": "markdown",
      "source": [
        "16. Convierte *tupla* en una lista. Guarda el resultado en *lista_2*"
      ],
      "metadata": {
        "id": "vfRnvkznc5_P"
      }
    },
    {
      "cell_type": "code",
      "source": [
        "lista_2 = list(tupla)\n",
        "type(lista_2)"
      ],
      "metadata": {
        "id": "qqnxfNF61mOx",
        "outputId": "ae217b2f-86c3-412a-c0c3-34346b765dcc",
        "colab": {
          "base_uri": "https://localhost:8080/"
        }
      },
      "execution_count": 30,
      "outputs": [
        {
          "output_type": "execute_result",
          "data": {
            "text/plain": [
              "list"
            ]
          },
          "metadata": {},
          "execution_count": 30
        }
      ]
    },
    {
      "cell_type": "markdown",
      "source": [
        "17. Añade un nuevo elemento a *lista_2*, el número 8 por ejemplo"
      ],
      "metadata": {
        "id": "17F1ACqveVdI"
      }
    },
    {
      "cell_type": "code",
      "source": [
        "lista_2.extend([8])"
      ],
      "metadata": {
        "id": "N77Q8rsK15QQ"
      },
      "execution_count": 32,
      "outputs": []
    },
    {
      "cell_type": "markdown",
      "source": [
        "18. Muestra la longitud o número de elementos de *lista_2*"
      ],
      "metadata": {
        "id": "IWBvVtfAeqJo"
      }
    },
    {
      "cell_type": "code",
      "source": [
        "print(lista_2)"
      ],
      "metadata": {
        "id": "FRLEZOuR2RK5",
        "outputId": "272913ff-4fc8-4d92-cb4c-b70cd353b318",
        "colab": {
          "base_uri": "https://localhost:8080/"
        }
      },
      "execution_count": 33,
      "outputs": [
        {
          "output_type": "stream",
          "name": "stdout",
          "text": [
            "[5, 7, 14, 14.0, 8]\n"
          ]
        }
      ]
    },
    {
      "cell_type": "markdown",
      "source": [
        "19. Muestra las claves o *keys* de *diccionario*"
      ],
      "metadata": {
        "id": "UuDoe-e-fEk_"
      }
    },
    {
      "cell_type": "code",
      "source": [
        "claves = list(diccionario.keys())\n",
        "print(claves)"
      ],
      "metadata": {
        "id": "Y_TeFF1x2VnG",
        "outputId": "1fa5efbf-782e-4b37-f152-ba69a0b9a0cb",
        "colab": {
          "base_uri": "https://localhost:8080/"
        }
      },
      "execution_count": 45,
      "outputs": [
        {
          "output_type": "stream",
          "name": "stdout",
          "text": [
            "['a', 'b', 'c', 'd']\n"
          ]
        }
      ]
    },
    {
      "cell_type": "markdown",
      "source": [
        "20. Muestra los valores o `values` de *diccionario*"
      ],
      "metadata": {
        "id": "xkePAwYjfS2Q"
      }
    },
    {
      "cell_type": "code",
      "source": [
        "valores = list(diccionario.values())\n",
        "print(valores)"
      ],
      "metadata": {
        "id": "vASFyiVx3rFn",
        "outputId": "9bef57c3-7276-446f-fb22-6459c077424e",
        "colab": {
          "base_uri": "https://localhost:8080/"
        }
      },
      "execution_count": 47,
      "outputs": [
        {
          "output_type": "stream",
          "name": "stdout",
          "text": [
            "['a', 'b', 'c', 'd']\n"
          ]
        }
      ]
    }
  ]
}