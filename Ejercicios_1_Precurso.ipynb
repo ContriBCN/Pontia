{
  "nbformat": 4,
  "nbformat_minor": 0,
  "metadata": {
    "colab": {
      "provenance": [],
      "include_colab_link": true
    },
    "kernelspec": {
      "name": "python3",
      "display_name": "Python 3"
    },
    "language_info": {
      "name": "python"
    }
  },
  "cells": [
    {
      "cell_type": "markdown",
      "metadata": {
        "id": "view-in-github",
        "colab_type": "text"
      },
      "source": [
        "<a href=\"https://colab.research.google.com/github/ContriBCN/ContriBCN/blob/main/Ejercicios_1_Precurso.ipynb\" target=\"_parent\"><img src=\"https://colab.research.google.com/assets/colab-badge.svg\" alt=\"Open In Colab\"/></a>"
      ]
    },
    {
      "cell_type": "markdown",
      "source": [
        "1. Crea 2 variables, `a` y `b`, y asignales los valores 5 y 7 respectivamente\n"
      ],
      "metadata": {
        "id": "g9eqyBtJm1Fu"
      }
    },
    {
      "cell_type": "code",
      "source": [
        "a = 5\n",
        "b = 7"
      ],
      "metadata": {
        "id": "BzouANwzxoet"
      },
      "execution_count": null,
      "outputs": []
    },
    {
      "cell_type": "markdown",
      "source": [
        "2. Guarda la suma de `a` y `b` en la variable `c`"
      ],
      "metadata": {
        "id": "BW8HWMt1vmt-"
      }
    },
    {
      "cell_type": "markdown",
      "source": [
        "3. Actualiza el valor de variable `c` sumandole 2 a sí misma"
      ],
      "metadata": {
        "id": "6_gmouJmzbpG"
      }
    },
    {
      "cell_type": "markdown",
      "source": [
        "4. Imprime en pantalla el valor de c"
      ],
      "metadata": {
        "id": "1rOBpTRbzouF"
      }
    },
    {
      "cell_type": "markdown",
      "source": [
        "5. Imprime en pantalla la siguiente frase:\n",
        "\n",
        "\"El valor de c es _\"\n",
        "\n",
        "Adaptarlo para que muestre el valor de la variable."
      ],
      "metadata": {
        "id": "VAM9UoDB0Dae"
      }
    },
    {
      "cell_type": "markdown",
      "source": [
        "7. Como podemos saber cuál es el tipo de datos de c?"
      ],
      "metadata": {
        "id": "ewJvonq83zV_"
      }
    },
    {
      "cell_type": "markdown",
      "source": [
        "8. Multiplica `c` por 1.0. Gurada el resultado en `d`"
      ],
      "metadata": {
        "id": "4XuqWLSU4839"
      }
    },
    {
      "cell_type": "markdown",
      "source": [
        "9. Qué clase o tipo de dato almacena la variable `d`?"
      ],
      "metadata": {
        "id": "lc65lFOeU6_f"
      }
    },
    {
      "cell_type": "markdown",
      "source": [
        "10. A la luz del tipo de datos vistos en `c` y `d`, podemos decir que ambas variables son iguales? Escribe una expresión booleana que los iguale"
      ],
      "metadata": {
        "id": "yBjFrkdyVREY"
      }
    },
    {
      "cell_type": "markdown",
      "source": [
        "11. Guarda en una lista las variables `a`, `b`, `c` y `d`. Llama a la variable que la almacena *lista*"
      ],
      "metadata": {
        "id": "jifYF08OVqMI"
      }
    },
    {
      "cell_type": "markdown",
      "source": [
        "12. Guarda en una tupla las variables `a`, `b`, `c` y `d`. Llama a la variable que la almacena *tupla*"
      ],
      "metadata": {
        "id": "O6mGrUHuWiHn"
      }
    },
    {
      "cell_type": "markdown",
      "source": [
        "13. Guarda en un diccionario las variables `a`, `b`, `c` y `d`. Las claves o *keys* serán 'a', 'b', 'c' y 'd' y los valores las propias variables.  Llama a la variable que lo almacena *diccionario*"
      ],
      "metadata": {
        "id": "Jj2GFotrWW8N"
      }
    },
    {
      "cell_type": "markdown",
      "source": [
        "14. Muestra el primer elemento de *lista*"
      ],
      "metadata": {
        "id": "tnBsjW-mbUM_"
      }
    },
    {
      "cell_type": "markdown",
      "source": [
        "15. Muestra el último elemento de *tupla*"
      ],
      "metadata": {
        "id": "0x-36zvlbjOI"
      }
    },
    {
      "cell_type": "markdown",
      "source": [
        "16. Convierte *tupla* en una lista. Guarda el resultado en *lista_2*"
      ],
      "metadata": {
        "id": "vfRnvkznc5_P"
      }
    },
    {
      "cell_type": "markdown",
      "source": [
        "17. Añade un nuevo elemento a *lista_2*, el número 8 por ejemplo"
      ],
      "metadata": {
        "id": "17F1ACqveVdI"
      }
    },
    {
      "cell_type": "markdown",
      "source": [
        "18. Muestra la longitud o número de elementos de *lista_2*"
      ],
      "metadata": {
        "id": "IWBvVtfAeqJo"
      }
    },
    {
      "cell_type": "markdown",
      "source": [
        "19. Muestra las claves o *keys* de *diccionario*"
      ],
      "metadata": {
        "id": "UuDoe-e-fEk_"
      }
    },
    {
      "cell_type": "markdown",
      "source": [
        "20. Muestra los valores o `values` de *diccionario*"
      ],
      "metadata": {
        "id": "xkePAwYjfS2Q"
      }
    }
  ]
}