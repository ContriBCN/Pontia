{
  "nbformat": 4,
  "nbformat_minor": 0,
  "metadata": {
    "colab": {
      "provenance": [],
      "authorship_tag": "ABX9TyP+s+rDyVtmnTVg5pkKhBeH",
      "include_colab_link": true
    },
    "kernelspec": {
      "name": "python3",
      "display_name": "Python 3"
    },
    "language_info": {
      "name": "python"
    }
  },
  "cells": [
    {
      "cell_type": "markdown",
      "metadata": {
        "id": "view-in-github",
        "colab_type": "text"
      },
      "source": [
        "<a href=\"https://colab.research.google.com/github/ContriBCN/ContriBCN/blob/main/ejercicio1_pontia.ipynb\" target=\"_parent\"><img src=\"https://colab.research.google.com/assets/colab-badge.svg\" alt=\"Open In Colab\"/></a>"
      ]
    },
    {
      "cell_type": "code",
      "execution_count": 7,
      "metadata": {
        "colab": {
          "base_uri": "https://localhost:8080/"
        },
        "id": "k27iNnpmorXW",
        "outputId": "5e4fdbc7-a63c-4e91-a09a-b2e275713867"
      },
      "outputs": [
        {
          "output_type": "stream",
          "name": "stdout",
          "text": [
            "[0, 2, 4, 6, 8, 10, 12, 14, 16, 18]\n",
            "<function multiplicar_lista at 0x7cff9643bb50>\n"
          ]
        }
      ],
      "source": [
        "nueva_lista = [0,2,4,6,8,10,12,14,16,18]\n",
        "print(nueva_lista)\n",
        "def multiplicar_lista (nueva_lista):\n",
        "  for i in nueva_lista:\n",
        "    i *= nueva_lista\n",
        "print(multiplicar_lista)\n",
        "\n",
        "\n",
        "\n",
        "\n"
      ]
    }
  ]
}