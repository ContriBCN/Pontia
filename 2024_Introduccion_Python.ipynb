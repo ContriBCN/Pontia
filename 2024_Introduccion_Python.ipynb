{
  "cells": [
    {
      "cell_type": "markdown",
      "metadata": {
        "id": "view-in-github",
        "colab_type": "text"
      },
      "source": [
        "<a href=\"https://colab.research.google.com/github/ContriBCN/ContriBCN/blob/main/2024_Introduccion_Python.ipynb\" target=\"_parent\"><img src=\"https://colab.research.google.com/assets/colab-badge.svg\" alt=\"Open In Colab\"/></a>"
      ]
    },
    {
      "cell_type": "markdown",
      "metadata": {
        "id": "1CopsgZnhDL2"
      },
      "source": [
        "# Python &#x1F60E; 🐍;\n",
        "\n",
        "Reglas indispensables a seguir en Python:\n",
        "\n",
        "\n",
        "1.   Respetar indentaciones\n",
        "2.   *Case Sensitive*\n",
        "3.   Definir elementos previos a su invocación (*sentido en el que corre el código*)\n",
        "4.   Tener en cuenta al sobreescribir elementos ya definidos\n"
      ]
    },
    {
      "cell_type": "markdown",
      "metadata": {
        "id": "LHQun_zTx3cu"
      },
      "source": [
        "## Importación de librerías"
      ]
    },
    {
      "cell_type": "code",
      "execution_count": null,
      "metadata": {
        "id": "It1ZQVA7x3Ob"
      },
      "outputs": [],
      "source": [
        "import sys          # Proporciona acceso a funciones y variables específicas del sistema.\n",
        "import keyword      # Permite trabajar con las palabras clave de Python.\n",
        "import operator     # Ofrece acceso a operadores funcionales, como operaciones matemáticas y lógicas.\n",
        "from datetime import datetime  # Importa la clase datetime para trabajar con fechas y horas.\n",
        "import os           # Proporciona una manera de usar funcionalidades dependientes del sistema operativo.\n"
      ]
    },
    {
      "cell_type": "markdown",
      "metadata": {
        "id": "v19Q-c3d30K-"
      },
      "source": [
        "## Declaración de Variables\n",
        "*  El nombre debe comenzar con letras o un guión bajo\n",
        "*  No se permiten espacios en blanco ni caracteres especiales (como @, #, $, %, etc.)\n",
        "*  No usar palabras reservadas del lenguaje como nombres de variables (if, else, while, for, def, class, import, etc)"
      ]
    },
    {
      "cell_type": "code",
      "execution_count": null,
      "metadata": {
        "colab": {
          "base_uri": "https://localhost:8080/"
        },
        "id": "zi2lWZFM2Qt-",
        "outputId": "8f99f7bb-101d-49ff-ced2-1a7b222739de"
      },
      "outputs": [
        {
          "output_type": "stream",
          "name": "stdout",
          "text": [
            "Pepita Perez\n"
          ]
        }
      ],
      "source": [
        "# a = 'soy una variable valida'\n",
        "# print(a)\n",
        "# a, b, c = 'string', 15, True\n",
        "# print(b)\n",
        "my_list = ['Pepito Perez', 'Pepita Perez']\n",
        "padre, hija = my_list\n",
        "print(hija)"
      ]
    },
    {
      "cell_type": "markdown",
      "metadata": {
        "id": "BXkX3CFAmGhK"
      },
      "source": [
        "## Tipo de datos"
      ]
    },
    {
      "cell_type": "markdown",
      "metadata": {
        "id": "G1oLef0gtrKK"
      },
      "source": [
        "### Fundamentales &#x1F4D3;"
      ]
    },
    {
      "cell_type": "markdown",
      "metadata": {
        "id": "u7c5cKq9ONqG"
      },
      "source": [
        "#### Datos de cadena de caracteres (str)"
      ]
    },
    {
      "cell_type": "code",
      "execution_count": null,
      "metadata": {
        "id": "lXeP7puqpDFy",
        "colab": {
          "base_uri": "https://localhost:8080/"
        },
        "outputId": "039f4515-ba78-4837-a1ce-b4aaff50ae62"
      },
      "outputs": [
        {
          "output_type": "stream",
          "name": "stdout",
          "text": [
            "6\n"
          ]
        }
      ],
      "source": [
        "string_simple = 'Pontia'\n",
        "string_doble = \"Pon@tia\"\n",
        "string_con_comillas = '\"Pontia\"'\n",
        "string_con_comillas_escape = \"\\\"Pontia\\\"\"\n",
        "string_triple_doble_comillas = \"\"\"Pontia\"\"\"\n",
        "string_tambien = \"255\"\n",
        "\n",
        "# print(len(string_con_comillas))\n",
        "len(string_simple)\n",
        "print(len(string_simple))\n",
        "\n",
        "print(type(string_tambien))\n",
        "print(string_tambien)"
      ]
    },
    {
      "cell_type": "code",
      "execution_count": null,
      "metadata": {
        "colab": {
          "base_uri": "https://localhost:8080/"
        },
        "id": "8GONO0hsyMAY",
        "outputId": "5aed0434-0b61-406a-b466-7d0f825668e7"
      },
      "outputs": [
        {
          "output_type": "stream",
          "name": "stdout",
          "text": [
            "['False', 'None', 'True', 'and', 'as', 'assert', 'async', 'await', 'break', 'class', 'continue', 'def', 'del', 'elif', 'else', 'except', 'finally', 'for', 'from', 'global', 'if', 'import', 'in', 'is', 'lambda', 'nonlocal', 'not', 'or', 'pass', 'raise', 'return', 'try', 'while', 'with', 'yield']\n"
          ]
        }
      ],
      "source": [
        "print(keyword.kwlist)\n",
        "len(keyword.kwlist)\n",
        "\n",
        "# print(type(string_tambien))"
      ]
    },
    {
      "cell_type": "markdown",
      "metadata": {
        "id": "imSvWv7nWKFF"
      },
      "source": [
        "Ejemplo de indexación del string \"*Python*\" &#x1F913;\n",
        "\n",
        "![indexacion_strings.png](data:image/png;base64,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)"
      ]
    },
    {
      "cell_type": "code",
      "source": [
        "string_simple = 'python'\n",
        "# Imprime el segundo carácter de la cadena 'string_simple' (índice 1)\n",
        "print(string_simple[4])\n",
        "\n",
        "# Imprime el tercer carácter desde el final de 'string_simple'\n",
        "print(string_simple[-3])\n",
        "\n",
        "# Compara si el segundo carácter y el tercer último carácter de 'string_simple' son iguales\n",
        "print(string_simple[1] == string_simple[-5])\n",
        "\n",
        "# Busca la primera ocurrencia de 'o' en 'string_simple' y devuelve su índice. Si no se encuentra, devuelve -1.\n",
        "print(string_simple.find('u'))\n",
        "\n",
        "# Busca la primera ocurrencia de 'o' en 'string_simple' y devuelve su índice. Si no se encuentra, lanza un error.\n",
        "print(string_simple.index('u'))"
      ],
      "metadata": {
        "colab": {
          "base_uri": "https://localhost:8080/"
        },
        "id": "Lt6xTW_xV6C5",
        "outputId": "cbb1684b-130a-470d-b345-5e4157b3bccf"
      },
      "execution_count": null,
      "outputs": [
        {
          "output_type": "stream",
          "name": "stdout",
          "text": [
            "-1\n"
          ]
        }
      ]
    },
    {
      "cell_type": "code",
      "execution_count": null,
      "metadata": {
        "colab": {
          "base_uri": "https://localhost:8080/"
        },
        "id": "twqj68bNWa0b",
        "outputId": "abe67889-a4f5-48ec-b50a-9d3ad44f65f7"
      },
      "outputs": [
        {
          "output_type": "stream",
          "name": "stdout",
          "text": [
            "7\n"
          ]
        }
      ],
      "source": [
        "# Crea una cadena de texto\n",
        "txt = \"Todos han jugado al paddel pero yo nunca lo he jugado\"\n",
        "\n",
        "# Busca la palabra \"paddel\" en la cadena 'txt' y almacena el índice de inicio en 'indice_paddel'\n",
        "indice_paddel = txt.find(\"paddel\")\n",
        "\n",
        "\n",
        "# Imprime el índice donde comienza la subcadena \"paddel\"\n",
        "print(indice_paddel)\n",
        "\n",
        "#buscarían la letra 'e' entre los índices 2 y 11 de la cadena 'txt'\n",
        "# Si la letra 'e' no se encuentra en ese rango, la función index() lanzaría un error.\n",
        "x = txt.index(\"a\", 2, 11)\n",
        "print(x)"
      ]
    },
    {
      "cell_type": "code",
      "source": [
        "string_simple = \"hoy es martes 20\"\n",
        "# Convertir la primera letra de 'string_simple' a mayúscula\n",
        "print(string_simple.capitalize())\n",
        "\n",
        "# Convertir todos los caracteres de 'string_simple' a mayúsculas\n",
        "print(string_simple.upper())\n",
        "\n",
        "# Alternativa para convertir todos los caracteres a minúsculas\n",
        "print(string_simple.lower())\n",
        "\n",
        "# Verificar si todos los caracteres en 'string_simple' están en mayúsculas\n",
        "print(string_simple.isupper())\n",
        "\n",
        "# Alternativa para verificar si todos los caracteres están en minúsculas\n",
        "print(string_simple.islower())\n",
        "\n",
        "# Verificar si todos los caracteres en 'string_simple' son alfabéticos\n",
        "print(string_simple.isalpha())\n",
        "\n",
        "# Verificar si todos los caracteres en 'string_simple' son numéricos\n",
        "print(string_simple.isnumeric())\n",
        "\n",
        "# Reemplazar 'i' por 'a' en 'string_simple', luego 'h' por espacio\n",
        "print(string_simple.replace('hoy es ','x'))"
      ],
      "metadata": {
        "colab": {
          "base_uri": "https://localhost:8080/"
        },
        "id": "ojIJKOe3YRLb",
        "outputId": "41b304a4-3843-40ba-fbe3-b35287c28183"
      },
      "execution_count": null,
      "outputs": [
        {
          "output_type": "stream",
          "name": "stdout",
          "text": [
            "xmartes 20\n"
          ]
        }
      ]
    },
    {
      "cell_type": "code",
      "source": [
        "# Uso del método STRIP para limpiar caracteres no deseados en los extremos de una cadena\n",
        "\n",
        "# Definir una cadena con caracteres '~' alrededor de la palabra 'Python'\n",
        "\n",
        "ejemplo_strip_simple = \"~~~Python~~~\"\n",
        "\n",
        "# Imprimir la cadena original\n",
        "print(ejemplo_strip_simple)\n",
        "\n",
        "# Eliminar todos los caracteres '~' de los extremos de la cadena\n",
        "variable_limpia = ejemplo_strip_simple.strip(\"~\")\n",
        "\n",
        "# Imprimir la cadena 'limpia'\n",
        "print(variable_limpia)\n"
      ],
      "metadata": {
        "colab": {
          "base_uri": "https://localhost:8080/"
        },
        "id": "rktAOKUkYVBB",
        "outputId": "f026b7b0-7833-4531-e479-e9de0aaa2b54"
      },
      "execution_count": null,
      "outputs": [
        {
          "output_type": "stream",
          "name": "stdout",
          "text": [
            "Python\n"
          ]
        }
      ]
    },
    {
      "cell_type": "code",
      "execution_count": null,
      "metadata": {
        "colab": {
          "base_uri": "https://localhost:8080/"
        },
        "id": "95mHtfQrZVr1",
        "outputId": "3bf90fc1-a427-4579-e3b5-de5203cd3e30"
      },
      "outputs": [
        {
          "output_type": "stream",
          "name": "stdout",
          "text": [
            "----------.--Py-thon\n"
          ]
        }
      ],
      "source": [
        "# Definir una cadena con una mezcla de '.' y '-' alrededor de la palabra 'Python'\n",
        "ejemplo_strip = \"----------.--Py-thon----|-----.---\"\n",
        "\n",
        "# Eliminar todos los caracteres '.' y '-' de los extremos\n",
        "variable_limpia = ejemplo_strip.strip(\".-|\")\n",
        "print(variable_limpia.replace('-',''))\n",
        "\n",
        "# Imprimir la cadena con '-' eliminados también del interior\n",
        "print(variable_limpia.replace('-',''))\n",
        "print(variable_limpia)\n",
        "# Eliminar solo los caracteres '.' de los extremos\n",
        "variable_limpia = ejemplo_strip.strip(\".\")\n",
        "print(variable_limpia)\n",
        "\n",
        "# Eliminar solo los caracteres '-' de los extremos\n",
        "variable_limpia = ejemplo_strip.strip(\"-\")\n",
        "print(variable_limpia)\n",
        "\n",
        "# Eliminar caracteres de la izquierda\n",
        "print(ejemplo_strip.lstrip(\".-\"))\n",
        "\n",
        "# Eliminar caracteres de la derecha\n",
        "print(ejemplo_strip.rstrip(\".-|\"))\n",
        "\n"
      ]
    },
    {
      "cell_type": "code",
      "source": [
        "# Convertir la cadena a formato de título\n",
        "txt = \"hola, este seria un titulo de ejemplo\"\n",
        "print(txt.title())\n",
        "\n",
        "\n",
        "# mayúsculas por minúsculas y viceversa.\n",
        "print(txt.title().swapcase())"
      ],
      "metadata": {
        "colab": {
          "base_uri": "https://localhost:8080/"
        },
        "id": "7yyaijZkYYMf",
        "outputId": "6bf49de0-54bd-4d80-8554-080ae4ceb095"
      },
      "execution_count": null,
      "outputs": [
        {
          "output_type": "stream",
          "name": "stdout",
          "text": [
            "hOLA, eSTE sERIA uN tITULO dE eJEMPLO\n"
          ]
        }
      ]
    },
    {
      "cell_type": "code",
      "execution_count": null,
      "metadata": {
        "colab": {
          "base_uri": "https://localhost:8080/"
        },
        "id": "ffXd89lm13U1",
        "outputId": "f229623b-e407-4506-a642-7ee1277ca1c8"
      },
      "outputs": [
        {
          "output_type": "stream",
          "name": "stdout",
          "text": [
            "No se dice velen , se dice BELEN\n"
          ]
        }
      ],
      "source": [
        "string_simple = \"---velen\"\n",
        "# Union de cadenas\n",
        "print(string_simple + \", \" + \"como va todo?\")\n",
        "\n",
        "# Format strings\n",
        "print(f\"{string_simple.capitalize()}, como va todo?\") #placeholder{}\n",
        "print(\"{},como va todo ?\".format(string_simple))\n",
        "\n",
        "cadena1 = \"El precio de la cafetera es de {precio:.0f} rupias.\" # \"f\" = float\n",
        "print(cadena1.format(precio=255.99))\n",
        "\n",
        "cadena2 = \"Ese armario mide {altura:.1f} metros.\" # \"f\" = float\n",
        "print(cadena2.format(altura=2))\n",
        "\n",
        "print(\"No se dice {}, se dice {}\".format(string_simple.lstrip(\"-\"), string_simple.replace('v','b').upper().lstrip(\"-\")))\n",
        "\n",
        "print(f\"No se dice {string_simple.lstrip('-')} , se dice {string_simple.replace('v','b').upper().lstrip('-')}\")"
      ]
    },
    {
      "cell_type": "markdown",
      "metadata": {
        "id": "GnwFS6EdQtdT"
      },
      "source": [
        "##<font color='yellow'> DESAFÍO\n",
        "\n",
        "- Crea una nueva cadena llamada 'saludo' que use la variable 'string_simple' y la concatene con la frase \", cómo estás hoy?\" utilizando el operador +.\n",
        "- Utiliza f-strings para imprimir la variable 'string_simple' en mayúsculas, seguida de la pregunta \"cómo te encuentras hoy?\".\n",
        "- Emplea el método .format() para crear una cadena que indique que el precio de una bici es de 1150.4332€, mostrando 3 decimales.\n",
        "- Con otro .format(), forma una cadena que diga que \"un luchador de sumo pesa 132,89 kg\", especificando solo un decimal en el peso.\n",
        "- Corrige la frase \"En programación, mi herramienta favorita es Python\"\n",
        "para que diga \"En programación, mi INSTRUMENTO favorito es PYTHON\".\n",
        "\n"
      ]
    },
    {
      "cell_type": "code",
      "source": [
        "string_simple = 'Hola'\n",
        "saludo = string_simple + \", cómo estás hoy?\"\n",
        "print(saludo)\n"
      ],
      "metadata": {
        "colab": {
          "base_uri": "https://localhost:8080/"
        },
        "id": "W6rCe-X04Nkh",
        "outputId": "04921edd-0de1-435e-b413-2dfdf09f639a"
      },
      "execution_count": null,
      "outputs": [
        {
          "output_type": "stream",
          "name": "stdout",
          "text": [
            "Hola, cómo estás hoy?\n"
          ]
        }
      ]
    },
    {
      "cell_type": "code",
      "source": [
        "print(f\"{string_simple.upper()}, cómo estás hoy?\")"
      ],
      "metadata": {
        "colab": {
          "base_uri": "https://localhost:8080/"
        },
        "id": "vJw2wLG85cbd",
        "outputId": "af0b908c-5ac4-4c97-eb80-065911493849"
      },
      "execution_count": null,
      "outputs": [
        {
          "output_type": "stream",
          "name": "stdout",
          "text": [
            "HOLA, cómo estás hoy?\n"
          ]
        }
      ]
    },
    {
      "cell_type": "code",
      "source": [
        "cadena = \"El precio de una bici es de {precio:.3f}€\"\n",
        "print(cadena.format(precio=1150.4332))"
      ],
      "metadata": {
        "colab": {
          "base_uri": "https://localhost:8080/"
        },
        "id": "k2sGjey75rHG",
        "outputId": "8ba12fe2-8c3b-4c31-da2a-25486dd4139b"
      },
      "execution_count": null,
      "outputs": [
        {
          "output_type": "stream",
          "name": "stdout",
          "text": [
            "El precio de una bici es de 1150.433€\n"
          ]
        }
      ]
    },
    {
      "cell_type": "code",
      "source": [
        "peso_luchador = \"Un luchador de sumo pesa {peso:.1f}kg\"\n",
        "print(peso_luchador.format(peso=132.89))"
      ],
      "metadata": {
        "colab": {
          "base_uri": "https://localhost:8080/"
        },
        "id": "IZADMxNF5_1A",
        "outputId": "7769aca6-a544-47fa-ae65-96517f5733a5"
      },
      "execution_count": null,
      "outputs": [
        {
          "output_type": "stream",
          "name": "stdout",
          "text": [
            "Un luchador de sumo pesa 132.9kg\n"
          ]
        }
      ]
    },
    {
      "cell_type": "code",
      "source": [
        "frase1 = \"En programación, mi herramienta favorita es Python\"\n",
        "print(frase1.replace('herramienta','HERRAMIENTA').replace('Python','PYTHON'))"
      ],
      "metadata": {
        "colab": {
          "base_uri": "https://localhost:8080/"
        },
        "id": "kCWGKd4j6cN_",
        "outputId": "953e45f8-668e-4b51-bcd9-c16f8f4a3de3"
      },
      "execution_count": null,
      "outputs": [
        {
          "output_type": "stream",
          "name": "stdout",
          "text": [
            "En programación, mi HERRAMIENTA favorita es PYTHON\n"
          ]
        }
      ]
    },
    {
      "cell_type": "markdown",
      "metadata": {
        "id": "Jo4ykP9xOTbS"
      },
      "source": [
        "#### Datos numéricos"
      ]
    },
    {
      "cell_type": "code",
      "execution_count": null,
      "metadata": {
        "colab": {
          "base_uri": "https://localhost:8080/"
        },
        "id": "YxqFr03QOVh6",
        "outputId": "eeaed56d-291d-4d3e-bb77-5b3863ebdb6e"
      },
      "outputs": [
        {
          "output_type": "stream",
          "name": "stdout",
          "text": [
            "La parte real es 1.0 y la parte imaginaria es 2.0\n"
          ]
        }
      ],
      "source": [
        "# Ejemplos de tipos de datos numéricos en Python y la promoción de tipos\n",
        "\n",
        "# En operaciones numéricas donde se mezclan diferentes tipos, el tipo numérico \"más pequeño\"\n",
        "# (por ejemplo, int) se convierte automáticamente al tipo \"más grande\" (por ejemplo, float).\n",
        "\n",
        "# Definición de un número entero (int)\n",
        "numerico_entero = 9\n",
        "\n",
        "# Definición de un número con decimales (float)\n",
        "numerico_decimal = 7.0\n",
        "\n",
        "print(numerico_entero + numerico_decimal )\n",
        "\n",
        "# Definición de un número complejo (complex)\n",
        "# Un número complejo tiene una parte real y una parte imaginaria\n",
        "numerico_complejo = 1+2j\n",
        "\n",
        "# Para acceder a la parte real o imaginaria de un número complejo, puedes hacerlo así:\n",
        "parte_real = numerico_complejo.real\n",
        "print(parte_real)\n",
        "parte_imaginaria = numerico_complejo.imag\n",
        "print(parte_imaginaria)\n",
        "# Ejemplo de impresión de las partes de un número complejo\n",
        "print(f\"La parte real es {parte_real} y la parte imaginaria es {parte_imaginaria}\")\n",
        "\n",
        "print(numerico_entero + numerico_decimal)\n"
      ]
    },
    {
      "cell_type": "markdown",
      "metadata": {
        "id": "PeuiPFekOXi5"
      },
      "source": [
        "#### Datos lógicos"
      ]
    },
    {
      "cell_type": "code",
      "source": [
        "# Definición de variables booleanas\n",
        "buleano1 = False\n",
        "buleano2 = True\n",
        "\n",
        "# Esta sección demuestra un condicional básico utilizando una variable booleana.\n",
        "# Si 'buleano2' es True, imprime \"Soy verdadero\". De lo contrario, imprime \"No soy verdadero :(\".\n",
        "if buleano2:\n",
        "  print(\"Soy verdadero\")\n",
        "else:\n",
        "  print(\"No soy verdadero :(\")\n",
        "\n",
        "# Creación de un rango de números del 0 al 9 y conversión a lista\n",
        "rango = range(10)\n",
        "lista_de_numeros = list(rango)\n",
        "print(lista_de_numeros)"
      ],
      "metadata": {
        "colab": {
          "base_uri": "https://localhost:8080/"
        },
        "id": "8YuXU-NDYldo",
        "outputId": "e3383cfc-63b5-451f-c3d3-814de86154ca"
      },
      "execution_count": null,
      "outputs": [
        {
          "output_type": "stream",
          "name": "stdout",
          "text": [
            "[0, 1, 2, 3, 4, 5, 6, 7, 8, 9]\n"
          ]
        }
      ]
    },
    {
      "cell_type": "code",
      "execution_count": null,
      "metadata": {
        "id": "GZRqNADZOerR"
      },
      "outputs": [],
      "source": [
        "# Inicialización de una lista vacía\n",
        "lista_de_numeros2 = []\n",
        "\n",
        "# Imprime el tipo de la variable 'lista_de_numeros', que sería <class 'list'>\n",
        "print(type(lista_de_numeros2))\n",
        "\n",
        "# Este condicional verifica si 'lista_de_numeros' tiene elementos.\n",
        "# Una lista vacía se evalúa a False en un contexto booleano.\n",
        "# Por lo tanto, si la lista está vacía, imprimirá \"No soy verdadero :(\".\n",
        "if lista_de_numeros:\n",
        "  print(\"Soy verdadero\")\n",
        "else:\n",
        "  print(\"No soy verdadero :(\")\n",
        "\n",
        "# Definición de una variable con el valor None, que representa la \"nada\" o un valor nulo en Python\n",
        "vacio = None\n"
      ]
    },
    {
      "cell_type": "code",
      "source": [
        "# Imprime el tipo de la variable 'vacio', que sería <class 'NoneType'>\n",
        "print(type(vacio))\n",
        "\n",
        "# Este condicional verifica si 'vacio' tiene algún valor.\n",
        "# 'vacio' tiene asignado None, que se evalúa a False en un contexto booleano.\n",
        "# Por lo tanto, imprimirá \"No soy verdadero :(\".\n",
        "if vacio:\n",
        "  print(\"Soy verdadero\")\n",
        "else:\n",
        "  print(\"No soy verdadero :(\")"
      ],
      "metadata": {
        "colab": {
          "base_uri": "https://localhost:8080/"
        },
        "id": "_0rb6QSmYpgH",
        "outputId": "5976cea7-ff17-4445-8295-26c9e817317c"
      },
      "execution_count": null,
      "outputs": [
        {
          "output_type": "stream",
          "name": "stdout",
          "text": [
            "No soy verdadero :(\n"
          ]
        }
      ]
    },
    {
      "cell_type": "markdown",
      "metadata": {
        "id": "ffyCBSFlttrH"
      },
      "source": [
        "### De recolección (\"Collection data\") &#x1F4DA;"
      ]
    },
    {
      "cell_type": "markdown",
      "metadata": {
        "id": "MvYTlLArOD99"
      },
      "source": [
        "#### Listas\n",
        "*   Mutables\n",
        "*   Indexados\n",
        "*   Definido con corchetes \"[ ]\""
      ]
    },
    {
      "cell_type": "code",
      "source": [
        "# Creación de listas en Python\n",
        "\n",
        "# Lista de números, incluye tanto enteros como flotantes.\n",
        "lista_numerica = [8, 55, 9.26, 3402, 15.0]\n",
        "\n",
        "# Lista de cadenas de texto, algunos elementos se repiten, como 'Area 52'.\n",
        "lista_string = ['Area 52', 'Tyrande', 'Elwynn Forest', 'Area 52', 'Thunderfury, Blessed Blade of the Windseeker', 'Area 52', 'Li Li']\n",
        "\n",
        "# Lista mixta que contiene cadenas de texto, números, y otra lista.\n",
        "lista_mixta = ['pontia', 4, 137.5, lista_numerica]"
      ],
      "metadata": {
        "id": "_pbKNwmeYtoY"
      },
      "execution_count": null,
      "outputs": []
    },
    {
      "cell_type": "code",
      "execution_count": null,
      "metadata": {
        "id": "u3uTq-_AkeO4",
        "colab": {
          "base_uri": "https://localhost:8080/"
        },
        "outputId": "681e2fb4-51e1-4cad-96af-7b9673e63c26"
      },
      "outputs": [
        {
          "output_type": "stream",
          "name": "stdout",
          "text": [
            "4\n"
          ]
        }
      ],
      "source": [
        "# Imprime el tipo de 'lista_mixta', que será <class 'list'>.\n",
        "print(type(lista_mixta))\n",
        "\n",
        "#Lista\n",
        "lista = [['pontia', 4, 137.5]]\n",
        "\n",
        "# Accede e imprime el segundo elemento de 'lista_numerica' (índices comienzan en 0), que es 55.\n",
        "print(lista_numerica[1])\n",
        "\n",
        "print(len(lista_mixta))\n",
        "\n",
        "# Imprime el tipo de 'vacio', que es None, mostrando <class 'NoneType'>.\n",
        "print(type(vacio))\n",
        "\n"
      ]
    },
    {
      "cell_type": "code",
      "source": [
        "### Manipulación de indexación - START STOP STEP\n",
        "# Lista de números, incluye tanto enteros como flotantes.\n",
        "lista_numerica = [8, 55, 9.26, 3402, 15.0]\n",
        "# Accediendo a los primeros dos elementos de 'lista_numerica' usando slicing.\n",
        "# Omite el índice de inicio y usa 2 como índice de parada, lo que selecciona los elementos desde el inicio hasta el segundo elemento.\n",
        "primeros_dos_elementos = lista_numerica[:3]\n",
        "print(primeros_dos_elementos)\n",
        "\n",
        "# Obtiene el tercer y cuarto elemento de 'lista_numerica'.\n",
        "# El índice de inicio es 2 (tercer elemento, ya que el conteo inicia en 0) y el índice de parada es 4, excluyendo el cuarto elemento.\n",
        "tercer_y_cuarto = lista_numerica[2:4]\n",
        "print(tercer_y_cuarto)\n",
        "\n",
        "# Accede a los últimos dos elementos de 'lista_numerica'.\n",
        "# El índice de inicio es -4, lo que significa que empieza desde el cuarto elemento contando desde el final, hasta el final de la lista.\n",
        "ultimos_dos_elementos = lista_numerica[-2:]\n",
        "print(ultimos_dos_elementos)"
      ],
      "metadata": {
        "colab": {
          "base_uri": "https://localhost:8080/"
        },
        "id": "2OwJjn8JY1yz",
        "outputId": "2a2a9a13-ce56-4403-bf26-7872e26d9cbf"
      },
      "execution_count": null,
      "outputs": [
        {
          "output_type": "stream",
          "name": "stdout",
          "text": [
            "[9.26, 3402]\n"
          ]
        }
      ]
    },
    {
      "cell_type": "code",
      "execution_count": null,
      "metadata": {
        "id": "_WV7BG8m8WEZ"
      },
      "outputs": [],
      "source": [
        "### Izquierda a Derecha\n",
        "\n",
        "# Crea una copia de 'lista_numerica' sin modificarla, recorriendo de izquierda a derecha con un paso de 1.\n",
        "lista_normal = lista_numerica[::1]\n",
        "print(lista_normal)\n",
        "\n",
        "# Obtiene elementos de 'lista_numerica' con una zancada de 2, es decir, selecciona cada segundo elemento de la lista.\n",
        "lista_zancada = lista_numerica[::2]\n",
        "print(lista_zancada)\n",
        "\n",
        "### Derecha a Izquierda\n",
        "\n",
        "# Invierte 'lista_numerica', recorriendo la lista de derecha a izquierda con un paso de -1.\n",
        "lista_invertida = lista_numerica[::-1]\n",
        "print(lista_invertida)\n",
        "\n",
        "\n",
        "\n",
        "lista_numerica = [8, 55, 9.26, 3402, 15.0]"
      ]
    },
    {
      "cell_type": "code",
      "source": [
        "# Importación del módulo copy para realizar copias profundas y superficiales de listas\n",
        "import copy\n",
        "\n",
        "### Manipulación de listas (Métodos de la clase lista)\n",
        "\n",
        "lista_string = ['Area 52', 'Tyrande', 'Elwynn Forest', 'Area 52', 'Thunderfury, Blessed Blade of the Windseeker', 'Area 52', 'Li Li']\n",
        "\n",
        "# Añade un nuevo elemento al final de 'lista_string'.\n",
        "lista_string.append(\"elemento nuevo\")\n",
        "\n",
        "# Muestra 'lista_string' después de añadir el nuevo elemento.\n",
        "print(lista_string)"
      ],
      "metadata": {
        "colab": {
          "base_uri": "https://localhost:8080/"
        },
        "id": "h8JnOzujKbgu",
        "outputId": "29724ffa-1879-41c5-ad3e-a092e6f0bf7e"
      },
      "execution_count": null,
      "outputs": [
        {
          "output_type": "stream",
          "name": "stdout",
          "text": [
            "['Area 52', 'Tyrande', 'Elwynn Forest', 'Area 52', 'Thunderfury, Blessed Blade of the Windseeker', 'Area 52', 'Li Li', 'elemento nuevo']\n"
          ]
        }
      ]
    },
    {
      "cell_type": "code",
      "source": [
        "# Crea una copia superficial de 'lista_string' en 'lista_nueva'.\n",
        "# Una copia superficial significa que los objetos dentro de la lista son los mismos (misma referencia).\n",
        "lista_nueva = copy.copy(lista_string)\n",
        "print(lista_nueva)\n",
        "# Añade un número al final de 'lista_nueva' para demostrar que es independiente de 'lista_string'.\n",
        "lista_nueva.append(5)\n",
        "print(lista_nueva)\n",
        "# Separa visualmente las salidas para claridad.\n",
        "print(\"----------------------------------------------------------------------------\")\n",
        "print(lista_string)"
      ],
      "metadata": {
        "colab": {
          "base_uri": "https://localhost:8080/"
        },
        "id": "kv9IzMuTKeLe",
        "outputId": "bf457958-b025-4181-8554-c7721e5ecb6e"
      },
      "execution_count": null,
      "outputs": [
        {
          "output_type": "stream",
          "name": "stdout",
          "text": [
            "['Area 52', 'Tyrande', 'Elwynn Forest', 'Area 52', 'Thunderfury, Blessed Blade of the Windseeker', 'Area 52', 'Li Li', 'elemento nuevo']\n",
            "['Area 52', 'Tyrande', 'Elwynn Forest', 'Area 52', 'Thunderfury, Blessed Blade of the Windseeker', 'Area 52', 'Li Li', 'elemento nuevo', 5]\n",
            "----------------------------------------------------------------------------\n",
            "['Area 52', 'Tyrande', 'Elwynn Forest', 'Area 52', 'Thunderfury, Blessed Blade of the Windseeker', 'Area 52', 'Li Li', 'elemento nuevo']\n"
          ]
        }
      ]
    },
    {
      "cell_type": "code",
      "source": [
        "# Cambia el último elemento de 'lista_string' por \"elemento nuevo\".\n",
        "lista_nueva[-1] = ''\n",
        "print(lista_nueva)\n",
        "\n",
        "# Imprime la longitud de 'lista_string'.\n",
        "print(len(lista_string))\n",
        "\n",
        "# Limpia 'lista_string', es decir, elimina todos sus elementos, dejándola como una lista vacía.\n",
        "lista_nueva.clear()\n",
        "print(len(lista_nueva))"
      ],
      "metadata": {
        "colab": {
          "base_uri": "https://localhost:8080/"
        },
        "id": "Z5lf5clMY_Lg",
        "outputId": "7767c928-6972-4d1e-ce3e-64541b580eba"
      },
      "execution_count": null,
      "outputs": [
        {
          "output_type": "stream",
          "name": "stdout",
          "text": [
            "['Area 52', 'Tyrande', 'Elwynn Forest', 'Area 52', 'Thunderfury, Blessed Blade of the Windseeker', 'Area 52', 'Li Li', 'elemento nuevo', '']\n"
          ]
        }
      ]
    },
    {
      "cell_type": "code",
      "source": [
        "\n",
        "# Lista de cadenas de texto, algunos elementos se repiten, como 'Area 52'.\n",
        "lista_string = ['Area 52', 'Tyrande', 'Elwynn Forest', 'Area 52', 'Thunderfury, Blessed Blade of the Windseeker', 'Area 52', 'Li Li']\n",
        "# Crea una copia de 'lista_string'. Este método de copia es específico de las listas y también crea una copia superficial.\n",
        "lista_string_2 = lista_string.copy()\n",
        "print(lista_string)\n",
        "print('----------------')\n",
        "print(lista_string_2)\n",
        "lista_string_2[-2] = \"55\"\n",
        "print(lista_string_2)\n",
        "# Cuenta cuántas veces aparece el número 55 en 'lista_numerica'.\n",
        "print(lista_string_2.count('Area 52'))\n",
        "\n",
        "# Crea otra copia de 'lista_string' y añade 'lista_numerica' como un único elemento al final.\n",
        "lista_string_2 = copy.copy(lista_string)\n",
        "print(lista_string_2)\n",
        "lista_string_2.append(lista_numerica)\n",
        "print(f\"EJEMPLO CON APPEND:\\n{lista_string_2}\")\n",
        "\n",
        "print(\"--------\")\n",
        "\n",
        "# Extiende 'lista_string' con los elementos de 'lista_numerica', equivalente a una concatenación de listas.\n",
        "lista_string.extend(lista_numerica)\n",
        "print(f\"EJEMPLO CON EXTEND: \\n{lista_string}\")  # Extend concatena las listas"
      ],
      "metadata": {
        "id": "6OGoYiqSZZba"
      },
      "execution_count": null,
      "outputs": []
    },
    {
      "cell_type": "code",
      "execution_count": null,
      "metadata": {
        "colab": {
          "base_uri": "https://localhost:8080/",
          "height": 141
        },
        "id": "HoHMej9W77Yx",
        "outputId": "7330e64f-85ca-4375-8318-d39d14daa664"
      },
      "outputs": [
        {
          "output_type": "error",
          "ename": "TypeError",
          "evalue": "'str' object cannot be interpreted as an integer",
          "traceback": [
            "\u001b[0;31m---------------------------------------------------------------------------\u001b[0m",
            "\u001b[0;31mTypeError\u001b[0m                                 Traceback (most recent call last)",
            "\u001b[0;32m<ipython-input-51-f35a116b262b>\u001b[0m in \u001b[0;36m<cell line: 1>\u001b[0;34m()\u001b[0m\n\u001b[0;32m----> 1\u001b[0;31m \u001b[0mlista_string\u001b[0m\u001b[0;34m.\u001b[0m\u001b[0mpop\u001b[0m\u001b[0;34m(\u001b[0m\u001b[0;34m'Area 52'\u001b[0m\u001b[0;34m)\u001b[0m\u001b[0;34m\u001b[0m\u001b[0;34m\u001b[0m\u001b[0m\n\u001b[0m",
            "\u001b[0;31mTypeError\u001b[0m: 'str' object cannot be interpreted as an integer"
          ]
        }
      ],
      "source": [
        "\n",
        "# Encuentra el índice del primer 'Area 52' en 'lista_string'.\n",
        "print(lista_string_2.index('Area 52'))\n",
        "\n",
        "# Inserta 'Varyan' al inicio de 'lista_string'.\n",
        "lista_string_2.insert(5,'Varyan')\n",
        "print(lista_string_2)\n",
        "\n",
        "# Elimina y devuelve el último elemento de 'lista_string'.\n",
        "lista_string.pop()\n",
        "print(lista_string)\n",
        "\n",
        "# Elimina la primera aparición de un espacio en blanco en 'lista_string'. Si se ejecuta, causaría un error ya que no hay un espacio para remover.\n",
        "lista_string_2.remove(\"Tyrande\")\n",
        "print(lista_string_2)\n",
        "\n"
      ]
    },
    {
      "cell_type": "code",
      "source": [
        "# Invierte el orden de los elementos en 'lista_string'.\n",
        "lista_string_2.reverse()\n",
        "print(lista_string_2)\n",
        "\n",
        "# Ordena 'lista_string'. Primero en orden ascendente, luego en orden descendente, y finalmente por longitud de los elementos.\n",
        "lista_string.sort()\n",
        "lista_string.sort(reverse=True)\n",
        "print(lista_string)\n",
        "\n",
        "lista_string.sort(key=len)  # Ordena por longitud de los elementos\n",
        "print(lista_string)\n",
        "\n",
        "sorted(lista_numerica)\n",
        "\n",
        "print(lista_numerica)\n",
        "\n",
        "# Crea una lista ordenada de 'lista_numerica' usando la función sorted(), la cual no modifica la lista original.\n",
        "ej_sorted = sorted(lista_numerica)\n",
        "print(ej_sorted)\n",
        "\n",
        "# Intenta imprimir el resultado de 'lista_numerica.reverse()', lo cual es None, ya que reverse() modifica la lista in place y no devuelve nada.\n",
        "print(lista_numerica.reverse())  # Esto imprimirá None\n"
      ],
      "metadata": {
        "colab": {
          "base_uri": "https://localhost:8080/"
        },
        "id": "26WhrUxNa6hW",
        "outputId": "70ae8266-f3b7-47d6-b5a9-8a29bb0569f4"
      },
      "execution_count": null,
      "outputs": [
        {
          "output_type": "stream",
          "name": "stdout",
          "text": [
            "[8, 55, 9.26, 3402, 15.0]\n"
          ]
        }
      ]
    },
    {
      "cell_type": "code",
      "source": [
        "##ORDEN ALFABÉTICO\n",
        "lista_string = ['Area 52', 'Tyrande', 'Elwynn Forest', 'Area 52', 'Thunderfury, Blessed Blade of the Windseeker', 'Area 52', 'Li Li']\n",
        "lista_string.sort()\n",
        "print(lista_string)"
      ],
      "metadata": {
        "colab": {
          "base_uri": "https://localhost:8080/"
        },
        "id": "YlJufbDFQ05d",
        "outputId": "18761016-6985-4a97-8fee-8e76cc4e94e0"
      },
      "execution_count": null,
      "outputs": [
        {
          "output_type": "stream",
          "name": "stdout",
          "text": [
            "['Area 52', 'Area 52', 'Area 52', 'Elwynn Forest', 'Li Li', 'Thunderfury, Blessed Blade of the Windseeker', 'Tyrande']\n"
          ]
        }
      ]
    },
    {
      "cell_type": "code",
      "source": [
        "##ORDEN POR LONGITUD DE LOS ELEMENTOS\n",
        "lista_string = ['Area 52', 'Tyrande', 'Elwynn Forest', 'Area 52', 'Thunderfury, Blessed Blade of the Windseeker', 'Area 52', 'Li Li']\n",
        "lista_string.sort(key=len)\n",
        "print(lista_string)"
      ],
      "metadata": {
        "colab": {
          "base_uri": "https://localhost:8080/"
        },
        "id": "YuGbNE4vRC8N",
        "outputId": "847bcdf9-65ac-47d8-9c3d-a51c6e4e6961"
      },
      "execution_count": null,
      "outputs": [
        {
          "output_type": "stream",
          "name": "stdout",
          "text": [
            "['Li Li', 'Area 52', 'Tyrande', 'Area 52', 'Area 52', 'Elwynn Forest', 'Thunderfury, Blessed Blade of the Windseeker']\n"
          ]
        }
      ]
    },
    {
      "cell_type": "code",
      "source": [
        "### LISTA NUMERICA DE MENOR A MAYOR\n",
        "lista_numerica = [8, 55, 9.26, 3402, 15.0]\n",
        "lista_numerica.sort()\n",
        "print(lista_numerica)"
      ],
      "metadata": {
        "colab": {
          "base_uri": "https://localhost:8080/"
        },
        "id": "GRMwv59YRPFH",
        "outputId": "3f0ddb51-00f9-4403-d232-12ecf51738a5"
      },
      "execution_count": null,
      "outputs": [
        {
          "output_type": "stream",
          "name": "stdout",
          "text": [
            "[8, 9.26, 15.0, 55, 3402]\n"
          ]
        }
      ]
    },
    {
      "cell_type": "code",
      "source": [
        "### ORDEN DE MAYOR A MENOR\n",
        "lista_numerica = [8, 55, 9.26, 3402, 15.0]\n",
        "lista_numerica.sort(reverse = True)\n",
        "print(lista_numerica)"
      ],
      "metadata": {
        "colab": {
          "base_uri": "https://localhost:8080/"
        },
        "id": "PiPDduiSRbA8",
        "outputId": "b392d691-4fe3-4a5c-fca0-d6c82d06cf9a"
      },
      "execution_count": null,
      "outputs": [
        {
          "output_type": "stream",
          "name": "stdout",
          "text": [
            "[3402, 55, 15.0, 9.26, 8]\n"
          ]
        }
      ]
    },
    {
      "cell_type": "code",
      "source": [
        "lista_numeros = [-5, -2, 3, 1, 4]\n",
        "lista_numeros.sort(key=abs)\n",
        "print(lista_numeros)"
      ],
      "metadata": {
        "id": "DQCisHp3Sw1H",
        "outputId": "875e8fd2-cd82-448e-caae-8845ca6880a7",
        "colab": {
          "base_uri": "https://localhost:8080/"
        }
      },
      "execution_count": null,
      "outputs": [
        {
          "output_type": "stream",
          "name": "stdout",
          "text": [
            "[1, -2, 3, 4, -5]\n"
          ]
        }
      ]
    },
    {
      "cell_type": "code",
      "source": [
        "# Modificación de elementos en listas\n",
        "\n",
        "# Cambia el primer elemento de 'lista_mixta' por un número complejo (6+4j).\n",
        "lista_mixta[0] = 6+4j\n",
        "# Imprime la lista modificada para ver el cambio.\n",
        "print(lista_mixta)"
      ],
      "metadata": {
        "id": "umc8aly0FCEJ"
      },
      "execution_count": null,
      "outputs": []
    },
    {
      "cell_type": "code",
      "execution_count": null,
      "metadata": {
        "colab": {
          "base_uri": "https://localhost:8080/"
        },
        "id": "7xx2Mxz_NevB",
        "outputId": "9c501b40-4719-4d17-e758-1e5b6207ba37"
      },
      "outputs": [
        {
          "output_type": "stream",
          "name": "stdout",
          "text": [
            "Soy--un--ejemplo--de--texto.\n"
          ]
        }
      ],
      "source": [
        "# Conversión de String a Lista y viceversa\n",
        "\n",
        "# Se define una cadena de texto.\n",
        "txt = \"\"\"Soy un ejemplo de texto.\"\"\"\n",
        "\n",
        "# Convierte la cadena 'txt' en una lista 'txt_lista', donde cada palabra se convierte en un elemento de la lista.\n",
        "# El método .split() divide la cadena en palabras utilizando espacios como separadores por defecto.\n",
        "txt_lista = txt.split()\n",
        "# Imprime la lista resultante para ver las palabras de 'txt' como elementos individuales.\n",
        "print(txt_lista)\n",
        "\n",
        "# Separador visual en la salida.\n",
        "print(\"----------------\")\n",
        "\n",
        "# Combina los elementos de 'txt_lista' en una nueva cadena 'x', intercalando '--' entre cada palabra.\n",
        "# El método .join() toma una lista de cadenas y las concatena en una sola cadena, utilizando la cadena sobre la que se llama ('--' en este caso) como separador.\n",
        "x = '--'.join(txt_lista)\n",
        "# Imprime la cadena resultante para ver el efecto del método .join().\n",
        "print(x)\n"
      ]
    },
    {
      "cell_type": "markdown",
      "metadata": {
        "id": "si0SZG_OP2EX"
      },
      "source": [
        "## <font color='yellow'>DESAFÍO\n",
        "Imagina que estás desarrollando un programa que necesita procesar información sobre un grupo de estudiantes y sus calificaciones. Aquí tienes las tareas específicas que debes completar:\n",
        "\n",
        "- Tienes una lista de calificaciones de estudiantes: calificaciones = [95, 82, 59, 78, 88, 93]. Un estudiante aprueba si su calificación es 60 o más. Crea una nueva lista llamada aprobados que contenga True o False dependiendo de si cada estudiante ha aprobado o no, utilizando comprensión de listas.\n",
        "\n",
        "- Calcula la calificación promedio de la clase y almacénala en una variable llamada promedio. Imprime el resultado con un mensaje que diga \"La calificación promedio de la clase es: [promedio]\".\n",
        "\n",
        "- A partir de la lista original calificaciones, crea una nueva lista llamada calificaciones_mejoradas donde has añadido 5 puntos extra a cada estudiante cuya calificación original fue menor a 90. Usa comprensión de listas para esto. Asegúrate de que ninguna calificación exceda de 100.\n",
        "\n",
        "- Finalmente, encuentra e imprime la calificación más alta usando la función max() sobre la lista calificaciones_mejoradas.\n",
        "\n"
      ]
    },
    {
      "cell_type": "markdown",
      "metadata": {
        "id": "4ZsdfBrZXTJR"
      },
      "source": [
        "####DICCIONARIOS\n",
        "\n",
        "- **Mutables:** Su contenido puede cambiar durante la ejecución del programa.\n",
        "- **No secuenciales:*** No están ordenados o indexados por un número de secuencia, lo que significa que no se accede a sus elementos mediante un índice numérico.\n",
        "- **Sintaxis con llaves {}:** Se definen encerrando sus elementos entre llaves.\n",
        "- Pares clave-valor: Cada elemento en un diccionario es un par de clave y valor (clave: valor).\n",
        "- **Claves únicas e inmutables:** Las claves deben ser de un tipo de dato inmutable, como cadenas, números o tuplas que contengan solo objetos inmutables. Cada clave es única dentro de un diccionario."
      ]
    },
    {
      "cell_type": "markdown",
      "metadata": {
        "id": "z40qM2MiunHK"
      },
      "source": [
        "<font color='lightblue'>*Si no hay indexación, no se aceptan duplicado de valores (en este caso, duplicado de claves)."
      ]
    },
    {
      "cell_type": "code",
      "source": [
        "# Creación de diccionarios\n",
        "\n",
        "# Este diccionario intenta asignar múltiples razas a la misma clave ('perro', 'gato'),\n",
        "# pero cada clave puede tener solo un valor asociado, por lo que se sobrescriben los valores anteriores.\n",
        "razas = {\"perro\": \"Dachshund\",\n",
        "\n",
        "\n",
        "         \"gato\": \"Bengal\"\n",
        "         }\n",
        "\n",
        "\n",
        "# Este diccionario asocia nombres de razas de animales con su especie.\n",
        "dic_razas = {\"Labrador\": \"perro\",\n",
        "             \"Golden Retriever\": \"perro\",\n",
        "             \"Galgo\": \"perro\",\n",
        "             \"Siamés\": \"gato\",\n",
        "             \"Persa\": \"gato\",\n",
        "             \"Sphynx\": \"gato\"}"
      ],
      "metadata": {
        "id": "uK9KfOw8vSXL"
      },
      "execution_count": 1,
      "outputs": []
    },
    {
      "cell_type": "code",
      "source": [
        "print(razas)"
      ],
      "metadata": {
        "colab": {
          "base_uri": "https://localhost:8080/"
        },
        "id": "PATNA1juvVVI",
        "outputId": "4c8eb8e4-bee0-48e5-d699-4086e91e5145"
      },
      "execution_count": 2,
      "outputs": [
        {
          "output_type": "stream",
          "name": "stdout",
          "text": [
            "{'perro': 'Dachshund', 'gato': 'Bengal'}\n"
          ]
        }
      ]
    },
    {
      "cell_type": "code",
      "source": [
        "print(dic_razas)"
      ],
      "metadata": {
        "colab": {
          "base_uri": "https://localhost:8080/"
        },
        "id": "Cm50zxu3vWke",
        "outputId": "019736ab-462f-4494-e1ad-b8ed26706cf7"
      },
      "execution_count": 3,
      "outputs": [
        {
          "output_type": "stream",
          "name": "stdout",
          "text": [
            "{'Labrador': 'perro', 'Golden Retriever': 'perro', 'Galgo': 'perro', 'Siamés': 'gato', 'Persa': 'gato', 'Sphynx': 'gato'}\n"
          ]
        }
      ]
    },
    {
      "cell_type": "markdown",
      "source": [
        "#####EJEMPLO🎈🎈\n",
        "\n",
        "\n",
        "Imaginemos que estás administrando una pequeña tienda de mascotas. Queremos mantener un registro de las distintas mascotas disponibles en tu tienda y sus características.\n",
        "\n"
      ],
      "metadata": {
        "id": "-z85kr9PEA35"
      }
    },
    {
      "cell_type": "code",
      "source": [
        "# Creación de Diccionarios\n",
        "\n",
        "# Este diccionario asocia tipos de mascotas con una raza específica disponible en la tienda.\n",
        "mascotas_disponibles = {\"perro\": \"Labrador\",\n",
        "                        \"gato\": \"Siamés\"}\n",
        "\n",
        "# Este diccionario asocia nombres de mascotas con su especie y raza.\n",
        "info_mascotas = {\"Buddy\":{\"especie\": \"perro\", \"raza\": \"Labrador\"} ,\n",
        "                 \"Misty\": {\"especie\": \"gato\", \"raza\": \"Siamés\"}}\n",
        "\n",
        "# Imprime los diccionarios creados para verificar la información.\n",
        "print(mascotas_disponibles)\n",
        "print(info_mascotas)\n",
        "# Imprime el número de mascotas registradas.\n",
        "print(\"Número de mascotas registradas:\", len(info_mascotas))\n",
        "print(mascotas_disponibles)"
      ],
      "metadata": {
        "id": "dlFq7RX8P2DM",
        "colab": {
          "base_uri": "https://localhost:8080/"
        },
        "outputId": "c6dc495c-f916-4a35-b990-67c3aef64743"
      },
      "execution_count": 4,
      "outputs": [
        {
          "output_type": "stream",
          "name": "stdout",
          "text": [
            "{'perro': 'Labrador', 'gato': 'Siamés'}\n",
            "{'Buddy': {'especie': 'perro', 'raza': 'Labrador'}, 'Misty': {'especie': 'gato', 'raza': 'Siamés'}}\n",
            "Número de mascotas registradas: 2\n",
            "{'perro': 'Labrador', 'gato': 'Siamés'}\n"
          ]
        }
      ]
    },
    {
      "cell_type": "code",
      "execution_count": 5,
      "metadata": {
        "id": "aC89GHAZwUH-",
        "colab": {
          "base_uri": "https://localhost:8080/"
        },
        "outputId": "38d81c85-459a-4590-ce7d-4f6f57b89623"
      },
      "outputs": [
        {
          "output_type": "stream",
          "name": "stdout",
          "text": [
            "{'Buddy': {'especie': 'perro', 'raza': 'Labrador'}, 'Misty': {'especie': 'gato', 'raza': 'Siamés'}}\n",
            "Información de Misty: {'especie': 'gato', 'raza': 'Siamés'}\n",
            "Información actualizada de mascotas: dict_items([('Buddy', {'especie': 'perro', 'raza': 'Labrador'}), ('Misty', {'especie': 'gato', 'raza': 'Siamés'}), ('Sparky', {'especie': 'perro', 'raza': 'Golden Retriever'})])\n",
            "Especies registradas: dict_keys(['Buddy', 'Misty', 'Sparky'])\n",
            "Razas registradas: dict_values([{'especie': 'perro', 'raza': 'Labrador'}, {'especie': 'gato', 'raza': 'Siamés'}, {'especie': 'perro', 'raza': 'Golden Retriever'}])\n",
            "{'Buddy': {'especie': 'perro', 'raza': 'Labrador'}, 'Misty': {'especie': 'gato', 'raza': 'Siamés'}, 'Sparky': {'especie': 'perro', 'raza': 'Golden Retriever'}}\n"
          ]
        }
      ],
      "source": [
        "### Manipulación de Diccionarios\n",
        "\n",
        "# Vamos a actualizar la información de las mascotas disponibles, ya que acabamos de recibir nuevos animales.\n",
        "mascotas_disponibles.update({\"perro\": \"Golden Retriever\", \"hámster\": \"Dorado\"})\n",
        "\n",
        "# Crearemos una copia del diccionario de información de mascotas antes de hacer cambios.\n",
        "info_mascotas_copia = info_mascotas.copy()\n",
        "print(info_mascotas_copia)\n",
        "# Agregamos una nueva mascota al registro.\n",
        "info_mascotas[\"Sparky\"] = {\"especie\": \"perro\", \"raza\": \"Golden Retriever\"}\n",
        "\n",
        "# Intentamos obtener información de una mascota específica.\n",
        "print(\"Información de Misty:\", info_mascotas.get('Misty'))\n",
        "\n",
        "# Intentamos imprimir la información actualizada de las mascotas.\n",
        "print(\"Información actualizada de mascotas:\", info_mascotas.items())\n",
        "print(\"Especies registradas:\", info_mascotas.keys())\n",
        "print(\"Razas registradas:\", info_mascotas.values())# nos devuelve todos los valores del diccionario\n",
        "\n",
        "print(info_mascotas)\n"
      ]
    },
    {
      "cell_type": "code",
      "source": [
        "# Eliminamos una mascota que ha sido adoptada.\n",
        "info_mascotas.pop('Buddy')\n",
        "\n",
        "# Imprimimos la información final de las mascotas después de las actualizaciones.\n",
        "print(\"Información final de mascotas:\", info_mascotas)"
      ],
      "metadata": {
        "colab": {
          "base_uri": "https://localhost:8080/"
        },
        "id": "nGtrRLYjEq_M",
        "outputId": "d591c46c-8722-4c11-b6eb-7ecb26f06abd"
      },
      "execution_count": 6,
      "outputs": [
        {
          "output_type": "stream",
          "name": "stdout",
          "text": [
            "Información final de mascotas: {'Misty': {'especie': 'gato', 'raza': 'Siamés'}, 'Sparky': {'especie': 'perro', 'raza': 'Golden Retriever'}}\n"
          ]
        }
      ]
    },
    {
      "cell_type": "code",
      "source": [
        "# Actualización y Manipulación de Diccionarios en un Contexto de Tienda de Mascotas\n",
        "\n",
        "# Actualizamos el valor de la clave 'Labrador' a None para indicar que actualmente no tenemos información específica de esa raza.\n",
        "dic_razas = {\"Labrador\": \"perro\",\n",
        "             \"Golden Retriever\": \"perro\",\n",
        "             \"Galgo\": \"perro\",\n",
        "             \"Siamés\": \"gato\",\n",
        "             \"Persa\": \"gato\",\n",
        "             \"Sphynx\": \"gato\"}\n",
        "dic_razas.update({'Labrador': None})\n",
        "print(\"Después de actualizar Labrador:\", dic_razas)\n",
        "\n",
        "# Intentamos establecer el valor por defecto para 'Galgo' (que ya existe) y 'Rottweiler' (que no existe).\n",
        "dic_razas.setdefault('Galgo')  # Ya existe, así que no cambia nada.\n",
        "dic_razas.setdefault('Rottweiler') # No existe, se agrega con valor None por defecto.\n",
        "dic_razas.setdefault('Rottweiler', 'perro')  # No cambia el valor de 'Rottweiler' porque ya se agregó con None.\n",
        "\n",
        "# Creación de un nuevo diccionario con claves específicas y asignándoles a todas el mismo valor 'Mascota'.\n",
        "claves = ['Perro', 'Gato', 'Conejo']\n",
        "valores = 'Mascota'\n",
        "dic_nuevo = dict.fromkeys(claves, valores)\n",
        "print(\"Nuevo diccionario de tipos de mascotas:\", dic_nuevo)\n",
        "\n",
        "# Conseguir y imprimir el primer valor del diccionario 'dic_razas'.\n",
        "primer_elemento = list(dic_razas.keys())[0]\n",
        "print(\"Primer elemento en dic_razas:\", dic_razas.get(primer_elemento))\n",
        "\n",
        "# Imprime el estado actual de 'dic_razas'.\n",
        "print(\"Estado actual de dic_razas:\", dic_razas)\n",
        "\n"
      ],
      "metadata": {
        "id": "XlkH2OlYSZmT",
        "colab": {
          "base_uri": "https://localhost:8080/"
        },
        "outputId": "a889e316-19be-4182-d873-1ab397e070a4"
      },
      "execution_count": 7,
      "outputs": [
        {
          "output_type": "stream",
          "name": "stdout",
          "text": [
            "Después de actualizar Labrador: {'Labrador': None, 'Golden Retriever': 'perro', 'Galgo': 'perro', 'Siamés': 'gato', 'Persa': 'gato', 'Sphynx': 'gato'}\n",
            "Nuevo diccionario de tipos de mascotas: {'Perro': 'Mascota', 'Gato': 'Mascota', 'Conejo': 'Mascota'}\n",
            "Primer elemento en dic_razas: None\n",
            "Estado actual de dic_razas: {'Labrador': None, 'Golden Retriever': 'perro', 'Galgo': 'perro', 'Siamés': 'gato', 'Persa': 'gato', 'Sphynx': 'gato', 'Rottweiler': None}\n"
          ]
        }
      ]
    },
    {
      "cell_type": "code",
      "execution_count": 11,
      "metadata": {
        "id": "BYxi4McRzF4s",
        "colab": {
          "base_uri": "https://localhost:8080/"
        },
        "outputId": "92d1ba2e-6ed5-4c1b-cbc1-e3abaad080b3"
      },
      "outputs": [
        {
          "output_type": "stream",
          "name": "stdout",
          "text": [
            "Diccionario actualizado de plantas y sus estaciones de floración: {'Rosa': 'Primavera', 'Lirio': 'Primavera', 'Girasol': 'Verano', 'Poinsettia': 'Invierno', 'Caléndula': 'Otoño'}\n"
          ]
        }
      ],
      "source": [
        "# Uso de Diccionarios para Relacionar Plantas con Estaciones\n",
        "\n",
        "# Se define un diccionario con varias plantas y la estación en la que florecen.\n",
        "diccionario_plantas = {\n",
        "    \"Rosa\": \"Primavera\",\n",
        "    \"Lirio\": \"Primavera\",\n",
        "    \"Girasol\": \"Verano\",\n",
        "    \"Poinsettia\": \"Invierno\"\n",
        "}\n",
        "\n",
        "# Agrega un nuevo par clave-valor al diccionario, asignando \"Otoño\" como la estación de la \"Caléndula\".\n",
        "diccionario_plantas[\"Caléndula\"] = \"Otoño\"\n",
        "\n",
        "# Al imprimir 'diccionario_plantas', ahora incluirá también la \"Caléndula\" y su correspondiente estación, \"Otoño\".\n",
        "print(\"Diccionario actualizado de plantas y sus estaciones de floración:\", diccionario_plantas)\n",
        "\n"
      ]
    },
    {
      "cell_type": "markdown",
      "metadata": {
        "id": "hqRxiJ7FYMeR"
      },
      "source": [
        "####Tupla\n",
        "* **Inmutables:** Una vez creada, no puedes modificar, añadir, o eliminar elementos de una tupla. Esto las hace ideales para asegurar que ciertos datos permanezcan constantes a lo largo de tu programa.\n",
        "* **Están indexadas:** Puedes acceder a sus elementos mediante índices, al igual que en las listas. El índice de los elementos inicia en 0.\n",
        "* **Definidas con paréntesis ( ):** Aunque los paréntesis son opcionales en la creación de tuplas, su uso es una buena práctica para hacer el código más legible."
      ]
    },
    {
      "cell_type": "code",
      "execution_count": 20,
      "metadata": {
        "id": "S1AMECZ59tSF",
        "colab": {
          "base_uri": "https://localhost:8080/"
        },
        "outputId": "44c75093-d8aa-4ee3-a115-d74df9e6da2c"
      },
      "outputs": [
        {
          "output_type": "stream",
          "name": "stdout",
          "text": [
            "Lista completa de compras: (('Manzanas', 10), ('Leche', 1), ('Huevos', 12), ('Pan', 2))\n"
          ]
        }
      ],
      "source": [
        "# Definición de una tupla para cada artículo de la lista de compras.\n",
        "# Cada tupla contiene el nombre del artículo y la cantidad que necesitas comprar.\n",
        "tupla_compras = ((\"Manzanas\", 10), (\"Leche\", 1), (\"Huevos\", 12), (\"Pan\", 2))\n",
        "print(tupla_compras)\n",
        "# Creación de una tupla que contiene un único elemento: un artículo que recordaste que necesitas, pero solo uno.\n",
        "tupla_unico_articulo = (\"Aceite de oliva\",)\n",
        "print(tupla_unico_articulo)\n",
        "\n",
        "# Al imprimir el tipo de 'tupla_unico_articulo', confirmamos que es una tupla.\n",
        "print(\"Tipo de 'tupla_unico_articulo':\", type(tupla_unico_articulo))\n",
        "\n",
        "# Intento de crear una 'lista' de un solo artículo sin usar la coma, para ver la diferencia.\n",
        "no_es_tupla = (\"Papel higiénico\")\n",
        "# Al imprimir el tipo de 'no_es_tupla', mostramos que es una cadena, no una tupla.\n",
        "print(\"Tipo de 'no_es_tupla':\", type(no_es_tupla))\n",
        "\n",
        "# Imprimimos la lista completa de compras para revisar.\n",
        "print(\"Lista completa de compras:\", tupla_compras)\n",
        "\n"
      ]
    },
    {
      "cell_type": "markdown",
      "metadata": {
        "id": "v5AGya-QYSDE"
      },
      "source": [
        "####Set\n",
        "*   Inmutables -> no se pueden modificar, añadir o eliminar elementos\n",
        "* No Indexados: No puedes acceder a los elementos de un conjunto mediante índices como lo harías en una lista o tupla.\n",
        "* Desordenados: Los elementos en un conjunto no siguen ningún orden específico, y el orden puede cambiar con cada ejecución.\n",
        "* Sintaxis con Llaves {}: Los conjuntos se definen encerrando sus elementos entre llaves.\n",
        "Unicidad: Cada elemento en un conjunto es único; no se permiten duplicados.\n",
        "* Especificidad de Valores: En un conjunto, True es considerado igual a 1, y False igual a 0, debido a cómo Python maneja la igualdad de valores."
      ]
    },
    {
      "cell_type": "code",
      "execution_count": 28,
      "metadata": {
        "id": "qi7Q1-5mYUkk",
        "colab": {
          "base_uri": "https://localhost:8080/"
        },
        "outputId": "35e4c11f-61d5-4f70-e7fd-6b7144905098"
      },
      "outputs": [
        {
          "output_type": "stream",
          "name": "stdout",
          "text": [
            "{'Que', 'Todo', 'Bien', 'Tal', 'Hola'}\n"
          ]
        }
      ],
      "source": [
        "# Definición de dos conjuntos con algunos elementos comunes y otros únicos.\n",
        "campo1 = {'Hola', 'Que', 'Tal', 'Todo', 'Bien'}\n",
        "campo2 = {'Hola', 'Todo', 'Bien'}\n",
        "\n",
        "# La intersección de conjuntos devuelve un nuevo conjunto que contiene solo los elementos que están en ambos conjuntos.\n",
        "# En este caso, imprimiría los elementos comunes a ambos, 'Hola', 'Todo' y 'Bien'.\n",
        "print(campo1.intersection(campo2))\n",
        "\n",
        "# La unión de conjuntos combina los elementos de ambos conjuntos, sin duplicados.\n",
        "# Imprimiría todos los elementos únicos presentes en 'campo1' y 'campo2'.\n",
        "print(campo1.union(campo2))\n",
        "\n",
        "# Imprime los tipos de 'campo1' y 'campo2' para confirmar que son conjuntos.\n",
        "# Se espera que la salida sea <class 'set'> para ambos.\n",
        "print(type(campo1), type(campo2))\n"
      ]
    },
    {
      "cell_type": "markdown",
      "metadata": {
        "id": "1iClaYQCQRvf"
      },
      "source": [
        "## Estructuras de Control de Flujo\n",
        "*  If\n",
        "*  For\n",
        "*  While"
      ]
    },
    {
      "cell_type": "markdown",
      "source": [
        "***EJEMPLO 1 🎈***\n",
        "Supongamos que eres un analista de datos en una empresa de comercio electrónico y debes revisar las ventas diarias de un producto popular para identificar días con desempeño inusual (tanto positiva como negativamente).\n"
      ],
      "metadata": {
        "id": "wUm7BY8kM3EU"
      }
    },
    {
      "cell_type": "code",
      "execution_count": 34,
      "metadata": {
        "id": "-OrTWLAxX3Qw"
      },
      "outputs": [],
      "source": [
        "# Importación de la biblioteca numpy para usar sus funciones estadísticas\n",
        "import numpy as np\n",
        "\n",
        "# Supongamos que estas son las ventas diarias del último mes de un producto específico.\n",
        "ventas_diarias = np.array([120, 150, 130, 200, 180, 90, 80, 220, 210, 140, 160, 190, 110, 130, 150, 170, 200, 230, 180, 190, 220, 210, 130, 140, 160, 180, 200, 220, 240, 210])\n",
        "\n",
        "# Calculamos el promedio de ventas del último mes.\n",
        "promedio_ventas = np.mean(ventas_diarias)\n",
        "print(promedio_ventas)\n",
        "\n",
        "# Generamos un número aleatorio para representar las ventas de hoy.\n",
        "ventas_hoy = np.random.randint(80, 250)  # Supongamos que las ventas pueden variar entre 80 y 250 unidades.\n"
      ]
    },
    {
      "cell_type": "code",
      "source": [
        "# Uso de estructuras de control para analizar el desempeño de las ventas de hoy.\n",
        "print(f\"Ventas hoy: {ventas_hoy} unidades, Promedio de ventas del último mes: {promedio_ventas:.2f} unidades.\")\n",
        "\n",
        "if ventas_hoy > promedio_ventas:\n",
        "  print(\"Las ventas de hoy son superiores al promedio del último mes. ¡Buen trabajo!\")\n",
        "elif ventas_hoy < promedio_ventas:\n",
        "  print(\"Las ventas de hoy son inferiores al promedio del último mes. Es necesario analizar posibles causas.\")\n",
        "else:\n",
        "  print(\"Las ventas de hoy son exactamente iguales al promedio del último mes. Estamos en la línea base.\")"
      ],
      "metadata": {
        "id": "udNnwESbSfPe",
        "outputId": "fb52a1ad-0c82-4d64-84dd-3797765eebaa",
        "colab": {
          "base_uri": "https://localhost:8080/"
        }
      },
      "execution_count": 36,
      "outputs": [
        {
          "output_type": "stream",
          "name": "stdout",
          "text": [
            "Las ventas de hoy son superiores al promedio del último mes. ¡Buen trabajo!\n"
          ]
        }
      ]
    },
    {
      "cell_type": "markdown",
      "source": [
        "**EJEMPLO 2**🎈\n",
        "Imagina que trabajas como analista de datos en una empresa y acabas de realizar una encuesta de satisfacción al cliente. Las respuestas a las preguntas de la encuesta, que miden la satisfacción en términos porcentuales, han sido recopiladas en una escala de 0 a 1 (donde 1 representa el 100% de satisfacción y 0 representa el 0% de satisfacción). Necesitas convertir estas respuestas a valores porcentuales enteros para preparar un informe:"
      ],
      "metadata": {
        "id": "P1nkXUbxOK0H"
      }
    },
    {
      "cell_type": "code",
      "execution_count": 40,
      "metadata": {
        "colab": {
          "base_uri": "https://localhost:8080/"
        },
        "id": "GS0NVAdDcQt4",
        "outputId": "387e0827-3047-4658-abf0-39cb8a0013b4"
      },
      "outputs": [
        {
          "output_type": "stream",
          "name": "stdout",
          "text": [
            "Porcentajes de satisfacción del cliente: [20, 85, 10, 63, 59]\n"
          ]
        }
      ],
      "source": [
        "# Inicialización de una lista vacía para almacenar los porcentajes.\n",
        "lista_porcentajes = []\n",
        "\n",
        "# Se define una lista de resultados de la encuesta de satisfacción del cliente en formato decimal.\n",
        "lista_decimales = [0.2, 0.85, 0.1, 0.63, 0.59]\n",
        "\n",
        "# El bucle 'for' itera sobre cada resultado de la encuesta 'd' en 'lista_decimales'.\n",
        "for d in lista_decimales:# 'd' es la variable que asignamos para darle un valor\n",
        "  # Multiplica el resultado 'd' por 100 para convertirlo en un porcentaje.\n",
        "  p = d * 100\n",
        "  # Añade el porcentaje a 'lista_porcentajes' como un entero, usando 'int(p)' para convertirlo.\n",
        "  lista_porcentajes.append(int(p))\n",
        "\n",
        "# Al final del bucle, 'lista_porcentajes' contiene los valores de satisfacción del cliente convertidos a porcentajes enteros.\n",
        "print(\"Porcentajes de satisfacción del cliente:\", lista_porcentajes)\n",
        "\n"
      ]
    },
    {
      "cell_type": "markdown",
      "source": [
        "***EJEMPLO 3 🎈***\n",
        "Imagina que trabajas como analista de datos para una empresa de comercio electrónico. Se te proporciona un diccionario que contiene la cantidad de ventas de diferentes productos en el último mes. Necesitas revisar y reportar la cantidad de ventas de cada producto:"
      ],
      "metadata": {
        "id": "qMbYH1fcO9--"
      }
    },
    {
      "cell_type": "code",
      "execution_count": 46,
      "metadata": {
        "id": "2_B2Sq1reISM",
        "colab": {
          "base_uri": "https://localhost:8080/"
        },
        "outputId": "161e21b8-ad04-4bf1-f5fc-0dfd3aeea44c"
      },
      "outputs": [
        {
          "output_type": "stream",
          "name": "stdout",
          "text": [
            "Producto: Camisetas - Ventas: 120\n",
            "Producto: Pantalones - Ventas: 90\n",
            "Producto: Zapatillas - Ventas: 60\n",
            "Producto: Sombreros - Ventas: 30\n"
          ]
        }
      ],
      "source": [
        "# Se define un diccionario con los productos y la cantidad de ventas.\n",
        "mi_diccionario = {\"Camisetas\": 120, \"Pantalones\": 90, \"Zapatillas\": 60, \"Sombreros\": 30}\n",
        "print(mi_diccionario)\n",
        "# El primer bucle 'for' itera sobre cada producto en el diccionario.\n",
        "for producto in mi_diccionario: #producto es el nombre que le estamos dando al elemento para que recorra la consulta\n",
        "  print(\"Producto:\", producto)\n",
        "  print(\"Ventas:\", mi_diccionario.get(producto))\n",
        "\n",
        "# El segundo bucle 'for' itera sobre cada par producto-ventas en el diccionario utilizando .items().\n",
        "for producto, ventas in mi_diccionario.items():\n",
        "    # Imprime el producto y la cantidad de ventas.\n",
        "    print(\"Producto:\", producto, \"- Ventas:\", ventas)\n"
      ]
    },
    {
      "cell_type": "markdown",
      "source": [
        "**EJEMPLO 🎈🎈**\n",
        "\n",
        "Imagina que eres un analista de datos que ha recogido respuestas de una encuesta en línea donde los participantes indican si les gustó o no un nuevo producto. Las respuestas se recogieron como 'Sí' para los que les gustó y 'No' para los que no. Necesitas contar cuántas respuestas 'Sí' recibiste hasta alcanzar un número específico de respuestas positivas para determinar si el producto fue bien recibido.\n",
        "\n",
        "\n",
        "\n"
      ],
      "metadata": {
        "id": "1jeV3IvBQpmR"
      }
    },
    {
      "cell_type": "code",
      "execution_count": 64,
      "metadata": {
        "colab": {
          "base_uri": "https://localhost:8080/"
        },
        "id": "XSlwBDlZeRkg",
        "outputId": "a4b51c94-653a-4861-d9da-8a5d85529632"
      },
      "outputs": [
        {
          "output_type": "stream",
          "name": "stdout",
          "text": [
            "Se encontró una respuesta 'Sí'. Total hasta ahora: 1\n",
            "Se encontró una respuesta 'Sí'. Total hasta ahora: 2\n",
            "Se encontró una respuesta 'Sí'. Total hasta ahora: 3\n",
            "Se encontró una respuesta 'Sí'. Total hasta ahora: 4\n",
            "Se encontró una respuesta 'Sí'. Total hasta ahora: 5\n"
          ]
        }
      ],
      "source": [
        "# Inicialización de una lista con respuestas de la encuesta.\n",
        "respuestas = ['Sí', 'No', 'Sí', 'Sí', 'Sí', 'No', 'Sí', 'Sí', 'No']\n",
        "\n",
        "# Inicializa un contador para contar cuántas respuestas 'Sí' hay.\n",
        "contador_si = 0\n",
        "\n",
        "# Establece un objetivo de respuestas 'Sí' que deseas alcanzar.\n",
        "objetivo_si = 5\n",
        "\n",
        "# El bucle 'while' se ejecuta mientras el número de respuestas 'Sí' sea menor que el objetivo.\n",
        "while contador_si < objetivo_si:\n",
        "    # Elimina la primera respuesta de la lista y la guarda en una variable.\n",
        "    respuesta_actual = respuestas.pop(0)\n",
        "\n",
        "    # Comprueba si la respuesta actual es 'Sí'.\n",
        "    if respuesta_actual == 'Sí':\n",
        "        # Incrementa el contador de respuestas 'Sí'.\n",
        "        contador_si += 1\n",
        "        print(f\"Se encontró una respuesta 'Sí'. Total hasta ahora: {contador_si}\")\n",
        "\n",
        "    # Verifica si la lista de respuestas se ha vaciado.\n",
        "    if not respuestas:\n",
        "        print(\"Se han revisado todas las respuestas.\")\n",
        "        break\n",
        "\n",
        "# Imprime el total de respuestas 'Sí' encontradas.\n",
        "print(f\"Total de respuestas 'Sí': {contador_si}\")\n"
      ]
    },
    {
      "cell_type": "markdown",
      "metadata": {
        "id": "fw3uRYXDkY-M"
      },
      "source": [
        "##<font color='yellow'>DESAFÍO\n",
        "\n",
        "Imagina que estás creando un sistema sencillo para gestionar los libros en una biblioteca, por lo cual deberás hacer lo siguiente:\n",
        "\n",
        "\n",
        "- Crear un Catálogo de Libros: Define un diccionario llamado catalogo_libros que almacene algunos de los libros más leídos en España, donde las claves son los títulos de los libros y los valores son los nombres de los autores. Ejemplo:\n",
        "\n",
        "  catalogo_libros =\n",
        "      {\"Don Quijote de la Mancha\": \"Miguel de Cervantes\",\n",
        "      \"Cien años de soledad\": \"Gabriel García Márquez\",\n",
        "      \"La sombra del viento\": \"Carlos Ruiz Zafón\"}\n",
        "    \n",
        "\n",
        "- Búsqueda de Libro en el Catálogo: Pide al usuario que introduzca el nombre de un libro a través de input(). Utiliza un bucle 'for'para recorrer el catalogoLibros buscando si el libro introducido está disponible. Si se encuentra el libro, imprime \"El autor del libro [nombre del libro] es [nombre del autor].\". Si el libro no está en el catálogo, imprime \"Lo sentimos, el libro [nombre del libro] no está disponible.\"\n",
        "\n",
        "- Libros por Autor: Crea un conjunto llamado autores con los nombres de los autores en el catálogo. Usa el método .items() del diccionario y un bucle for para llenar este conjunto (recuerda que los conjuntos no permiten duplicados). Al final, imprime la lista de autores únicos disponibles en la biblioteca.\n",
        "\n",
        "Recomendaciones: Define una tupla llamada recomendaciones con los nombres de tres libros recomendados que no estén en el catálogo inicial. Usa un bucle while para imprimir cada libro de la tupla con un mensaje que diga \"Recomendamos leer: [nombre del libro]\". Incrementa un contador para salir del bucle."
      ]
    },
    {
      "cell_type": "code",
      "source": [
        "#PASO 1: definir el catalogo de libros\n",
        "\n",
        "catalogo_libros = {\"Don Quijote de la Mancha\": \"Miguel de Cervantes\",\n",
        "\"Cien años de soledad\": \"Gabriel García Márquez\",\n",
        "\"La sombra del viento\": \"Carlos Ruiz Zafón\"}\n",
        "\n",
        "print(catalogo_libros)\n",
        "\n",
        "#PASO 2\n",
        "\n",
        "nombre_libro = input(\"Introduce el nombre del libro: \") #para que el usuario introduzca el nombre del libro\n",
        "\n",
        "encontrado = False #damos un valor de referencia para la búsqueda\n",
        "for libro, autor in catalogo_libros.items(): #definimos los nombres para el bucle 'for'\n",
        "    if libro == nombre_libro: #si el 'libro' es igual al nombre introducido imprime el nombre y el autor\n",
        "        print(f\"El autor del libro {libro} es {autor}.\")\n",
        "        encontrado = True #en caso que encontrado sea 'true', finaliza la búsqueda, si no, imprimie el mensaje de más abajo\n",
        "        break\n",
        "\n",
        "if not encontrado:\n",
        "    print(f\"Lo sentimos, el libro {nombre_libro} no está disponible.\")\n",
        "# hay una forma más sencilla con 'if'\n",
        "if nombre_libro in catalogo_libros:\n",
        "  print(f\"El autor del libro {nombre_libro} es {catalogo_libros[nombre_libro]}.\")\n",
        "else:\n",
        "  print(f\"Lo sentimos, el libro {nombre_libro} no está disponible.\")\n",
        "\n",
        "#PASO 3\n",
        "\n",
        "autores_unicos = set(catalogo_libros.values()) #creamos variable donde pedimos a la variable que nos traiga los valores\n",
        "print(\"Autores únicos:\",autores_unicos)\n",
        "\n",
        "#PASO 4\n",
        "\n",
        "recomendaciones = (\"El alquimista - Paulo Coelho\",\n",
        "                   \"El tatuador de Auschwitz - Pepito Pérez\",\n",
        "                   \"Crónicas de una muerte anunciada - Gabriel García Márquez\")\n",
        "contador = 0\n",
        "print(\"Recomendaciones de lectura: \")\n",
        "while contador < len(recomendaciones):\n",
        "  print(f\"Recomendamos leer: {recomendaciones[contador]}\")\n",
        "  contador +=1"
      ],
      "metadata": {
        "id": "wHqpR_sIEtmH",
        "outputId": "31260f5d-6a96-4727-91d8-2690e24385aa",
        "colab": {
          "base_uri": "https://localhost:8080/"
        }
      },
      "execution_count": 87,
      "outputs": [
        {
          "output_type": "stream",
          "name": "stdout",
          "text": [
            "Recomendaciones de lectura: \n",
            "Recomendamos leer: El alquimista - Paulo Coelho\n",
            "Recomendamos leer: El tatuador de Auschwitz - Pepito Pérez\n",
            "Recomendamos leer: Crónicas de una muerte anunciada - Gabriel García Márquez\n"
          ]
        }
      ]
    },
    {
      "cell_type": "markdown",
      "metadata": {
        "id": "9zTrrrl73TKe"
      },
      "source": [
        "## Operadores"
      ]
    },
    {
      "cell_type": "markdown",
      "metadata": {
        "id": "mBrXLUsLKDn9"
      },
      "source": [
        "###Operadores aritméticos"
      ]
    },
    {
      "cell_type": "markdown",
      "metadata": {
        "id": "8u4lyjb7KJZp"
      },
      "source": [
        "![aritmeticos.png](data:image/png;base64,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)"
      ]
    },
    {
      "cell_type": "code",
      "execution_count": 92,
      "metadata": {
        "colab": {
          "base_uri": "https://localhost:8080/"
        },
        "id": "AgQFdDKnKJwg",
        "outputId": "482acf83-11c2-40f9-f1db-650612a3a016"
      },
      "outputs": [
        {
          "output_type": "execute_result",
          "data": {
            "text/plain": [
              "20"
            ]
          },
          "metadata": {},
          "execution_count": 92
        }
      ],
      "source": [
        "200.5 + 10\n",
        "200 - 10.5\n",
        "250 // 23 # 10,8695652173913\n",
        "250 % 23 # resto 20"
      ]
    },
    {
      "cell_type": "markdown",
      "metadata": {
        "id": "APdNsJQa9TyH"
      },
      "source": [
        "### Operadores relacionales"
      ]
    },
    {
      "cell_type": "markdown",
      "metadata": {
        "id": "S7sLbGI_3V93"
      },
      "source": [
        "\n",
        "![relacionales.png](data:image/png;base64,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)"
      ]
    },
    {
      "cell_type": "code",
      "execution_count": 97,
      "metadata": {
        "id": "KF31bqOcGJT6",
        "colab": {
          "base_uri": "https://localhost:8080/"
        },
        "outputId": "6a0640d0-7c0b-44ea-9515-0ebe982d0496"
      },
      "outputs": [
        {
          "output_type": "execute_result",
          "data": {
            "text/plain": [
              "False"
            ]
          },
          "metadata": {},
          "execution_count": 97
        }
      ],
      "source": [
        "125 > 125.02\n",
        "\n",
        "division = 100 / 2\n",
        "# 50 == division\n",
        "\n",
        "\"cincuenta\" != 'cincuenta'"
      ]
    },
    {
      "cell_type": "code",
      "source": [
        "# Se definen dos listas de marcas de automóviles.\n",
        "lista1 = [\"Toyota\", \"Ford\", \"BMW\"]\n",
        "lista2 = [\"Mercedes-Benz\", \"Honda\", \"Volkswagen\"]\n",
        "\n",
        "# Compara si ambas listas tienen la misma cantidad de elementos.\n",
        "print(len(lista1) == len(lista2))  # Imprime True si tienen la misma longitud, de lo contrario False.\n",
        "\n",
        "# Comprueba si la longitud de la primera lista es menor o igual que la de la segunda.\n",
        "print(len(lista1) <= len(lista2))  # Imprime True si lista1 es más corta o igual de larga que lista2.\n",
        "\n",
        "# Compara la longitud del primer elemento de cada lista para ver cuál es más largo.\n",
        "print(len(lista1[1]) > len(lista2[1]))  # Imprime True si el primer elemento de lista1 es más largo que el de lista2.\n",
        "\n"
      ],
      "metadata": {
        "colab": {
          "base_uri": "https://localhost:8080/"
        },
        "id": "Nwzdw5sESjWF",
        "outputId": "30ce8c3b-157a-4a7f-886c-d56216aaf4de"
      },
      "execution_count": 103,
      "outputs": [
        {
          "output_type": "stream",
          "name": "stdout",
          "text": [
            "False\n"
          ]
        }
      ]
    },
    {
      "cell_type": "markdown",
      "source": [
        "**#EJEMPLO 🎈🎈**\n",
        "\n",
        "Supongamos que estás trabajando con una lista de nombres de usuarios que se han recopilado a través de un formulario en línea. A menudo, los usuarios pueden ingresar accidentalmente espacios adicionales antes o después de sus nombres, lo que podría causar problemas al realizar comparaciones o al almacenar estos datos en una base de datos."
      ],
      "metadata": {
        "id": "Nsl8l58BTazE"
      }
    },
    {
      "cell_type": "code",
      "execution_count": 113,
      "metadata": {
        "id": "x0hXM43k4a0W",
        "colab": {
          "base_uri": "https://localhost:8080/"
        },
        "outputId": "3eab7396-6fe7-493e-a3ac-0b3395a8d874"
      },
      "outputs": [
        {
          "output_type": "stream",
          "name": "stdout",
          "text": [
            "\n",
            "Longitud antes de limpiar: 6, Longitud después de limpiar: 5\n"
          ]
        }
      ],
      "source": [
        "# Se define una lista que incluye nombres de usuarios con y sin espacios extra al principio o al final.\n",
        "lista_usuarios = [\"Ana\", \"Carlos   \", \" Diana\", \" Jorge    \"]\n",
        "print(lista_usuarios)\n",
        "\n",
        "# Imprime cada nombre de usuario de la lista para mostrar los espacios al principio o al final.\n",
        "print(\"Nombres de usuarios antes de la limpieza:\")\n",
        "for usuario in lista_usuarios:\n",
        "  print(f\"'{usuario}'\")  # Los apóstrofes ayudan a visualizar los espacios.\n",
        "\n",
        "# Limpia los espacios al principio y al final de cada nombre de usuario usando la comprensión de listas y el método .strip().\n",
        "usuarios_limpios = [usuario.strip() for usuario in lista_usuarios]\n",
        "print(usuarios_limpios)\n",
        "\n",
        "# Imprime cada nombre de usuario después de la limpieza para mostrar la eliminación de los espacios.\n",
        "print(\"\\nNombres de usuarios después de la limpieza:\")\n",
        "for usuario_limpio in usuarios_limpios:\n",
        "  print(f\"'{usuario_limpio}'\")  # Los apóstrofes ayudan a visualizar la ausencia de espacios.\n",
        "\n",
        "# Ejemplo adicional: Compara la longitud de un nombre de usuario antes y después de la limpieza.\n",
        "print(f\"\\nLongitud antes de limpiar: {len(lista_usuarios[2])}, Longitud después de limpiar: {len(usuarios_limpios[2])}\")\n",
        "\n"
      ]
    },
    {
      "cell_type": "code",
      "execution_count": 118,
      "metadata": {
        "id": "fKcBdMpg8MOf",
        "colab": {
          "base_uri": "https://localhost:8080/"
        },
        "outputId": "c6af84a1-5aae-454c-de00-59711ae4d10a"
      },
      "outputs": [
        {
          "output_type": "stream",
          "name": "stdout",
          "text": [
            "Introduce una contraseña: 1234\n",
            "Vuelve a introducir la contraseña: 123\n",
            "Las contraseñas no coinciden\n"
          ]
        }
      ],
      "source": [
        "# Solicita al usuario que introduzca una contraseña.\n",
        "password = input(\"Introduce una contraseña: \")\n",
        "\n",
        "# Solicita al usuario que vuelva a introducir la misma contraseña para confirmación.\n",
        "password_check = input(\"Vuelve a introducir la contraseña: \")\n",
        "\n",
        "# Compara las dos contraseñas introducidas para verificar si son iguales.\n",
        "if password == password_check:\n",
        "  # Si las contraseñas coinciden, imprime un mensaje de éxito.\n",
        "  print(\"Contraseña correctamente almacenada\")\n",
        "else:\n",
        "  # Si las contraseñas no coinciden, informa al usuario que no son iguales.\n",
        "  print(\"Las contraseñas no coinciden\")\n"
      ]
    },
    {
      "cell_type": "markdown",
      "metadata": {
        "id": "o0TeXVRv9ONq"
      },
      "source": [
        "###Operadores lógicos"
      ]
    },
    {
      "cell_type": "markdown",
      "metadata": {
        "id": "3Z9wbub-32Rh"
      },
      "source": [
        "\n",
        "![logicos.png](data:image/png;base64,iVBORw0KGgoAAAANSUhEUgAAAd8AAAEUCAYAAABqLzwvAAAAAXNSR0IArs4c6QAAAARnQU1BAACxjwv8YQUAAAAJcEhZcwAADsMAAA7DAcdvqGQAAABhaVRYdFNuaXBNZXRhZGF0YQAAAAAAeyJjbGlwUG9pbnRzIjpbeyJ4IjowLCJ5IjowfSx7IngiOjQ3OSwieSI6MH0seyJ4Ijo0NzksInkiOjI3Nn0seyJ4IjowLCJ5IjoyNzZ9XX29fIn6AAA5VUlEQVR4Xu2dXWgc2Zn3H79mCLmVd5yZedeoxwl78dKIkGBWkpG/lkBAMkJMZpH7wkaLBWm0vhJrTZrdq116LQddeUUvaFhhX7TFTgZjLPEGwjv+EFZ7GbIE0+xFSOzWeMdxPGtd5mtw8p7nnFNVp6q7parqrtNVrf8PDq6Pruqq5zzn+Tqn5QN/EhBIhMaz55Q78o7eA6B3QBdBVKAzyfK/9L8AAAAAsAScLwAAAGAZOF8AAADAMnC+AAAAgGXgfAEAAADLwPkCAAAAloHzBQAAACwD5wsAAABYBs4XAAAAsAycLwAAAGCZGM73Z1T+i/9DR8129Wf6XHr5z6tpf9YWcpXt+/TvL8TpFx/T35j7PSb98gSd8MXH3zd00Ghd7W9P58s/VUfs6VXzd/v5H/r3i+r833z8P/oYaE87+9VOvkmwV592Rrd1M5LzVQOyQB/qfZcPC+L4D+k/9S4AAGQXdrwn6IMHM/Sjn/8X/dt7f6aPgzh8eM6mAw7iBFHpSFpMwjtfkXkt/OCB2r5YpSdCKWV78I90Sh5cpe8hC+oKF29q2cr2r/TXb4mDb71H/2buA2CDE/9I/+HqomiXv6lPJMO3Ltv5HqJvUkm/U+nb+pDDi/+mb/wTn/s7+pY+BMLj2i/XNwgH/P965Bte3Kcfa7eVNkI73/+88Q90T26JaNAcGMIpLP7zCbX94b+2KJH6yxFNEdBPf+ieC6b0ZpqvtnX0ErxGtGBpyFc2u/gx/UIf99NcKvE9n/keP9XbvQow2pSdXRnpZj6/KT9THkpW5rsb94zSd03sIU/QHxjjzx13rt6oY66+ibH3hW+87l4ha13aC+qV1lfjO93WYnwGx0hQ/5vG/IkCfe+E8/k24y0wpnpmF9LMWyfpu9o1+NjF5re1Ia3sX6tjJvw9Jxy/9YA+4D5lfRR7QZ1odY+u+JBdCOl8/4d+8XO9efE7TdHgm8e/oyOcB/SLz+WGhl/YX6b+8Jzxkiycc6t6R8Ml7KAii2PfM27yReOXesvj3g9OeC8t7vuXTpbOPPgH+iBYK5cd11xC5xJJ0JHL9zjndGLy8DOYnc7K0gpWIFMuTMsSj5CfKQ+WlX/6QLzf3we/Z4++CxJJniAziLHzl0HD8u2/o//QAfe9H6xKZ+oG5xer/jItX+8b46v0vV10uok2eiX5/EnzmBS67umbKjkGx0hbfMbaQRntvcYU74c1uvuGn67SB06x9K90wrarzWdH1qavu4rhz1y4n43AsOs+pJmQzve/6Rf6OU59/c/VRkhO/fMDVYL4eZUuyiMP6McP+cHEwKioTnA/45QpPvxJIDo+QVce8D1UyfXN9/5V31O1H6kb69KGd1+vPO58t4drLIyymnMfx6D4cO6VeDksJKLj/0X2uiOb/3INYnOJR81dmWUg532ca+jBE3qmtlza910zkeUJMs2b731f68Qq/cvVH2pdDFTFJJ5+Prk5ow49+AndbRfEBfBV3LRePbn5HXmEgwCln6q5AcH/va+cu2n83amcKn1XHQrQym48oCt6eHxYCQYMzvN4tuUXDQSZjJs8OE5WyFOV9vew+S9+qbNLQ2dEa5oWCAvrh2vz9D0/fI/epD+jv/7Qu7/Xh6v0YxlAJeRDAoR0vn9O39BKeO+X/602QnGCvnvciYK/Sd/1Pb3n0FUmJjrLjTpFJ5iD8+L3/fOcMuLwonF/ZOvd1422xHfPOk5G4kU+F4vcGYpvnXc6KvD93HHn7Tld35yvVJYWuFG/isxZDm6k9vNf+g2FU6146+v0DXnAk82bua/Lf5vZre+CRJUnyAyBOV/PEH6TStqZ3vtwVerixZst5khPfIdOO2P3299pMmC74+nVqX+e8e797fe0PfCX/HyZisCtkIl3mDWe+69bLqBy7IY51oWRLjoBQyA4dSuA3tiIZhv3Cey83IBsD5tPjn3ybFpS1QRfSbkpe03ChzQT0vn+GX3jL/RmU1YqXuThT7QAZ+i7baOUQKrvRjk8aA1nI9tui4rEgHM6TBsGJ9qQGNHTN/633JA8+6U5MD3hZhWv9G5kBE5r57BjE+i7JrIvT9A5e2Z+xpgPh6dX38gFHabITi46RlONAbeKo3HH/F98fe/xEPnZQDukPXczWmMacU+brxbBmfY8kWkro6SsMvBAVmvJh4RecPWtv9IRYHBVs1kbb5oPNsqUxqozOZCMLMxX0hFZbXk3YbuCEQNOOpmAY3DvK6KnG85z/ox+7AttvGjV/G6vjGBE6ynFy1hX6V8MeX3x8Q/bz8tGYpe+ayL78gRREUGwLitevKgz4B/8fbPuGSVmL0gXYzSUPhh6dc6cj/tYfI9j/LicqDJuv3E0bJZvPvZn9O+t7Iu7OMi0G2b5sXmtC9gF/nWGM83gyD+kzXdWvLslXK4oGHbdsUuePkXDTVxEVi7XJwQDL0s+JLTzNRdZyGjGSdmduj5noS3mQ5vKC24JyEjjzUUd4nPhIlARBMhr+Pd4+pDEE4r3nE6E7OGWB4zvdsrXZhmhF7hzJrq1LL18e8adj3JlLNpf/qB5MVpc2vddM2mWJ+gAc2xyc1eL6jHFOnHZ0UXTWDl4JUQv2zBKyHvglfGc8S7auZ/IIwrv/k0Lq4wx4o2pAv1YHQpglJhdu+HYFrvTTn2DKX/poPaw+W2mE9U6I2PqU9ul4DRDS0xHynoi9PeV3Bc4/ezYNxc7PiS88xXIhU7moh2NTN1bljqF0t40P+9kqwp5Pyc6cpmhv93tR+3mT5sE/N2+srOAIyffMRHhBD8jI7Omd+EouoMJfquoRQNN7xWcH4/N7n3XROblCcLy6uPvB4yM33H5yoTCOf/ILAc72UZYWuoVZ87enLNE3DdYdlZjxFs05dC6eiPgBTot7NGP8Nv6mAj5/5PuO3ZQV38W2eazfVf6YtxLIvqlhS9qJqAngkPv/ZOhE2yjmhdT2fAhB/4k0NvdgyMYGU3wg+xfxW08e065I+/ovQ5xl+izMUjwx//ou76kq7oYAl7QIjMTroh1fQ0CsIFtndlvRMp8QQ9wSjHusn3MPQEAQNaB880SnEWk5XfGAAAAYpNM2RlIULYBaQG6CKICnUkWZL4AAACAZeB8AQAAAMvA+QIAAACWgfMFAAAALAPnCwAAAFgGzhcAAACwDJwvAAAAYJkDTz/7HL/zBQAAACyCP7KRIPiROkgL0EUQFehMsqDsDAAAAFgGzhcAAACwDJwvAAAAYBk4XwAAAMAycL4AAACAZeB8AQAAAMvA+QIAAACWgfMFAAAALBP6j2y8fv1H+vL1a0ryT3IcOED0xsGDdPBgf8QEUX6kbkO+IFt0czxAF0FUfeonnUmjbwn9JDYEy/fn79mPwNiBIL0aD9DF/iRJfUq7zvRqLO1GaOdrS7D7ddDv1/cGu9MLvYAu9i9J9W0WdCZtz5ieHBwAAADYJ/Tc+daXR+jyxiu1A0BIoDfZgPtp7LhqWe4vm/rWLzKLxcs7dFm/+9jxa1TXh/sRZL4pxBx8qs3T+kt9sme8ovX54HOl5dl2p1meqi0/1h+wgHqGFrLyGRu7zxSKwPPJNn+HdvTpvcjP1WjzYY0qBX1gP7DPZdZqvIXW68Nn6ap4981bJRrRh/oVON+UMl1RA1C1JZo4rE/0jEM0sWQ+k2jSOuQo1/Nn2x3HmLlNDuxRGnxLfyAK0rBGicjrtCyMz/1cK2MiAprFe3Tiln4uIc+1YhqDmQJVTPktnaUBfQa0Y3/LbKS07r27aHND+gRwied8H19rG9XsbMzLUokZ/fijHn8GVazqwyBz1DerYpAVKK/390Y5Iqfvx5Y9F2ZTb3Y+vUe1wkz0gIb1fqpMg5VLod+5vrxKg8K5zh3TB3xwQGMEVkOnaZq2aPuF3s8EgYpIhAxPErAl/jJr4N6GvoQitXYqxTKzwS79sjeB9wsGwr57p7sqF8P5CgO6edqLamS07hdArTxBN3Iq8rldGqW1655y1ZcnaPHoinv9vipH9RMiA7xRLdD58UP6wN7Ul+/SSUdvHq7QdHXWN/Ds6E2dbpaJFt4PHzIwbKzHig1aYEcaIYrPz6WhapEcOxvCKy04fbpOC1SmKxth5ymFLdEydfr1qqFP/j4X934yG3A0u5FeO5Vemdlg737ZjZ2Nsq9fNh8agTBXpUzZVHK0OBWlSmWXGM43T3NzhuGS0XqDGmaEUVhxFWLg2CkaedSg57yjDXbFvB60ZK3oRXdRBk+r+RY3Amw1F8UtRnRc/0h4sEhZLzsiM2PM00lh0LafGe9mQW92NlZpLWLWyzKdLOeoknD5v748S2vDJTqXuhJdlYpt9GVg/JIhk0M0emaUao1f6f0wbNGDT1vpd53u+/r8EE1cKFDtk62QWWKv7VQWZdY9OLBx392XgYbol72o3m3pULmiRaWSJ9uhAi0MV+l+pMzaHrHKzn4DLwyGPg66g3+OcoUGhSKHdcBN85uyaafhLGYItqhGRhqnUTpxzIu4QxEoN9mfcuCsd4umx6K8Lxs0vZkgnFkX2XCmcm5QPFc7fQkEdJNCvuERhvhWicg11EaW8vIpbQcdWESF6a2dyqbMuoV/ztcftHbSLwPjS1QpeO9o2sXnja2A05+gxUf6ZAqJ7HxdI+EKdkVELiA5VIYYFhuZL2e9kedM+buFITAXktmecpBZb+TMUhg78ay3Sw0x4JOZQ+IxNcml8Fvh55LTQZ2Wp7gC4hlaLt9GwggIlYzNMmHAgXELGZyk106lV2Y26Ea/eAlGc2ISXOjFLa2LveItuBrOkfMXP2WpTG/vyeF3aVBEZk4ZQHWE2gZtENliMUKWmXjmq7PeqHOmCmOFsXwvvb0XXdEbnfVeiGeIOOJWc0hRF4jsjud4szs3PHhE66bQjSuRsjg/A0dyektwWOj8sMhwOlkwlGI7lVqZ2SBuvzTxNg0O601BfqwgMt9yqhdZmUR2vgPjMzT9qEyTOmu6kStFiFxEFiEn2NW1k42Z6FFf3yMiYycj5VYkESWmxTC/ovXFGFkvIxz/+cKWdF7yva7naCF05tu53nRlPnXokvyZ0nakBSLz6n1FtlMj5/2dDFoFBDyH58qFW9TVrz0jT+d4oZKzPmGqQSd8/eLpMjsvpyToZiqBaQi1oM3J/nkluFowZH4m7PRLeu1UemVmg736xT9enPKyM96CK53V4jJ3wRmPTx0ge58JP1ZtE/p/Nfrt77/UW8nz1a+8obeyTZT/FcSmfEG26MZ4gC4Ch7D61I86kybfEq/sDAAAAIDYwPkCAAAAlgntfPk/I7aBre9JG/v1vcHu9EIvoIv9S1J9mwWdSdszhna+bxw8mPjD8/35e/YjNuQLskWvxgN0sT9JUp/SrjO9Gku7EXrBFYhOlAULACQJdBFEBTqTLJjzBQAAACwD5wsAAABYBs4XAAAAsAycLwAAAGAZOF8AAADAMgeefvY5VjsDAAAAFjnwm9/9Ac43IX798gv62uE39R4AvQO6CKICnUkWlJ0BAAAAy8D5AgAAAJaB8wUAAAAsA+cLAAAAWAbOFwAAALAMnC8AAABgGThfAAAAwDJwvgAAAIBl4HwBAAAAy8D5AgAAAJaB8wUAAAAsA+cLAAAAWKbnzre+PEKXN16pHQBCAr0BXeXxNRqbv0M7eheApEHmm0Ze3qHLx0doTLflx/q4JXY25tt87ytan/eea2y5ro9ng9S9V6Cf3ZYaJ1Cn5VbPJ5ptnUwPAV0xGoJBb4w1NQQ2TcD5pg5h8KbKNFip0eZD0W6VaLs4T+sv9emIRMsQlWG5QqdoWh8x2dko04Mz6+q5Hq7QdHU2IwYnyffie8fsn8Nn6ar8Tq9VCuL40XdpQH2ix+RpTj/X7dIo0XCJbuv9uSH9kX3HIZpY0v0lO6tAFS2Tq+OH1Ef2MQPjS0o2PI7E/rRjx5bOpkSn00M858slGiOqMaNgjnzYcLHRb3U+GDkWq/owkOxsrNKaMHLnHOMmDPT5whY9+DSqk1NyLj4p0QchjQI7oe0LbETe1Uf88MDyDEyeTgrbU2v8Su+HIZBJGRlmknqT7HsJY3whR4tT3cgG63S/OkoL7+f1fvpxgjsz4/HkwP3tD0yagkGfLYkaxLTXJ3lfsW8+VzCg8mVp3TRETgnbrGy4z6b0OGgz/dUW/3sFnzvTSJlcE29ovKORFTfJwv28g98O+OWWLWI4XyG0zdM6uhFNRH9rRVM4wnCVJ+hGTmUSHDGvXfeEW1+eoMWjK+71MngEfgKZzzu50RhOTss5QsTJTijJjKa+fJdOOnqjM0zTCCWlN0m/Fw1d0hWKzgylDLwKMzRxWB/ICNxvk42Zlv22K2xYiw1auKV1osJBjN+W7MZe+kRi33kutlO1ctW7t3CQk+Wcm7WqLLaLPCrT5FSDzvO9hW6MVFdDBhbsXGZpu+RVYgaFfDsP7NJElYrHV2lQ9rvoNyGrmyHfz28H1mnhSVaqb83EcL55mpszIvOh0zRNDWqYilVYcTOJgWOnaORRg57zjhhsN6oFqpjXAx9SXuZAFTK7Ut7SOyGQkaIevEnKWRivYsQsLT93SWiPg8owt58ZAycNehPjvSSyhKwMZbxovE43y5SprNeFy9G6b3z9tgc7n94jKpW8YGOoQAvDVbof0hDvqU/Gc/ntlHBw16s0XTGv7zZCh27p+x8epRPDW7T9Qp7YnZdb9IDMalWeznFAs5ndDK8V05Ul3e8t+q0tXBky7QBXnURQ9clWJueTY5WdzdLgmDD0a/o46ALCiH9QIlnGlPJdJDovBt9I7m39gd1hg1bT24khMxY2Xs4ACgmX41y9SeGUQ9z3ChI6y/FQ0w2naDRjWS8zcmbUq67IICScU3ve2JJZs6cTIqt5pE+GIc365OtLNU8cqvryokE1zpqN95qMEnxnggKdNGSRnws5X/7yKW3LrNmTTVenCywT2flyTb7I0YdTruGygT4HuoO3aEG0pbNEwkgNHgmhnAJ1bScZ2B6wg5oSKZrIrCOVcl3H5uhNyqYc4r6XA1/vVBweRnXenPVu0fSF/bcoZcQtr3otlPzTrk+dYCxsc5uNqk8mMH2PbhldzBVvwdVwjt7Rm/XlCJnv4XdpUEQuTllJOXK1DVrDVYYirUR0CLxKVc2HdHWJv+GgQkWqTYzS4Ft6U5Z39fZeJK03nb6Xvp5XqMe5vmmRXV/hlVuD/ZYf43nYcuQqgUdMfRKZaO4oeaVc7cht4pZZxXP7Mlsuj4vM98pGNucxu8KTp9pm1eUvP9xKnizfi8w3w4usTCI734HxGakcTlnkRq4UIfMVTkGEp2tFXU5pzKifMAAD/0pHuQApVtSrSl2VoxEGslvGUwGV00/OYo/6R2og+EuFIVeo6lXbbjn9eo4WQmcqHepNku/F84eL9+jErZg/vxGGn+f0+zPrbe43X3bKC9XkIitH5txCLrjqSJ/Ek82pBVryWl4YxYui9LlkEeNyoUTk6Jp47opPlzlw1pUrVybdWEmfDQbGS7RAjn9ZFQGt2S9s03RSYcgmqwuuDvzmd3/4k94GXebXL7+grx1+U+8B0DugiyAq0JlkiVd2BgAAAEBs4HwBAAAAy8D5AgAAAJaB8wUAAAAsA+cLAAAAWAbOFwAAALAMnC8AAABgGThfAAAAwDJwvgAAAIBl4HwBAAAAyxx4+tnn+POSAAAAgEUO/Emgt0GXaTx7Trkjzv//BEDvgC6CqEBnkgVlZwAAAMAycL4AAACAZeB8AQAAAMvA+QIAAACWgfMFAAAALAPnCwAAAFgGzhcAAACwDJwvAAAAYJnQf2Tj9es/0pevX1OSf5LjwAGiNw4epIMH+yMmiPIjdRvyBf1D1LECXex/um0/+0ln0uhbQj+JDcHy/fl79iMwdiAKSY4V6GI26aX9TLvO9FI27QjtfG0Jdr8O+v363iA+SekMdDG79KrvsqAzaXvG9OTgAAAAwD6h5863vjxClzdeqR0AQgK9AV3l8TUam79DO3o3SXY25mns+Ihqy3V9FEhe3qHLjmyOX6N+lg4y3zTiU8ARWn6sj1vCMQ7N3/uK1ue958qa4Ujve9Vpmb+3yfjr42az5CAULb5fN9s6mS5aySW8oxgYX6LNhzW6XRrVR/oLDoz9somgL4fP0lUhm81bJRrRh/oVON/UIQb2VJkGK0IBtRJuF+dp/aU+HZFoGaJyQlfoFE3rIyY7G2V6cGZdPdfDFZquzmYk+0zyvfje8ftHZlzH79JgW0NcoIp8Lt2WztKAPpM8eZrT3ysdxXCJbuv9uSH9kX3LKC3cMvrl4SUhLeAwUnLGE/SlHfGcrzQYraMazi7YcJnRjz/q8WcZxao+DCQ7G6u0JozcOUdZRSR4vrBFDz6N6uSUnItPSvTB+CF9bHfYCW1fqNHV8Xf1ET8csV9175WnkwWiWuNXej8MgYzByDCT1Jtk3+sQTVzI0eJUnGxQyON6Tji0S8KUZxMnuDNLqZ4cuL/9gUlTMOizJVGDmPb6JO8r9s3nCgZU5rmxLhsi3707fa9gtaMjmaWAXfzH3vjtQFPFIUOyieF8hWJsnvaimkqB1op+AdTKE3QjpyIfjpjXrnvKU1+eoMWjK+714nIQ5Oi7vuzmndxoDCen5RwhU2InlGSEWl++SycdvdEZpjnwktKbpN+Lhi7pCkXUeWiRWVrNZJOB+22yMdOy33aFp1eKDS+DrHAQE758u5c+kdh3novtVK1c9e4tjPRkOedVFbppiMR73aSSfi6WCdHiYvjpgvryLG2bmaOpIx3KrPfs7T92gwNp0w74Kg4Zk00M5ysMxpxRYBk6TdPUoIYZYRRW3Exi4NgpGnnUoOe8I4Rzo1qgink98CHlVV31IjYhsyvlLb0TAlbA43rwJilnYbyK1VFaeD/8d+TnzNKcyjC3nxnOKg16E+O9JHKuaoUGhSPq7pxxlYppj+S5HK37xtdve7Dz6T2iUokmDusDQwVaGK7S/ZCZ0J76ZDyX306J7Ol6laYrnZSKt2S1w82yzOxU6MKcUW2KIhOH2idbLZ11pzKzBQdkrTPQEP5jL6p3WzrUrMjGIVbZ2SwNjglDv6aPgy4gBu4HHCk7A3uR6LzIJkZyb+sP7A4rYE1vJ4aMMNl4LXmKHoZAuSl1Uw5x3yuIGTx1hDfn6kXy6XPAI2dGvcxMBiHhnNrzxlbASE/Q4iN9Mgw91afAnK+vghEojU6VI43J/Nw6LVCZJvX1Zjbfscws4Z/z9Y+nTvwHV7EqBS8gNStNWZGNQ2Tny3MZRc5CXMGutFzEAuLDCmYOahJKNXjEi6R3Q12bRAamYQcljAmJwRWplOs6NkdvUjblEPe9HPh6p+IQMDZdQ2YJ/UVwYQ63UPJPsT7JKRLyFqdFX7l7iCaWvGt5OsN0wLFllgK64T/yc961bOdMB5wl2cRbcDWcI+cvfvL8ROjI5fC7NEheGUB1hNoGreEosUgrERWIMyYRPT+Z7e5PUwwH5S1QisIoDb6lN2V5V2/vRdJ60+l76et5hXo8uYRDjrXhUzSahGNPjC3afqG2gv2WH+N52HIHmXxMfRLOLXeUaG1TB6fakXcVd92GyIIXo2W+PqTue3QusxQQ13808TYNDutNQdZkE9n5DozP0PQjryRyI1eKELkIpyAn2NW1vBiiX3/rFh//Ske5ACnWXKeKnitHy3RlI+QiILeMpwaE009O1F3/SBmR9vM5u6BXbbvl9Os5WgidqXSoN0m+lzSu9+jErTgRtleenOR5fWdcOQFTsKwqgjC7PzXqlOZ+82WnvFBNltK9dwz9e9mO9Ek82ZxaoCWvnWrQ+cjZaXvy74t7Ofc+PkHbZ8x7B/rc+ZxbpQqsdNbVFFe3OpFZCtjLf3CAJt9JBLM1d72D836Bcr5eVOoGvBmTTej/1ei3v/9SbyXPV7/yht7KNlH+VxCb8gX9Q9ixAl3cP3TLfvajzqTJt8QrOwMAAAAgNnC+AAAAgGVCO1/+z4htYOt70sZ+fW8Qn6R0BrqYXXrVd1nQmbQ9Y2jn+8bBg4k/PN+fv2c/YkO+oH9IcqxAF7NJL+1n2nWml7JpR+gFVyA6URYsAJAk0EUQFehMsmDOFwAAALAMnC8AAABgGThfAAAAwDJwvgAAAIBl4HwBAAAAyxx4+tnnWO0MAAAAWOTAb373BzjfhPj1yy/oa4ff1HsA9A7oIogKdCZZUHYGAAAALAPnCwAAAFgGzhcAAACwDJwvAAAAYBk4XwAAAMAycL4AAACAZeB8AQAAAMvA+QIAAACWgfMFAAAALAPnCwAAAFgGzhcAAACwDJwvAAAAYBk4XwAA6CYv79Dl4yM0Jts1quvDAJjgfzVKkI7+VxAewFNlqhVWaHMurw8q6ssjVKzqneES3V46SwN6t/fUafn4LK21eq7H12jMffBRWri1RBOH9W4KUHJtfi6fvCV2nr35exXTlRrNDemdkMTTRd2Xes8kzjNkiZ2NeZosb+k9xUhpna6OH9J7IZBjuEHnH14i/wjOBnF0ppXcJKmzU70HmW8KYQUeWyQ6UdAHTIQDK5JwyA9roq3TApVpcjklsTU71+N3abA0qg+YCENeJKrI567R7RLR4lRasgJ2MiN0P1eiEX0kCDsbJXNu8R0vO9TLG6/Uzh7k58zvFO0WP98oDb6lP5A4eZrT332b+5QNqN7vZ8frwoGvfl9ukRzvPmVgfEnLa4Wmxb47buB4m4jlfKVzcMsqI7T8WJ9g2ADP36Eds/SSFueQBYTcrjRmpLLm9CEfQ5eMTPgQjZ4RRvHJU9rRR3qHcGDXc8I4XxLuoRVsyL0MYODYKeFIGtR4qQ/siXKQrt6xjukzRK9ofV7pITs39Zl5Wg957/ryKg3eEg7lmD6QCOoZi09K9EFMI77z6T2qFWZSVy3gYMK0CZ494D7z90NT8CEDtuh9JvGVd0Uz7Yw8x8GdoTc+nekQ33MHbOCeKF3wrg8GoX5dDxusZYI9+kXqUct+dAjILsO+JbrzFUo3Wc65GcxmpUBrxcCgeSSyMVluEec5Wq+uRhtU+5nDZ+lqoMycDYRzTSy65QE3S9uldR1Vt87414ojdCOnPlMpbNHiR+EGZn4u6RIyG5oJWjwqMqnYMqrTzTLRwvvp041aeYImOWAUcucMee16SCfHhrXYoAUR+ChbkotQDREynSrToFuREJlWdTbgqKpUPK4CK3le2KWbkZxkO8R3b57W38vPzTYw7HOzgykrXXCu95Wlg7q+QoNCvtGce9qJ3y/1ZT2OpGyEHXgS7PPsENH5CsW4XqWRUsFTFpGJsaF78KkpAJ4T0wp1eJRODG/R9gt5AnQTYbyulLdo+kJIgy6jSCNqDESPwYqG07o/8IUeLfJ8dsgs7nGVFh8V6LybMR6iiQUO6u76DV5hxS0N5scKXa0IsGN35BFpsEuZa2PaQVC1s7FKaynLel24HK3fTVY0HjXoudzbHc7kqVTy3mmoQAvDVbofQt+kPMT3nnPL3yL4E06w9smWr8+nK05glaeTQiW2n0XoO+HMW48D8V1mXw6dpulIVRxBUHcdXgpbSmZ1JE/nOKDZDOvas0G8fqnT/WqBKkblb+JCc59nhVhl58Eje5TNhk/RqGskhICW9skckVVU5E/CqIeWLWfVbrRtNMdwuvM1/tbtvpPRqzAwjsEOxXCO3tGb7ZgeMw3ipa7NM/nnXlUmEtYBy1Kx3o4PZ70iyDLfL0WMnBn15Cx1LNwCo+eNLZk1ew5O6MUjfTIMR9/do38LdNLQXe7HSPO2gTlfcxx40xvcWi9KawePs0qBsz91vU+XXjSoxpVD994jrRcwZZqY/fLyKW3LrNmTjbeAM3vEcr7+KOUVNZ7oTWAJLmOKAW9keqFIQebLRqvI0WtUxxjMpthI6U27qEg9LCqgUQ477vxUc5bXP/AKYtPBBZ3crgQqGzvPGnorWXicSB12n1ktLoqCF9C1COaMhW1uixKo9jWm3HVLbLorWSI6X7XAp1aueiWTppIgSBbP8UYekD3OfF3HG/WnF7KsV6UbG46BajH9YYvH18Q7jNKJY1H0nRebqfmp6It+dNYbdmohdXhTTsppqW2GpwZq5XKs9SCqvG3OFVqWk1GJqS9Hy3z9vE2Dw3qTYV0X73VlI1xlpS9xgypV3XODbDmFKTLfDC+yMomc+bKBvl1qeKm/XDAR0ZiCXWDnqmQrDZUz7+RmpyIL4o2281G9gheKqGeRZTKndOY4G5F135CGN1A2CjWQ2Hnp7FFepxZddOunH27GLwf6Fi1O8Xc4iwi9/pBN/lwqzgItNf1SORrNsErDntmsV83DOvPlvChL7Hrw1IBcZGXIN+wfpeBA8laJtt25eDWv3u0pklYMjM9IB+mUhm/kSr7M169Pjr477+WNE9WCuhzUddX6a8FVewbGS2oxpXzvVRqsmD//4zGkg1hDNlldcIU/spEgHf2RDQC6CHQRRAU6kyyx5nwBAAAAEB84XwAAAMAycL4AAACAZeB8AQAAAMvA+QIAAACWgfMFAAAALAPnCwAAAFgGzhcAAACwDJwvAAAAYBk4XwAAAMAyB55+9jn+vCQAAABgkQN/Euht0GUaz55T7she/wstAMkDXQRRgc4kC8rOAAAAgGXgfAEAAADLwPkCAAAAloHzBQAAACwD5wsAAABYBs4XAAAAsAycLwAAAGAZOF8AAADAMqH/yMbr13+kL1+/pk7+JMeBA0RvHDxIBw/uD58f5Ufq3ZAvSBdp0nfoYjaAzsQna/4l9FN2Q7B8Pd8HNANj139kVd+hi70DOhOfrMkutPPtlmAxqFsDufQnWexX6GJvgc7EJ0uyy0Z+DgAAAPQRcL4AAACAZUIvuPrt77/UW53z1a+8obf6mygLFlz5Pr5GY8Wq2jYprNDmXF7vJEWdlo/P0prekwyX6PbSWRrQu73D/2wjpXW6On5I71ng5R26PFWmWot+qC+PkNtlLeSVBn2PpYut9EEzXanR3JDe6TfajUEqUOXhJUp6FDJZ1ZmdjXmaLG/JbR8W7UhW/Aucb4LEM3hBXtH6/AQ9OBPW2bDBvEsnYxmJTq5NkqAMlFOgmA5AGojGTOhgRn7+k1O0cLRMixRwvmyoN0/rY+o5F4/6P5Nd5+vhyCAdgZgtoo697pF9nelsjHZCVvxLrLIzD8Sx4yNuW36sTzBsjObv0A5nCs5nluv6JIjMyy168KhA50MP/jydKzWoeHye1l/qQ9bgAefphdQDfUYZMqUrnCmqz4R8xsdVWvTJgN9xlNY2o+sVf/dkOUeVkI6XM94r7KiF08npQz6GLhmO9hCNnhklevLUeO/+huV5eeOVzyZ49oD1wd/Hzudd2F44+hJVZ00bw820M/LcNfEEhk769LED9ri3lEXLZ3FQY6Hlc/c7kJ1LdOcrBos0Xg9rtMmtUqC1YmDQPCrT5FSDzvP5WyUaqa72wBH0B/WPykSlQqRMdGB8SfRLjhanAoFRovCgmKXt0rrSi4frtEBCDwKDY604Qjdy6jOVwhYtfhRy8AznyIzBB44IVxjJyalBW3xSottRMvvDZ+lqWEe9T6mVJ1QlQfTpbQ6Krod0cmxYiw1auOXYEtZZ09DuhjDeU2UaFJmV0rcVmq7O+h07VUUQukqD8v7ivLBLN7s2HuLfu76sqyPOOHkSfO5+B7JjIjpfYcCuV2nEdAYi8mcj+uBTUwCjYkBpA3d4lE4Mb9H2C3kCREEYpxvVKFmvAWdkIvDZFs4umnLywHAiywiZSFN2eogmFjjwuus3poUVt4SXHyuEc6BDpwMDVBjelnNy7eAoWw/aJMumor+ulLdo+sJ+Ks0KeD5PBygDx07RyKMGPZd7u7Pz6T0RWJZo4rA+MFSgheEq3Q9hiHc2VmlNfO85t6SZpzmRCNQ+2fLp03RlSd8/TyeFum0/656hjnfvOt0XY9qrvIhxcqH5ufsdyC5m2XnwyB7OYPgUjToDigW01MeLMxKEs95a4bQKYjqgVq76HWBbhAGTEaVuMhOJ4IAD2WkrpseMt+EAIZQzVIaVs2YVFNylk2Kfjr4bzsk9vtty0VB3UZkYicx/v+n6yJlRrx+4UhCysvC8sSWzZreEyAHSI30yDHv2f4FOGn2Rn6t1ce425r1fPqVtX4ArWqRAsh+A7JhYztcfpbyixhO9CbqHzHpHaeH9mK6X59LcslzMBVSccerNUAQznhcNqunNjmFH7QYGl+idZw0ayb2tT+6BvFaVqLo27+eDM+tZWjOyehAOXrXu9atqoYOXQNVkR+hENuBV0/53TrQi01f0j+wiOl+1oMSXSTWVG0E3UFnvjFeSiwI7Xj2X1kkWVl8WDsVXxdgF6airdGPDCcxaTFF0CWfl7QeRdE5VYCpHyzTpW8DRKZ7jDbt6en/hTTlxv5mJCk871MrlWOtBVHnbPxVxM00lfzcwUBURNwiV03Aie9tPi6yisk9kFznz5cU8t+VqWiftZyOftp+mZBzhPIuxs16hsEUS0aEzpxIB38rTESryz2pCR5Vcsl6hQbeMqOZYu5MJ+lc4ysU9MaNdLnFJ/Q09gNm5anmw46iK7Jn39fVy7pE3nOO62Vvolmb80wXcbzxb4MIVCb0w0JNdyMCIy9t6TYO6Ti32S0PJf2C8pBYbyudapcFKiUb0ORUE6iqM+85R12X0L/tJdvidb4J053e+IOv0w+98gV2gM/Hp69/5AgAAACA+cL4AAACAZUI7X/6PirtBt+7Tb0Au/UkW+xW62FugM/HJkuxCO983Dh7s+MX4er4PaKYb8gXpIqv6Dl3sHdCZ+GRNdqEXXIHoRFmwAECSQBdBVKAzyYI5XwAAAMAycL4AAACAZeB8AQAAAMvA+QIAAACWgfMFAAAALHPg6WefY7UzAAAAYJEDv/ndH+B8E+LXL7+grx1+U+8B0DugiyAq0JlkQdkZAAAAsAycLwAAAGAZOF8AAADAMnC+AAAAgGXgfAEAAADLwPkCAAAAloHzBQAAACwD5wsAAABYBs4XAAAAsAycLwAAAGAZOF8AAADAMnC+AAAAgGXgfAEAAKSDl3fo8vERGpPtGtX14X4E/6tRgnT8v4I8vkZjxSpRYYU25/L6YBp4RevzE7T4aJQWbi3RxGF9OMXsbMzTZHlL7xWo8vASWZGo04cOPerLeLpYp+Xjs7Sm90ymKzWaG9I7maNf36u7xLVf9eURMlWeiSxXdsJTDTpva5z2ADjfBOnM+bKBWGU/IYzETKqcr3RkjRxNVxs0mAXnKx0guQ5XPv8np+j20lkaUJ/YFf78FSrR1fFD+khcVNDy4Mx6F+4VjU4Dwagyywr9+l7doBPneyPXoY7vA+cbuezMgvWVA3SZ4PLGK7UvUJ9x2jytv9QnBHyOP8tK73xm+bE6BzzqyyIyL8zQuZw+kBZEf18pEy28f1ofCAk7QF9fsyMS/T9/h3b0kWT0RnzP9SqNlAruIB4Yn6HpR/doy7j/bvDnB8sTNLbcaRHsEOWO6s0+Yfd+4QCydT+6aL1Qzf/ZPfGVKEXruH88dn0vfmZDb1u9p3ldv5dPI+Pr86j2X9uNdrLtRJ8sE9n55ufWaWG4SkWp6EIQi8ISl7woh5Wu+KREtx/WaFO02yWixSm/gGrCkE02RDYnz4/S2nVTkQErULFaoEqqSs2M09+l6Nnu0CXV10WlCzsbZVoU2aSTcSStN4NHzCj8bRoc3qLtF3p3T/I091Do/ZPZgNGNSp3uV0fpxDG7WW/SxO4Xdp7FBi3cUn2+Wck19Xl7hMObKtNgRV/7cIWmq7N+x94hsd9LjN/Jco4q8rn42gYVO9KbfkL02+Zp3Wfc5wXXJoRB2o2jK971ZmbckT7ZJ8aCq0M0scSKvkrrG1VpQD9wywt1ulneoukLXglnYLwknfV9M7oZFkZWO5aBY6do5FGDnss94GRq05V45RZ/9hiIAIOZgtPCZgyPg/0djYHxJaoUqnRj447QE5E9Lzh6kqTeHKLRM37DKQfwI70TGtb7GlWOlmkyYibjZUGqmpGFOfJIxBzPO5/e8wdyQ4XmPm/DzsYqrYnvPefOI4oASRjy2idb3XNyMd+rvukfv1ErLf0ABy6ejTEzUNFPZlIxdJqmqUGNKLKp3m05/jrRp14Qc7UzK7qIKsoiynANqMMoDb6lN9swIoyhe83hs3S1j+v6UXEiu7iLPvJzTkRoNj0vK2Xd4rw5GNoiIlaOKpv6Oxr5uRUaLJdpuyl7Tk5vpCMndprKGFyhGTEo9/6+9nAAET7D4qDDkfXt3GqH2XP6iNsvzxtbASPNi/j0yTAcfbcjXdyLeO/1ihpPSGRzzjtxa724q58ZKa0bNsa/LsSfIESTjRPAF/X1ZqWjY32yTDznK9N7okrLtD5YzvsVbadYAOniFW2JyJ2qs64CyRW6cj/c/EVime/ju2KQbIn+dq7jQaP3Q8+18XzNrFAcdsATgbmeJPVGZa2OMbg6TuLeOcr5nP9eqLkmpzQedzEJKj1+/EZatdCB55OnviBm51lDb/UeXt3rf69s/CogaeT0Ek+puXJZEZlvNLwEQ9kR0wF3pE+WieF8nXm/AuWHLqkoxDW+eTrJq3N9Jb5geQi0x+8kuPFck/x5SsjBm1jmK/rafx0PGv6pUcjrBc4877khVSL05nps6g0vjuEAIEq1hR2viKJ5rqnDVbH1j8pUK5yO8N1ZxwuqlOFV20x+rCAylXKsRTEqiCnTTTeAa566SBQ3gFIBpZe96WmOCPOY+47hHL2jN+XCUr0dHV67oTcFnehTL4jofLURMub98u+XaIQzM+2A2fireTGVIcmFB1jGv+9hwztpzvPq+Ziinj9NVG98KyBXaVAEDFGiYQ4a+OdBcX7u5c33qlaktP1mO0mcIEv3aWNGBOv6FMMBnayeefIJvTKYA8lbJdp2y7uztC2yHitZjpN0yO+doO0L/uyNS6NykZX7TqJhwZVEzX974/xGruSTnTtepkSQSo6MHZ1Q1SdXplxWFgGxW4XqRJ96AH7nmyCd/rYSgG4BXQRRgc4kS8wFVwAAAACIC5wvAAAAYBk4XwAAAMAycL4AAACAZeB8AQAAAMvA+QIAAACWgfMFAAAALAPnCwAAAFgGzhcAAACwDJwvAAAAYJkDTz/7HH9eEgAAALDIgT8J9DboMo1nzyl3xPn/OwDoHdBFEBXoTLKg7AwAAABYBs4XAAAAsAycLwAAAGAZOF8AAADAMnC+AAAAgGXgfAEAAADLwPkCAAAAloHzBQAAACwT+o9svH79R/ry9WtK8k9yHDhA9MbBg3TwYH/EBFF+pG5DviBd2NR36GI2SJMNzJrOZM1/hH5KG4Ll+/P37Edg7PYfadV36GLvyKoNTIPOZE12oZ2vLcHu10G/X997v5PGfocu9pYsyj8tz5wl2WUjPwcAAAD6CDhfAACIRJ2Wj4/QmGzztP5SHwYgAnC+aebxNTXAl+v6QFp4Revz2TI8Oxvz2lhyuybMpyWcPnRa6vpyN0wn42/Lj/VHssrLO3Q5+F7zd2hHn96dPM09rNHmwxWa1keAwj/O4sh2/xB6tfNvf/+l3kqer37lDb2VbaKsFmyWLxu+VaIC0RrN0OZcXh/vPTzAJhs5mq42aPDWEk0c1ifSCjvAIlHl4SVhNvXzf3KKbi+dpQH1ifCw0Z5q0Hl9r2hw0DJBD86s09XxQ/qYHX3vTBc7lFka6agfHdQYTWIMpMEGdm6/ZsWgq9HckD5kiaz4j8iZb32ZIxkjc9AR5OWNV2pfoD7jNH92xOf4s2aElPkoOgHqy7O0Vpihczl9IC2I/r5SJlp4/7Q+EBKdAXp9rbNnIyJORm/E91yv0kip4BrZgfEZmn50j7aiZu38DlNlGqzENdiHKHdUb/YJu/cLG+DW/ejiqwxErKQEs9euVhWc6o5uETM3Ux7c/LoauHemqiEdIvuM/YdRVTFkK+VmysP9vEP/yC6y883PrdPCcJWK8qWFIBaFJS55kTwLr/ikRLdlWaZGt0tEi1P+Ml+tPCEyJ5HNyfOjtHYdJQkfwiAVqwWqpCjbVTj9XYoe6Q9dUn1dVLqws1GmRRJ6ojOppPVm8IiXaRK9TYPDW7T9Qu+GQBqFYoMWbnUSydfpfnWUThwznyX7xO4XNqxapnztZiXX1OftEcZbBkL6Wi4BV2f9jr0DdjaqIsJ07i1sHpXpykbIe8sANUcVea1qps7Ulydo8eiKd+8n3XvubCD8h6wY8PuLfntUppshE7B+kl2MOd9DNLHEir5K60JB2YB+4JbQ6nSzvEXTF7zS1MB4STrr+6Zwh4WR1Y5l4NgpGnnUoOdyD0gHJzK16ZjZlT97dJrOKIKZgtPCRo+Pg/0djYHxJaoUqnRj447QE2HbFhw9SVJvDtHoGb9DkI7/kd4JAct0UhrTeOVFLwtS1YzUl+mjEnM873x6zx/IDRWa+7wNOxurtCa+95zr1PI0VylQ7ZOtCIE8O4HW42Bg/JLRT0qHao1f6f0wtHsPDsDMwFrY0wtRnzv7TFecsZSnkwWi7WdhHGh/yS7mgitWdBGllkXU6hpQh1EafEtvtmFEKLJ7zeGzdLWjeZf+QjoGEdnFza7yc1607TWt6FLWLc67yrwbItPgLKWpv6ORn1uhwXKZtpuy5+T0RjpykblMaiN7hWaEkd/7+xQ84PVmTDjocGR9O7fad4tP4vbL88aWzJpd53dcZDURgiI6+m5HusgLKszs1DcOAoHqpAgOQ8MyEIHAWlFfb/b3y6e0HXT6xQ4VLHMU6KRh39hmmWsg2tJnsovnfGW5iKjSskwULOf9irajDKh9zSvaElEcVWdd5ZKDXu6Hmw9LLPN9fJfWRN8uTjnXiSzO2Q8978LzNbwIgx3wRGAeLEm94WqNZ2SvjotI+1GOcj7n3w61svV2qSEGfcQ5yRag0uNnpLTuOT/dQgeeT576gpidZw291SmqpM3Tac4zcTk9EkOX3GsrR0Xg5wu4Ak6fW78sZEuc/pFdDOfrzPsVKC8UjMuIav6XUSUEf4kvWB4C7fE7CW5y0Bd4jiNcyTOxzNcwJqrxzyxG1XxdqMxZZ/XEuqBKhM78r1294YUeHABEq7bI7FUGm50tEKx/VKZa4XSk7842XlAl5/WNRCU/VhCZbzlWQKOCGHOusHnqolPcdQJyDjdC5hvgnZzhuA+P0gl3zQxoiRtUqSCoJrcFfSa7iM6XM5cJ37xf/v0SjXBmpgXCxl9GejqrknNliOr2PWx4J815Xj2/V9QrGRPVG9+KWrXQI1ZZnwOQWyXadoOGvfHme1UrkgikQgYr2ccJsnSfNmZEsK5PMSxPHdB4MgopWw4kZV84183StshU4y+GM8nTObk4UN97qkEnzMzX1Sej+mNURYJ97tdlDrDVQiHzM/trwVV7/FNEYqxWhH/R5/pNdvidb4J0+ttKsD/Iwu98gV2y/zvf3tG3v/MFAAAAQGfA+QIAAACWCe18+T8qtoGt70kb+/W99ztp7HfoYm/JovzT8sxZkl1o5/vGwYOJvxjfn79nP2JDviBdpFXfoYu9I6s2MA06kzXZhV5wBaITZcECAEkCXQRRgc4kC+Z8AQAAAMvA+QIAAACWgfMFAAAArEL0/wEy8o7phkSzIgAAAABJRU5ErkJggg==)"
      ]
    },
    {
      "cell_type": "markdown",
      "metadata": {
        "id": "JsEOeJ5E4F8P"
      },
      "source": [
        "Buscando un resultado en **True**:\n",
        "*  AND, &: todos los elementos deben ser True\n",
        "*  OR, |: basta con que uno de los elementos sea True"
      ]
    },
    {
      "cell_type": "code",
      "execution_count": 127,
      "metadata": {
        "colab": {
          "base_uri": "https://localhost:8080/"
        },
        "id": "1dCByqDGF_zm",
        "outputId": "10f5ab04-87f9-4006-b2bc-ae70233f10e0"
      },
      "outputs": [
        {
          "output_type": "stream",
          "name": "stdout",
          "text": [
            "False\n"
          ]
        }
      ],
      "source": [
        "# Inicialización de variables booleanas\n",
        "a = True\n",
        "b = False\n",
        "\n",
        "# Uso del operador lógico 'or' para evaluar la expresión.\n",
        "# La operación 'or' devuelve True si al menos uno de los operandos es True.\n",
        "resultado_or = a and b\n",
        "\n",
        "# Al imprimir 'resultado_or', mostrará True porque 'a' es True.\n",
        "print(resultado_or)  # Este print muestra el resultado de 'resultado_or'.\n"
      ]
    },
    {
      "cell_type": "code",
      "execution_count": 129,
      "metadata": {
        "id": "EADPmYQ3IlQN",
        "colab": {
          "base_uri": "https://localhost:8080/"
        },
        "outputId": "9fba254f-8159-4c0b-ddc2-1e7c02ef8a3c"
      },
      "outputs": [
        {
          "output_type": "execute_result",
          "data": {
            "text/plain": [
              "False"
            ]
          },
          "metadata": {},
          "execution_count": 129
        }
      ],
      "source": [
        "# Invertir booleano\n",
        "resultado = not a\n",
        "resultado"
      ]
    },
    {
      "cell_type": "code",
      "execution_count": 132,
      "metadata": {
        "id": "p0RZO2aOIs7E",
        "colab": {
          "base_uri": "https://localhost:8080/"
        },
        "outputId": "39d834d0-c4d2-414e-f597-4bfab60fea89"
      },
      "outputs": [
        {
          "output_type": "stream",
          "name": "stdout",
          "text": [
            "Introduce un número: 125\n",
            "False\n"
          ]
        }
      ],
      "source": [
        "# Solicita al usuario que introduzca un número entero.\n",
        "numero = int(input(\"Introduce un número: \"))\n",
        "\n",
        "# Evalúa si el número es par y mayor que 100 utilizando el operador lógico 'and'.\n",
        "# La expresión completa solo devuelve True si ambas condiciones son verdaderas:\n",
        "# 1. 'numero % 2 == 0' verifica si el número es par.\n",
        "# 2. 'numero > 100' verifica si el número es mayor que 100.\n",
        "es_par_y_mayor_que_100 = (numero % 2 == 0) and (numero > 100)\n",
        "\n",
        "# Imprime el resultado de la evaluación.\n",
        "# Mostrará True si el número cumple ambas condiciones; de lo contrario, mostrará False.\n",
        "print(es_par_y_mayor_que_100)  # Este print muestra el resultado de 'es_par_y_mayor_que_100'.\n"
      ]
    },
    {
      "cell_type": "markdown",
      "metadata": {
        "id": "FX9HZUYnRSz6"
      },
      "source": [
        "###Operadores de pertenencia"
      ]
    },
    {
      "cell_type": "markdown",
      "source": [
        "EJEMPLO 🎈🎈\n",
        "\n",
        "Imagina que trabajas en el departamento de servicio al cliente de una compañía que acaba de lanzar un nuevo producto y has recibido una serie de comentarios de los clientes. Quieres analizar rápidamente estos comentarios para ver cuántos mencionan un término específico relacionado con el producto, como podría ser el nombre del producto."
      ],
      "metadata": {
        "id": "BOKdZOjGryVh"
      }
    },
    {
      "cell_type": "code",
      "execution_count": 137,
      "metadata": {
        "id": "qBJd5yG-RaW-",
        "colab": {
          "base_uri": "https://localhost:8080/"
        },
        "outputId": "ca7e5e81-788e-467e-baa5-95bb31fc98c7"
      },
      "outputs": [
        {
          "output_type": "stream",
          "name": "stdout",
          "text": [
            "Total de menciones de 'EcoFriendlyBottle': 5\n"
          ]
        }
      ],
      "source": [
        "# Se define una variable de cadena con el nombre del producto.\n",
        "nombre_producto = \"EcoFriendlyBottle\"\n",
        "\n",
        "# Se define una lista con varios comentarios de clientes.\n",
        "comentarios = [\n",
        "    \"Realmente amo mi nueva EcoFriendlyBottle, ¡es perfecta para llevar al trabajo!\",\n",
        "    \"No estoy seguro de si la EcoFriendlyBottle vale su precio.\",\n",
        "    \"¿Alguien ha probado la EcoFriendlyBottle? Estoy pensando en comprar una.\",\n",
        "    \"Preferiría algo más colorido que una EcoFriendlyBottle.\",\n",
        "    \"¡La EcoFriendlyBottle mantiene mi bebida fría por horas!\"\n",
        "]\n",
        "\n",
        "# Contador para los comentarios que mencionan el nombre del producto.\n",
        "contador_menciones = 0\n",
        "\n",
        "# Utiliza el bucle 'for' para iterar sobre cada comentario.\n",
        "for comentario in comentarios:\n",
        "    # Utiliza el operador 'in' para verificar si el nombre del producto aparece dentro del comentario.\n",
        "    if nombre_producto in comentario:\n",
        "        # Incrementa el contador si el nombre del producto se encuentra en el comentario.\n",
        "        contador_menciones += 1\n",
        "        print(f\"Comentario mencionando '{nombre_producto}': {comentario}\")\n",
        "\n",
        "# Imprime el total de menciones encontradas.\n",
        "print(f\"Total de menciones de '{nombre_producto}': {contador_menciones}\")\n",
        "\n"
      ]
    },
    {
      "cell_type": "code",
      "source": [
        "# Se define una lista de valores que contiene números enteros y flotantes.\n",
        "lista_valores = [10, 55.5, 100, 155]\n",
        "\n",
        "# Utiliza el operador 'not in' para verificar si 55 no está presente en 'lista_valores'.\n",
        "# Esta operación devuelve True si 55 no se encuentra en 'lista_valores', y False si 55 está presente.\n",
        "print(55 not in lista_valores)  # Esto mostrará True, ya que 55 no está en la lista, aunque 55.5 sí."
      ],
      "metadata": {
        "colab": {
          "base_uri": "https://localhost:8080/"
        },
        "id": "UekoybP1TRQ3",
        "outputId": "33c1d401-20fc-47a0-9c04-db7204a8120b"
      },
      "execution_count": 139,
      "outputs": [
        {
          "output_type": "stream",
          "name": "stdout",
          "text": [
            "True\n"
          ]
        }
      ]
    },
    {
      "cell_type": "markdown",
      "metadata": {
        "id": "bCIBhXClOJsb"
      },
      "source": [
        "###Caso ejemplo de los 4 operadores 🎈\n",
        "\n",
        "Imagina que eres el organizador de un evento escolar que involucra juegos matemáticos. Uno de los juegos consiste en que los estudiantes encuentren números que cumplan con ciertas condiciones."
      ]
    },
    {
      "cell_type": "code",
      "execution_count": 143,
      "metadata": {
        "colab": {
          "base_uri": "https://localhost:8080/"
        },
        "id": "SEi3vTdII_PM",
        "outputId": "47a8e81d-8825-47d2-ba2e-2547faf9fa9e"
      },
      "outputs": [
        {
          "output_type": "stream",
          "name": "stdout",
          "text": [
            "Introduce un número para el juego del 1 al 100: 36\n",
            "¡Bien hecho! El número es múltiplo de 2 y 3 pero no es un número especial del juego.\n"
          ]
        }
      ],
      "source": [
        "# Se crea una lista de números especiales para el juego, que son múltiplos de 6.\n",
        "lista_especiales = [6, 12, 18, 24, 30]\n",
        "\n",
        "# Se solicita al usuario (un estudiante en este caso) que introduzca un número para verificar.\n",
        "numero_estudiante = int(input(\"Introduce un número para el juego del 1 al 100: \"))\n",
        "\n",
        "# Primera condición: Se verifica si el número es múltiplo de 2 y 3 pero no está en 'lista_especiales'.\n",
        "if numero_estudiante % 2 == 0 and numero_estudiante % 3 == 0 and numero_estudiante not in lista_especiales:\n",
        "    # Si se cumplen todas las condiciones, se informa al estudiante.\n",
        "    print(\"¡Bien hecho! El número es múltiplo de 2 y 3 pero no es un número especial del juego.\")\n",
        "\n",
        "# Segunda condición: Se verifica si el número está en 'lista_especiales'.\n",
        "elif numero_estudiante in lista_especiales:\n",
        "    # Si el número está en la lista de especiales, se informa al estudiante.\n",
        "    print(\"¡Encontraste un número especial del juego!\")\n",
        "\n",
        "# Si ninguna de las condiciones anteriores se cumple, se informa al estudiante.\n",
        "else:\n",
        "    print(\"El número no cumple con las reglas del juego.\")\n"
      ]
    },
    {
      "cell_type": "markdown",
      "metadata": {
        "id": "MbrZCaKi0DYO"
      },
      "source": [
        "##Funciones"
      ]
    },
    {
      "cell_type": "code",
      "execution_count": 145,
      "metadata": {
        "id": "QPtNi2CO1UC1",
        "colab": {
          "base_uri": "https://localhost:8080/"
        },
        "outputId": "afd6038a-3fef-4e1d-e18a-ca617a4e0046"
      },
      "outputs": [
        {
          "output_type": "stream",
          "name": "stdout",
          "text": [
            "Funcion ejecutada.\n"
          ]
        }
      ],
      "source": [
        "# Definición de una función simple que no recibe argumentos. Una función es un conjunto d instrucciones, y las agrupamos, para poder llamarla\n",
        "def ejemplo_funcion():\n",
        "  # Devuelve una cadena de texto que indica que la función fue ejecutada.\n",
        "    return \"Funcion ejecutada.\"\n",
        "\n",
        "# Llamada a la función 'ejemplo_funcion' y muestra su resultado.\n",
        "print(ejemplo_funcion())\n",
        "\n"
      ]
    },
    {
      "cell_type": "code",
      "source": [
        "\n",
        "# Definición de una función que suma dos valores pasados como argumentos.\n",
        "def suma_dos_valores(a, b):\n",
        "  # Imprime el resultado de la suma de 'a' y 'b'.\n",
        "  # Nota: Generalmente, es mejor usar 'return' para devolver valores en lugar de imprimirlos directamente dentro de la función.\n",
        "  return print(a + b)\n",
        "\n",
        "# Llamada a la función 'suma_dos_valores' con dos números como argumentos.\n",
        "suma_dos_valores(5, 7)\n",
        "\n",
        "\n",
        "def suma_dos_valores(a, b):\n",
        "  # Retorna la suma de 'a' y 'b'.\n",
        "  return a + b\n",
        "\n",
        "# Llamada a la función y muestra el resultado.\n",
        "print(suma_dos_valores(5, 7))\n"
      ],
      "metadata": {
        "colab": {
          "base_uri": "https://localhost:8080/"
        },
        "id": "8xTUAcgFS-kL",
        "outputId": "37e384b4-567d-452e-fbf0-bd7ab03644c4"
      },
      "execution_count": 149,
      "outputs": [
        {
          "output_type": "stream",
          "name": "stdout",
          "text": [
            "12\n"
          ]
        }
      ]
    },
    {
      "cell_type": "markdown",
      "source": [
        "**EJMEPLO 🎈🎈**\n",
        "\n",
        "Imagina que eres un analista de datos en una empresa que necesita evaluar regularmente las ventas diarias. Quieres comparar el número de ventas de cada día con un objetivo de ventas aleatorio para ver si las ventas fueron mayores, menores o iguales al objetivo."
      ],
      "metadata": {
        "id": "NTirXIbdaF1U"
      }
    },
    {
      "cell_type": "code",
      "execution_count": 162,
      "metadata": {
        "id": "e0uDdHhX1UO-",
        "colab": {
          "base_uri": "https://localhost:8080/"
        },
        "outputId": "8cb219bb-31f9-4069-f32d-1097ca7964c4"
      },
      "outputs": [
        {
          "output_type": "stream",
          "name": "stdout",
          "text": [
            "Introduce el número de ventas del día: 200\n",
            "Excelente! Tus ventas (200) superaron el objetivo del día (89).\n"
          ]
        }
      ],
      "source": [
        "# Importa la biblioteca numpy para generar objetivos de ventas aleatorios.\n",
        "import numpy as np\n",
        "\n",
        "# Define una función que compara el número de ventas ingresado con un objetivo de ventas aleatorio.\n",
        "def evaluar_ventas(ventas):\n",
        "    # Genera un objetivo de ventas aleatorio entre 50 y 100.\n",
        "    objetivo_ventas = np.random.randint(50, 101)\n",
        "\n",
        "    # Compara el número de ventas ingresado con el objetivo de ventas y asigna un mensaje apropiado a 'resultado'.\n",
        "    if ventas > objetivo_ventas:\n",
        "        resultado = f'Excelente! Tus ventas ({ventas}) superaron el objetivo del día ({objetivo_ventas}).'\n",
        "    elif ventas < objetivo_ventas:\n",
        "        resultado = f'Ánimo, tus ventas ({ventas}) estuvieron por debajo del objetivo del día ({objetivo_ventas}).'\n",
        "    else:\n",
        "        resultado = f'Bien hecho, tus ventas ({ventas}) alcanzaron exactamente el objetivo del día.'\n",
        "\n",
        "    # Imprime el resultado de la comparación.\n",
        "    return print(resultado)\n",
        "\n",
        "# Solicita al usuario que introduzca el número de ventas del día.\n",
        "ventas_usuario = int(input(\"Introduce el número de ventas del día: \"))\n",
        "\n",
        "# Llama a la función para evaluar las ventas ingresadas por el usuario.\n",
        "evaluar_ventas(ventas=ventas_usuario)\n",
        "\n"
      ]
    },
    {
      "cell_type": "markdown",
      "metadata": {
        "id": "oAxQRl6Ay-Ye"
      },
      "source": [
        "### Built-in\n",
        "\n",
        "[Lista funciones built-in](https://docs.python.org/es/3.8/library/functions.html)"
      ]
    },
    {
      "cell_type": "markdown",
      "metadata": {
        "id": "HH2MmwVL0GrR"
      },
      "source": [
        "La funcionalidad de *args en Python permite a una función aceptar un número variable de argumentos sin nombre. Python recoge todos los argumentos pasados a la función y los agrupa en una tupla, facilitando su manejo dentro de la función.\n",
        "\n",
        "Aunque se usa comúnmente el término \"args\" por convención, puedes usar cualquier nombre siempre que esté precedido por un asterisco (*), que es lo que indica a Python que agrupe los argumentos en una tupla."
      ]
    },
    {
      "cell_type": "markdown",
      "source": [
        "**EJEMPLO 🎈🎈**\n",
        "Supongamos que trabajas en una tienda y necesitas una función que pueda sumar los precios de cualquier cantidad de productos que un cliente decida comprar. Aquí es donde puedes utilizar *args para permitir que la función acepte cualquier número de argumentos."
      ],
      "metadata": {
        "id": "-JTwcuSCczu5"
      }
    },
    {
      "cell_type": "code",
      "execution_count": 161,
      "metadata": {
        "id": "hxmxS7S03Gsy",
        "colab": {
          "base_uri": "https://localhost:8080/"
        },
        "outputId": "30aef299-2fa6-447d-dfdd-f0bc8ef32249"
      },
      "outputs": [
        {
          "output_type": "stream",
          "name": "stdout",
          "text": [
            "El total de tu compra es: $49.48\n"
          ]
        }
      ],
      "source": [
        "# Definición de la función 'calcular_total_compra'.\n",
        "# El asterisco (*) antes de 'precios' indica que la función acepta cualquier número de argumentos.\n",
        "def calcular_total_compra(*precios):\n",
        "    total = 0  # Inicializa la variable 'total' a 0.\n",
        "\n",
        "    # Itera sobre cada precio en 'precios'.\n",
        "    for precio in precios:\n",
        "        total += precio  # Suma cada 'precio' al total.\n",
        "\n",
        "    return total  # Devuelve el total de la compra.\n",
        "\n",
        "# Ejemplo de llamada a la función con distintos números de productos.\n",
        "total_compra = calcular_total_compra(15.99, 23.50, 9.99)  # El cliente compra tres productos.\n",
        "\n",
        "# Imprime el resultado de la función, que será el total de los precios pasados como argumentos.\n",
        "print(f\"El total de tu compra es: ${total_compra:.2f}\")  # Esto imprimirá el total formateado a dos decimales.\n"
      ]
    },
    {
      "cell_type": "markdown",
      "metadata": {
        "id": "_RD_PE_J26jF"
      },
      "source": [
        "###**Kwargs\n",
        "Cuando tenemos indefinido el número de argumentos que recibirá la función. Python automáticamente toma todos los valores de los argumentos y los almacena como diccionario.\n",
        "\n",
        "Por convención se utiliza la palabra \"args\" (*argumentos con clave*) pero puede sustiturise por cualquiera siempre en presencia de un asterisco al principio."
      ]
    },
    {
      "cell_type": "markdown",
      "source": [
        "EJEMPLO 🎈🎈🎈\n",
        "\n",
        "Imagina que estás programando una función que acepta datos de perfil de diferentes usuarios. No sabes de antemano qué información proporcionará cada usuario, por lo que quieres una función que pueda manejar diferentes tipos de datos."
      ],
      "metadata": {
        "id": "IAISwb9XmXp5"
      }
    },
    {
      "cell_type": "code",
      "execution_count": null,
      "metadata": {
        "id": "eL0NULHJ49bC",
        "colab": {
          "base_uri": "https://localhost:8080/"
        },
        "outputId": "c733b4fd-5207-4449-ba67-be3c59ce4a57"
      },
      "outputs": [
        {
          "output_type": "stream",
          "name": "stdout",
          "text": [
            "Perfil del Usuario Creado:\n",
            "Nombre: Elena\n",
            "Edad: 28\n",
            "Ciudad: Barcelona\n",
            "Hobby: Escalada\n",
            "Perfil del Usuario Creado:\n",
            "Nombre: Miguel\n",
            "Ciudad: Valencia\n",
            "Ocupacion: Desarrollador Web\n"
          ]
        }
      ],
      "source": [
        "# Definición de la función 'crear_perfil_usuario'.\n",
        "def crear_perfil_usuario(**datos_usuario):\n",
        "    # Inicia la impresión del perfil del usuario.\n",
        "    print(\"Perfil del Usuario Creado:\")\n",
        "    # Itera sobre cada par clave-valor en los datos del usuario.\n",
        "    for clave, valor in datos_usuario.items():\n",
        "        # Imprime cada clave y valor en el formato especificado.\n",
        "        print(f\"{clave.capitalize()}: {valor}\")\n",
        "\n",
        "# Llamada a la función 'crear_perfil_usuario' con diferentes datos para distintos usuarios.\n",
        "crear_perfil_usuario(nombre=\"Elena\", edad=28, ciudad=\"Barcelona\", hobby=\"Escalada\")\n",
        "crear_perfil_usuario(nombre=\"Miguel\", ciudad=\"Valencia\", ocupacion=\"Desarrollador Web\")\n"
      ]
    },
    {
      "cell_type": "markdown",
      "source": [
        "EJEMPLO 🎈🎈🎈🎈\n",
        "\n",
        "Imagina que eres un analista de datos y necesitas una función flexible para analizar diferentes sets de datos de ventas. Quieres poder ingresar un número variable de datos de ventas, especificar un tipo de análisis (como media, mediana, etc.), y proporcionar opciones adicionales como el año o la región de las ventas."
      ],
      "metadata": {
        "id": "zHhtpLVqoT97"
      }
    },
    {
      "cell_type": "code",
      "execution_count": null,
      "metadata": {
        "id": "y5ecCKgA5F_U",
        "colab": {
          "base_uri": "https://localhost:8080/"
        },
        "outputId": "221e0cd7-4938-4d5d-bcf0-ba07d8d08cc7"
      },
      "outputs": [
        {
          "output_type": "stream",
          "name": "stdout",
          "text": [
            "arg1: A\n",
            "args: ('B', 'C')\n",
            "arg2: D\n",
            "kwargs: {'kwarg2': 'E'}\n"
          ]
        }
      ],
      "source": [
        "# Importa las bibliotecas necesarias para cálculos estadísticos.\n",
        "import numpy as np\n",
        "\n",
        "# Definición de la función 'analizar_ventas'.\n",
        "def analizar_ventas(mes, *ventas, tipo_analisis=\"media\", **opciones):\n",
        "    # Imprime el mes del análisis.\n",
        "    print(f\"Mes del análisis: {mes}\")\n",
        "    # Imprime los datos de ventas proporcionados.\n",
        "    print(\"Datos de ventas:\", ventas)\n",
        "    # Realiza el análisis de ventas basado en el tipo especificado.\n",
        "    if tipo_analisis == \"media\":\n",
        "        resultado = np.mean(ventas)\n",
        "    elif tipo_analisis == \"mediana\":\n",
        "        resultado = np.median(ventas)\n",
        "    elif tipo_analisis == \"suma\":\n",
        "        resultado = sum(ventas)\n",
        "    else:\n",
        "        resultado = \"Tipo de análisis desconocido\"\n",
        "    print(f\"Resultado del análisis ({tipo_analisis}):\", resultado)\n",
        "    # Imprime las opciones adicionales proporcionadas.\n",
        "    for clave, valor in opciones.items():\n",
        "        print(f\"{clave.capitalize()}: {valor}\")\n",
        "\n",
        "# Llamada a la función con diferentes tipos de argumentos para un análisis completo.\n",
        "analizar_ventas(\"Enero\", 200, 300, 400, tipo_analisis=\"media\", año=2024, región=\"Norte\")\n"
      ]
    },
    {
      "cell_type": "markdown",
      "source": [
        "EJEMPLO 🎈🎈🎈\n",
        "Supongamos que estás desarrollando una función para un sistema de gestión de usuarios en una aplicación web. Diferentes usuarios pueden proporcionar diferentes cantidades de información personal al registrarse. Quieres una función que pueda manejar esta variabilidad de manera eficiente."
      ],
      "metadata": {
        "id": "KR9UpbdEpGJL"
      }
    },
    {
      "cell_type": "code",
      "execution_count": null,
      "metadata": {
        "id": "qpDrHOX36X9V",
        "colab": {
          "base_uri": "https://localhost:8080/"
        },
        "outputId": "e7bacfb4-9458-411a-fba5-cda917f500b7"
      },
      "outputs": [
        {
          "output_type": "stream",
          "name": "stdout",
          "text": [
            "Usuario 1: {'nombre': 'Carlos', 'edad': 30, 'email': 'carlos@ejemplo.com'}\n",
            "Usuario 2: {'nombre': 'Melisa', 'edad': 'Desconocida', 'email': 'melisa@ejemplo.com'}\n",
            "Usuario 3: {'nombre': 'Anónimo', 'edad': 'Desconocida', 'email': 'No especificado'}\n"
          ]
        }
      ],
      "source": [
        "# Definición de la función 'configurar_usuario'.\n",
        "def configurar_usuario(**kwargs):\n",
        "    # Crea un diccionario 'usuario' con valores predeterminados o valores proporcionados a través de 'kwargs'.\n",
        "    usuario = {\n",
        "        \"nombre\": kwargs.get(\"nombre\", \"Anónimo\"),  # Obtiene 'nombre' de 'kwargs', o usa \"Anónimo\" por defecto.\n",
        "        \"edad\": kwargs.get(\"edad\", \"Desconocida\"),  # Obtiene 'edad' de 'kwargs', o usa \"Desconocida\" por defecto.\n",
        "        \"email\": kwargs.get(\"email\", \"No especificado\")  # Obtiene 'email' de 'kwargs', o usa \"No especificado\" por defecto.\n",
        "    }\n",
        "    # Devuelve el diccionario 'usuario' completado.\n",
        "    return usuario\n",
        "\n",
        "# Creación de usuarios con diferentes configuraciones utilizando la función 'configurar_usuario'.\n",
        "usuario1 = configurar_usuario(nombre=\"Carlos\", edad=30, email=\"carlos@ejemplo.com\")\n",
        "usuario2 = configurar_usuario(nombre=\"Melisa\", email=\"melisa@ejemplo.com\")\n",
        "usuario3 = configurar_usuario()\n",
        "\n",
        "# Imprime los detalles de los usuarios para ver los resultados.\n",
        "print(\"Usuario 1:\", usuario1)\n",
        "print(\"Usuario 2:\", usuario2)\n",
        "print(\"Usuario 3:\", usuario3)\n",
        "\n",
        "\n"
      ]
    },
    {
      "cell_type": "markdown",
      "metadata": {
        "id": "GNK848W30KPR"
      },
      "source": [
        "###Lambda\n",
        "Las funciones lambda en Python son una forma concisa de escribir funciones anónimas para operaciones simples. Características clave:\n",
        "\n",
        "* Anónimas: No necesitan un nombre al ser definidas, lo cual es útil para operaciones rápidas que no se reutilizan en otras partes del código.\n",
        "* Sintaxis Simple: Ideal para funciones que realizan una única operación o cálculo con sus argumentos."
      ]
    },
    {
      "cell_type": "markdown",
      "source": [
        "EJEMPLO 🎈🎈\n",
        "Supongamos que tienes una lista de precios de productos y deseas aplicar un descuento del 10% a todos ellos. Podrías usar una función lambda para hacer esto de manera eficiente:"
      ],
      "metadata": {
        "id": "CS6r_P2sqg5-"
      }
    },
    {
      "cell_type": "code",
      "source": [
        "# Lista de precios originales\n",
        "precios = [100, 200, 300, 400, 500]\n",
        "\n",
        "# Aplica un descuento del 10% usando map() y una función lambda\n",
        "precios_con_descuento = list(map(lambda precio: precio * 0.90, precios))\n",
        "\n",
        "# Imprime la lista de precios con descuento\n",
        "print(precios_con_descuento)\n"
      ],
      "metadata": {
        "id": "daGP6roGqgYz"
      },
      "execution_count": null,
      "outputs": []
    },
    {
      "cell_type": "markdown",
      "source": [
        "EJEMPLO 🎈🎈\n",
        "Imagina que estás analizando una lista de edades de un grupo de usuarios y quieres filtrar a todos los que son mayores de 18 años:"
      ],
      "metadata": {
        "id": "zlkY0ypfq6Pm"
      }
    },
    {
      "cell_type": "code",
      "source": [
        "# Lista de edades\n",
        "edades = [14, 25, 30, 17, 21, 16, 28]\n",
        "\n",
        "# Filtra las edades mayores de 18\n",
        "mayores_de_18 = list(filter(lambda edad: edad > 18, edades))\n",
        "\n",
        "# Imprime la lista de edades mayores de 18\n",
        "print(mayores_de_18)\n"
      ],
      "metadata": {
        "id": "Ha_qvaFDq9Ss"
      },
      "execution_count": null,
      "outputs": []
    },
    {
      "cell_type": "markdown",
      "source": [
        "EJEMPLO 🎈🎈\n",
        "Supongamos que tienes una lista de tuplas que representan los nombres de los empleados y sus años de servicio. Quieres ordenar esta lista por los años de servicio de forma descendente:"
      ],
      "metadata": {
        "id": "EZx5w2harB62"
      }
    },
    {
      "cell_type": "code",
      "source": [
        "# Lista de empleados y años de servicio\n",
        "empleados = [(\"Ana\", 10), (\"Luis\", 2), (\"Carlos\", 5), (\"Marta\", 8)]\n",
        "\n",
        "# Ordena los empleados por años de servicio de forma descendente\n",
        "empleados_ordenados = sorted(empleados, key=lambda x: x[1], reverse=True)\n",
        "\n",
        "# Imprime la lista ordenada de empleados\n",
        "print(empleados_ordenados)\n"
      ],
      "metadata": {
        "id": "IE5kKOlZrKZy"
      },
      "execution_count": null,
      "outputs": []
    },
    {
      "cell_type": "code",
      "execution_count": null,
      "metadata": {
        "id": "DBD3HrwgKa_u",
        "colab": {
          "base_uri": "https://localhost:8080/"
        },
        "outputId": "b152bdef-9439-401d-b9ac-2fa50ac85029"
      },
      "outputs": [
        {
          "output_type": "stream",
          "name": "stdout",
          "text": [
            "8\n"
          ]
        }
      ],
      "source": [
        "# Ejemplo de una función lambda que suma dos números.\n",
        "suma = lambda a, b: a + b\n",
        "\n",
        "# Uso de la función lambda para sumar 5 y 3.\n",
        "print(suma(5, 3))  # Muestra 8\n"
      ]
    },
    {
      "cell_type": "code",
      "execution_count": null,
      "metadata": {
        "id": "t10YcEy57m7r",
        "colab": {
          "base_uri": "https://localhost:8080/"
        },
        "outputId": "6e33a510-f0fd-4a63-fff3-ed527636487d"
      },
      "outputs": [
        {
          "output_type": "stream",
          "name": "stdout",
          "text": [
            "aaitnoP\n"
          ]
        }
      ],
      "source": [
        "# Define una función lambda que toma una cadena 's' y devuelve su inversa.\n",
        "invertir_cadena = lambda s: s[::-1]\n",
        "\n",
        "# Utiliza la función lambda para invertir la cadena \"Pontiaaa\".\n",
        "print(invertir_cadena(\"Pontiaa\"))\n"
      ]
    },
    {
      "cell_type": "code",
      "execution_count": null,
      "metadata": {
        "id": "Nb73tN6J7qfi",
        "colab": {
          "base_uri": "https://localhost:8080/"
        },
        "outputId": "b2172e7e-8cfa-4502-f56a-ce7fef1c360a"
      },
      "outputs": [
        {
          "output_type": "stream",
          "name": "stdout",
          "text": [
            "True\n",
            "False\n"
          ]
        }
      ],
      "source": [
        "# Define una función lambda que verifica si un número 'x' es par.\n",
        "es_par = lambda x: x % 2 == 0\n",
        "\n",
        "# Utiliza la función lambda para verificar si 4 es par.\n",
        "print(es_par(4))  # Imprime True, ya que 4 es par.\n",
        "\n",
        "# Utiliza la función lambda para verificar si 7 es par.\n",
        "print(es_par(7))  # Imprime False, ya que 7 no es par.\n"
      ]
    },
    {
      "cell_type": "code",
      "execution_count": null,
      "metadata": {
        "id": "zFb2IMB7A1vb",
        "colab": {
          "base_uri": "https://localhost:8080/"
        },
        "outputId": "64203d98-3892-49d3-f5a5-edabea3663ed"
      },
      "outputs": [
        {
          "output_type": "stream",
          "name": "stdout",
          "text": [
            "14\n"
          ]
        }
      ],
      "source": [
        "# Define una función lambda que realiza una operación matemática con los argumentos proporcionados.\n",
        "# Suma 'x' y cualquier número en 'args', y luego resta el valor de 'kwargs' asociado a la clave 'resta'.\n",
        "operacion = lambda x, *args, **kwargs: x + sum(args) - kwargs.get('resta', 0)\n",
        "\n",
        "# Llama a la función lambda con argumentos específicos para demostrar su funcionalidad.\n",
        "resultado = operacion(10, 2, 3, 4, resta=5)\n",
        "\n",
        "# Imprime el resultado de la operación.\n",
        "print(resultado)  # Imprime 14 (10 + 2 + 3 + 4 - 5 = 14).\n"
      ]
    },
    {
      "cell_type": "markdown",
      "metadata": {
        "id": "ITk1cjQSghDz"
      },
      "source": [
        "##<font color='yellow'>DESAFÍO\n",
        "\n",
        "Imagínate organizando una noche de cine con amigos y familiares, donde todos tienen la oportunidad de votar por su película favorita de una lista preseleccionada. El objetivo de este desafío es construir un sistema simple pero completo en Python que no solo permita registrar esos votos, sino también analizarlos e informar sobre la película más popular\n",
        "\n",
        "- Listado de Películas: Comienza mostrando las películas disponibles para votación, enumeradas para facilitar la elección del usuario.\n",
        "- Registrar Votos: Se invita al usuario a votar introduciendo el índice de su película favorita. Puede votar tantas veces como desee hasta que escriba 'salir'. Esta parte del código demuestra cómo recoger y procesar entradas del usuario en un bucle, actualizando el diccionario de votos según las elecciones.\n",
        "- Análisis y Resultado Final: Una vez que el usuario termina de votar, el programa utiliza reduce para determinar cuál película recibió más votos, mostrando el resultado. Esto demuestra la aplicación práctica de reduce para sintetizar una colección de datos en un solo resultado."
      ]
    }
  ],
  "metadata": {
    "colab": {
      "provenance": [],
      "include_colab_link": true
    },
    "kernelspec": {
      "display_name": "Python 3",
      "name": "python3"
    },
    "language_info": {
      "name": "python"
    }
  },
  "nbformat": 4,
  "nbformat_minor": 0
}