{
  "nbformat": 4,
  "nbformat_minor": 0,
  "metadata": {
    "colab": {
      "provenance": [],
      "authorship_tag": "ABX9TyPmMK/mL5xx7Omwh3u80I9O",
      "include_colab_link": true
    },
    "kernelspec": {
      "name": "python3",
      "display_name": "Python 3"
    },
    "language_info": {
      "name": "python"
    }
  },
  "cells": [
    {
      "cell_type": "markdown",
      "metadata": {
        "id": "view-in-github",
        "colab_type": "text"
      },
      "source": [
        "<a href=\"https://colab.research.google.com/github/ContriBCN/ContriBCN/blob/main/Untitled1.ipynb\" target=\"_parent\"><img src=\"https://colab.research.google.com/assets/colab-badge.svg\" alt=\"Open In Colab\"/></a>"
      ]
    },
    {
      "cell_type": "code",
      "execution_count": 7,
      "metadata": {
        "colab": {
          "base_uri": "https://localhost:8080/"
        },
        "id": "cuFKztuUQGFs",
        "outputId": "87f0979d-03ec-426b-d289-f0fdcbfab6d2"
      },
      "outputs": [
        {
          "output_type": "stream",
          "name": "stdout",
          "text": [
            "2*68 = 136  es mayor que 50\n",
            "2*40 = 80  es mayor que 50\n",
            "2*40 = 80  es mayor que 50\n",
            "2*36 = 72  es mayor que 50\n",
            "2*93 = 186  es mayor que 50\n",
            "5*16 = 80  es mayor que 50\n",
            "5*68 = 340  es mayor que 50\n",
            "5*40 = 200  es mayor que 50\n",
            "5*40 = 200  es mayor que 50\n",
            "5*36 = 180  es mayor que 50\n",
            "5*93 = 465  es mayor que 50\n",
            "16*5 = 80  es mayor que 50\n",
            "16*16 = 256  es mayor que 50\n",
            "16*68 = 1088  es mayor que 50\n",
            "16*40 = 640  es mayor que 50\n",
            "16*5 = 80  es mayor que 50\n",
            "16*40 = 640  es mayor que 50\n",
            "16*36 = 576  es mayor que 50\n",
            "16*93 = 1488  es mayor que 50\n",
            "68*2 = 136  es mayor que 50\n",
            "68*5 = 340  es mayor que 50\n",
            "68*16 = 1088  es mayor que 50\n",
            "68*68 = 4624  es mayor que 50\n",
            "68*40 = 2720  es mayor que 50\n",
            "68*5 = 340  es mayor que 50\n",
            "68*40 = 2720  es mayor que 50\n",
            "68*36 = 2448  es mayor que 50\n",
            "68*93 = 6324  es mayor que 50\n",
            "40*2 = 80  es mayor que 50\n",
            "40*5 = 200  es mayor que 50\n",
            "40*16 = 640  es mayor que 50\n",
            "40*68 = 2720  es mayor que 50\n",
            "40*40 = 1600  es mayor que 50\n",
            "40*5 = 200  es mayor que 50\n",
            "40*40 = 1600  es mayor que 50\n",
            "40*36 = 1440  es mayor que 50\n",
            "40*93 = 3720  es mayor que 50\n",
            "5*16 = 80  es mayor que 50\n",
            "5*68 = 340  es mayor que 50\n",
            "5*40 = 200  es mayor que 50\n",
            "5*40 = 200  es mayor que 50\n",
            "5*36 = 180  es mayor que 50\n",
            "5*93 = 465  es mayor que 50\n",
            "40*2 = 80  es mayor que 50\n",
            "40*5 = 200  es mayor que 50\n",
            "40*16 = 640  es mayor que 50\n",
            "40*68 = 2720  es mayor que 50\n",
            "40*40 = 1600  es mayor que 50\n",
            "40*5 = 200  es mayor que 50\n",
            "40*40 = 1600  es mayor que 50\n",
            "40*36 = 1440  es mayor que 50\n",
            "40*93 = 3720  es mayor que 50\n",
            "36*2 = 72  es mayor que 50\n",
            "36*5 = 180  es mayor que 50\n",
            "36*16 = 576  es mayor que 50\n",
            "36*68 = 2448  es mayor que 50\n",
            "36*40 = 1440  es mayor que 50\n",
            "36*5 = 180  es mayor que 50\n",
            "36*40 = 1440  es mayor que 50\n",
            "36*36 = 1296  es mayor que 50\n",
            "36*93 = 3348  es mayor que 50\n",
            "93*2 = 186  es mayor que 50\n",
            "93*5 = 465  es mayor que 50\n",
            "93*16 = 1488  es mayor que 50\n",
            "93*68 = 6324  es mayor que 50\n",
            "93*40 = 3720  es mayor que 50\n",
            "93*5 = 465  es mayor que 50\n",
            "93*40 = 3720  es mayor que 50\n",
            "93*36 = 3348  es mayor que 50\n",
            "93*93 = 8649  es mayor que 50\n"
          ]
        }
      ],
      "source": [
        "nueva_lista = [0,2,5,16,68,40,5,40,36,93]\n",
        "def multiplicar_lista(nueva_lista):\n",
        "  for i in range (len(nueva_lista)):\n",
        "    for x in range(len(nueva_lista)):\n",
        "      if ( nueva_lista[i] * nueva_lista[x] ) > 50:\n",
        "        y = nueva_lista[i] * nueva_lista[x]\n",
        "        print(f'{nueva_lista[i]}*{nueva_lista[x]} = {y}  es mayor que 50')\n",
        "\n",
        "\n",
        "multiplicar_lista(nueva_lista)"
      ]
    },
    {
      "cell_type": "code",
      "source": [],
      "metadata": {
        "id": "1R2iGohtRWzp"
      },
      "execution_count": null,
      "outputs": []
    }
  ]
}