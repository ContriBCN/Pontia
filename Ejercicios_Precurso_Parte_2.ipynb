{
  "nbformat": 4,
  "nbformat_minor": 0,
  "metadata": {
    "colab": {
      "provenance": [],
      "include_colab_link": true
    },
    "kernelspec": {
      "name": "python3",
      "display_name": "Python 3"
    },
    "language_info": {
      "name": "python"
    }
  },
  "cells": [
    {
      "cell_type": "markdown",
      "metadata": {
        "id": "view-in-github",
        "colab_type": "text"
      },
      "source": [
        "<a href=\"https://colab.research.google.com/github/ContriBCN/ContriBCN/blob/main/Ejercicios_Precurso_Parte_2.ipynb\" target=\"_parent\"><img src=\"https://colab.research.google.com/assets/colab-badge.svg\" alt=\"Open In Colab\"/></a>"
      ]
    },
    {
      "cell_type": "markdown",
      "source": [
        "1. Escribe un programa que muestre en pantalla el resultado de $\\left(\\frac{4*2}{2+3}\\right)^2$\n",
        "\n",
        "\n",
        "\n"
      ],
      "metadata": {
        "id": "ciQFwwkJnyk9"
      }
    },
    {
      "cell_type": "code",
      "source": [
        "print (((4*2)/(2+3))**2)"
      ],
      "metadata": {
        "id": "df1zVfQhH4sF",
        "outputId": "b327115e-ca83-4c09-a6bc-8ae1b2f8e023",
        "colab": {
          "base_uri": "https://localhost:8080/"
        }
      },
      "execution_count": 1,
      "outputs": [
        {
          "output_type": "stream",
          "name": "stdout",
          "text": [
            "2.5600000000000005\n"
          ]
        }
      ]
    },
    {
      "cell_type": "markdown",
      "source": [
        "2. Escribe una función que, dado el peso (en kg) y la altura (en metros), calcule y devuelva el Índice de Masa Corporal"
      ],
      "metadata": {
        "id": "H-jbxmfenhmf"
      }
    },
    {
      "cell_type": "code",
      "source": [
        "def IMC (peso,altura):\n",
        "  return(peso/(altura**2))\n",
        "\n",
        "IMC(97,1.85)"
      ],
      "metadata": {
        "id": "5LELdSobIL_r",
        "outputId": "1f1c526b-ecb5-423a-efd4-7883501d4300",
        "colab": {
          "base_uri": "https://localhost:8080/"
        }
      },
      "execution_count": 7,
      "outputs": [
        {
          "output_type": "execute_result",
          "data": {
            "text/plain": [
              "28.341855368882392"
            ]
          },
          "metadata": {},
          "execution_count": 7
        }
      ]
    },
    {
      "cell_type": "markdown",
      "source": [
        "3. Escribe ahora la misma función, pero que en vez de recibir el peso y la altura como argumentos, los pida como input al usuario. Ten en cuenta que el input recibido será de tipo string, por lo que habrá que convertirlo a `int` o `float` antes de tratarlos."
      ],
      "metadata": {
        "id": "-E9bwBUXrkjl"
      }
    },
    {
      "cell_type": "code",
      "source": [
        "IMC=float(input(\"Introduce tu peso y estatura, por favor \"))\n"
      ],
      "metadata": {
        "id": "CY5uZpg9JbVl",
        "outputId": "79671f3d-afc6-47b9-b654-6469387ded80",
        "colab": {
          "base_uri": "https://localhost:8080/",
          "height": 321
        }
      },
      "execution_count": 21,
      "outputs": [
        {
          "output_type": "error",
          "ename": "KeyboardInterrupt",
          "evalue": "Interrupted by user",
          "traceback": [
            "\u001b[0;31m---------------------------------------------------------------------------\u001b[0m",
            "\u001b[0;31mKeyboardInterrupt\u001b[0m                         Traceback (most recent call last)",
            "\u001b[0;32m<ipython-input-21-2b016cf9dfec>\u001b[0m in \u001b[0;36m<cell line: 1>\u001b[0;34m()\u001b[0m\n\u001b[0;32m----> 1\u001b[0;31m \u001b[0mIMC\u001b[0m\u001b[0;34m=\u001b[0m\u001b[0mfloat\u001b[0m\u001b[0;34m(\u001b[0m\u001b[0minput\u001b[0m\u001b[0;34m(\u001b[0m\u001b[0;34m\"Introduce tu peso y estatura, por favor \"\u001b[0m\u001b[0;34m)\u001b[0m\u001b[0;34m)\u001b[0m\u001b[0;34m\u001b[0m\u001b[0;34m\u001b[0m\u001b[0m\n\u001b[0m",
            "\u001b[0;32m/usr/local/lib/python3.10/dist-packages/ipykernel/kernelbase.py\u001b[0m in \u001b[0;36mraw_input\u001b[0;34m(self, prompt)\u001b[0m\n\u001b[1;32m    849\u001b[0m                 \u001b[0;34m\"raw_input was called, but this frontend does not support input requests.\"\u001b[0m\u001b[0;34m\u001b[0m\u001b[0;34m\u001b[0m\u001b[0m\n\u001b[1;32m    850\u001b[0m             )\n\u001b[0;32m--> 851\u001b[0;31m         return self._input_request(str(prompt),\n\u001b[0m\u001b[1;32m    852\u001b[0m             \u001b[0mself\u001b[0m\u001b[0;34m.\u001b[0m\u001b[0m_parent_ident\u001b[0m\u001b[0;34m,\u001b[0m\u001b[0;34m\u001b[0m\u001b[0;34m\u001b[0m\u001b[0m\n\u001b[1;32m    853\u001b[0m             \u001b[0mself\u001b[0m\u001b[0;34m.\u001b[0m\u001b[0m_parent_header\u001b[0m\u001b[0;34m,\u001b[0m\u001b[0;34m\u001b[0m\u001b[0;34m\u001b[0m\u001b[0m\n",
            "\u001b[0;32m/usr/local/lib/python3.10/dist-packages/ipykernel/kernelbase.py\u001b[0m in \u001b[0;36m_input_request\u001b[0;34m(self, prompt, ident, parent, password)\u001b[0m\n\u001b[1;32m    893\u001b[0m             \u001b[0;32mexcept\u001b[0m \u001b[0mKeyboardInterrupt\u001b[0m\u001b[0;34m:\u001b[0m\u001b[0;34m\u001b[0m\u001b[0;34m\u001b[0m\u001b[0m\n\u001b[1;32m    894\u001b[0m                 \u001b[0;31m# re-raise KeyboardInterrupt, to truncate traceback\u001b[0m\u001b[0;34m\u001b[0m\u001b[0;34m\u001b[0m\u001b[0m\n\u001b[0;32m--> 895\u001b[0;31m                 \u001b[0;32mraise\u001b[0m \u001b[0mKeyboardInterrupt\u001b[0m\u001b[0;34m(\u001b[0m\u001b[0;34m\"Interrupted by user\"\u001b[0m\u001b[0;34m)\u001b[0m \u001b[0;32mfrom\u001b[0m \u001b[0;32mNone\u001b[0m\u001b[0;34m\u001b[0m\u001b[0;34m\u001b[0m\u001b[0m\n\u001b[0m\u001b[1;32m    896\u001b[0m             \u001b[0;32mexcept\u001b[0m \u001b[0mException\u001b[0m \u001b[0;32mas\u001b[0m \u001b[0me\u001b[0m\u001b[0;34m:\u001b[0m\u001b[0;34m\u001b[0m\u001b[0;34m\u001b[0m\u001b[0m\n\u001b[1;32m    897\u001b[0m                 \u001b[0mself\u001b[0m\u001b[0;34m.\u001b[0m\u001b[0mlog\u001b[0m\u001b[0;34m.\u001b[0m\u001b[0mwarning\u001b[0m\u001b[0;34m(\u001b[0m\u001b[0;34m\"Invalid Message:\"\u001b[0m\u001b[0;34m,\u001b[0m \u001b[0mexc_info\u001b[0m\u001b[0;34m=\u001b[0m\u001b[0;32mTrue\u001b[0m\u001b[0;34m)\u001b[0m\u001b[0;34m\u001b[0m\u001b[0;34m\u001b[0m\u001b[0m\n",
            "\u001b[0;31mKeyboardInterrupt\u001b[0m: Interrupted by user"
          ]
        }
      ]
    },
    {
      "cell_type": "markdown",
      "source": [
        "4. Modifica la función anterior, para que en vez de devolver el IMC, lo imprima en pantalla junto con el mensaje \"Tu IMC es ____ \""
      ],
      "metadata": {
        "id": "yWJESkS9tUM3"
      }
    },
    {
      "cell_type": "markdown",
      "source": [
        "5. Escribe una función que tome como argumento una palabra, e imprima en pantalla el número de letras que tiene1."
      ],
      "metadata": {
        "id": "gpMMHwPguq-N"
      }
    },
    {
      "cell_type": "code",
      "source": [
        "palabra=\"Prueba\"\n",
        "\n",
        "(len(palabra))"
      ],
      "metadata": {
        "id": "hzA4GC3DLY33",
        "outputId": "9ae94669-990f-4837-915e-5c874a05e89a",
        "colab": {
          "base_uri": "https://localhost:8080/"
        }
      },
      "execution_count": 28,
      "outputs": [
        {
          "output_type": "execute_result",
          "data": {
            "text/plain": [
              "6"
            ]
          },
          "metadata": {},
          "execution_count": 28
        }
      ]
    },
    {
      "cell_type": "markdown",
      "source": [
        "6. Escribe una función que dada una palabra y una letra, imprima lo siguiente:\n",
        "\n",
        "\n",
        "*   Si la palabra contiene la letra: \"La palabra '_____' contiene la letra __ \"\n",
        "*   Si no la contiene: \"La palabra '_____'  no contiene la letra __ \"\n",
        "\n"
      ],
      "metadata": {
        "id": "jAPFMaqtvVst"
      }
    },
    {
      "cell_type": "markdown",
      "source": [
        "7. En Python (y en muchos otros lenguajes de programacion) hay letras minúsculas y mayúsculas son elementos diferentes"
      ],
      "metadata": {
        "id": "qN9ONQ6HxHeP"
      }
    },
    {
      "cell_type": "code",
      "source": [
        "'a' == 'A'"
      ],
      "metadata": {
        "colab": {
          "base_uri": "https://localhost:8080/"
        },
        "id": "iuHY_EKHw8qb",
        "outputId": "3ebfe0c5-5599-45f5-9475-0df59b97aaed"
      },
      "execution_count": null,
      "outputs": [
        {
          "output_type": "execute_result",
          "data": {
            "text/plain": [
              "False"
            ]
          },
          "metadata": {},
          "execution_count": 13
        }
      ]
    },
    {
      "cell_type": "code",
      "source": [
        "'p' in 'Pedro'"
      ],
      "metadata": {
        "colab": {
          "base_uri": "https://localhost:8080/"
        },
        "id": "Nr5X6v3ew6ts",
        "outputId": "cd5a08eb-8ce0-4d3f-caa4-91e4979ac6b3"
      },
      "execution_count": null,
      "outputs": [
        {
          "output_type": "execute_result",
          "data": {
            "text/plain": [
              "False"
            ]
          },
          "metadata": {},
          "execution_count": 14
        }
      ]
    },
    {
      "cell_type": "markdown",
      "source": [
        "Adapta la función (en el caso de que no esté ya adaptada) para que identifique si contiene la letra independientemente de si es mayúscula o minúscula"
      ],
      "metadata": {
        "id": "XjE6G_OSxhTW"
      }
    },
    {
      "cell_type": "markdown",
      "source": [
        "8. Escribe una función que dada una palabra y un número, imprima la palabra en pantalla ese numero de veces"
      ],
      "metadata": {
        "id": "ZNjTnxFMx-rl"
      }
    },
    {
      "cell_type": "markdown",
      "source": [
        "9. Escribe un programa que imprima en pantalla los 20 primeros números naturales usando un loop"
      ],
      "metadata": {
        "id": "j-AVf0_RyjsE"
      }
    },
    {
      "cell_type": "code",
      "source": [],
      "metadata": {
        "id": "Qy8HvVt1M4G0"
      },
      "execution_count": 36,
      "outputs": []
    },
    {
      "cell_type": "markdown",
      "source": [
        "10. Escribe una función que, dada una palabra y una letra, devuelva el numero de veces que aparece la letra en la palabra"
      ],
      "metadata": {
        "id": "eEooktLl0Zib"
      }
    }
  ]
}