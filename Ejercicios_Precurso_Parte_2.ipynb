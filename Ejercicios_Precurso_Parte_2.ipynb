{
  "nbformat": 4,
  "nbformat_minor": 0,
  "metadata": {
    "colab": {
      "provenance": [],
      "include_colab_link": true
    },
    "kernelspec": {
      "name": "python3",
      "display_name": "Python 3"
    },
    "language_info": {
      "name": "python"
    }
  },
  "cells": [
    {
      "cell_type": "markdown",
      "metadata": {
        "id": "view-in-github",
        "colab_type": "text"
      },
      "source": [
        "<a href=\"https://colab.research.google.com/github/ContriBCN/ContriBCN/blob/main/Ejercicios_Precurso_Parte_2.ipynb\" target=\"_parent\"><img src=\"https://colab.research.google.com/assets/colab-badge.svg\" alt=\"Open In Colab\"/></a>"
      ]
    },
    {
      "cell_type": "markdown",
      "source": [
        "1. Escribe un programa que muestre en pantalla el resultado de $\\left(\\frac{4*2}{2+3}\\right)^2$\n",
        "\n",
        "\n",
        "\n"
      ],
      "metadata": {
        "id": "ciQFwwkJnyk9"
      }
    },
    {
      "cell_type": "code",
      "source": [
        "print (((4*2)/(2+3))**2)"
      ],
      "metadata": {
        "colab": {
          "base_uri": "https://localhost:8080/"
        },
        "id": "df1zVfQhH4sF",
        "outputId": "b327115e-ca83-4c09-a6bc-8ae1b2f8e023"
      },
      "execution_count": null,
      "outputs": [
        {
          "output_type": "stream",
          "name": "stdout",
          "text": [
            "2.5600000000000005\n"
          ]
        }
      ]
    },
    {
      "cell_type": "markdown",
      "source": [
        "2. Escribe una función que, dado el peso (en kg) y la altura (en metros), calcule y devuelva el Índice de Masa Corporal"
      ],
      "metadata": {
        "id": "H-jbxmfenhmf"
      }
    },
    {
      "cell_type": "code",
      "source": [
        "def IMC (peso,altura):\n",
        "  return(peso/(altura**2))\n",
        "\n",
        "IMC(97,1.85)"
      ],
      "metadata": {
        "colab": {
          "base_uri": "https://localhost:8080/"
        },
        "id": "5LELdSobIL_r",
        "outputId": "1f1c526b-ecb5-423a-efd4-7883501d4300"
      },
      "execution_count": null,
      "outputs": [
        {
          "output_type": "execute_result",
          "data": {
            "text/plain": [
              "28.341855368882392"
            ]
          },
          "metadata": {},
          "execution_count": 7
        }
      ]
    },
    {
      "cell_type": "markdown",
      "source": [
        "3. Escribe ahora la misma función, pero que en vez de recibir el peso y la altura como argumentos, los pida como input al usuario. Ten en cuenta que el input recibido será de tipo string, por lo que habrá que convertirlo a `int` o `float` antes de tratarlos."
      ],
      "metadata": {
        "id": "-E9bwBUXrkjl"
      }
    },
    {
      "cell_type": "code",
      "source": [
        "def IMC_solicitud():\n",
        "  peso = input('Introduce tu peso: ')\n",
        "  altura = input('Introduce tu estatura: ')\n",
        "  peso = float(peso)\n",
        "  altura = float(altura)\n",
        "  print({peso/(altura**2)})\n",
        "\n",
        "IMC_solicitud()"
      ],
      "metadata": {
        "colab": {
          "base_uri": "https://localhost:8080/"
        },
        "id": "CY5uZpg9JbVl",
        "outputId": "b03f75f4-bb95-497e-d48a-66a6ce6a7016"
      },
      "execution_count": 54,
      "outputs": [
        {
          "output_type": "stream",
          "name": "stdout",
          "text": [
            "Introduce tu peso: 97\n",
            "Introduce tu estatura: 1.85\n",
            "{28.341855368882392}\n"
          ]
        }
      ]
    },
    {
      "cell_type": "markdown",
      "source": [
        "4. Modifica la función anterior, para que en vez de devolver el IMC, lo imprima en pantalla junto con el mensaje \"Tu IMC es ____ \""
      ],
      "metadata": {
        "id": "yWJESkS9tUM3"
      }
    },
    {
      "cell_type": "code",
      "source": [
        "  def IMC_solicitud():\n",
        "    peso = input('Introduce tu peso: ')\n",
        "    altura = input('Introduce tu estatura: ')\n",
        "    peso = float(peso)\n",
        "    altura = float(altura)\n",
        "    print(f\"Tu IMC es {peso/(altura**2)}\")\n",
        "\n",
        "  IMC_solicitud()\n"
      ],
      "metadata": {
        "id": "VATVFUZcMmnk",
        "outputId": "89c8ab87-2a46-45d9-a189-9c5da97c75c7",
        "colab": {
          "base_uri": "https://localhost:8080/"
        }
      },
      "execution_count": 51,
      "outputs": [
        {
          "output_type": "stream",
          "name": "stdout",
          "text": [
            "Introduce tu peso: 97\n",
            "Introduce tu estatura: 1.85\n",
            "Tu IMC es 28.341855368882392\n"
          ]
        }
      ]
    },
    {
      "cell_type": "markdown",
      "source": [
        "5. Escribe una función que tome como argumento una palabra, e imprima en pantalla el número de letras que tiene1."
      ],
      "metadata": {
        "id": "gpMMHwPguq-N"
      }
    },
    {
      "cell_type": "code",
      "source": [
        "palabra=\"Prueba\"\n",
        "\n",
        "(len(palabra))"
      ],
      "metadata": {
        "colab": {
          "base_uri": "https://localhost:8080/"
        },
        "id": "hzA4GC3DLY33",
        "outputId": "9ae94669-990f-4837-915e-5c874a05e89a"
      },
      "execution_count": null,
      "outputs": [
        {
          "output_type": "execute_result",
          "data": {
            "text/plain": [
              "6"
            ]
          },
          "metadata": {},
          "execution_count": 28
        }
      ]
    },
    {
      "cell_type": "markdown",
      "source": [
        "6. Escribe una función que dada una palabra y una letra, imprima lo\n",
        "\n",
        "*   Elemento de la lista\n",
        "*   Elemento de la lista\n",
        "\n",
        "siguiente:\n",
        "\n",
        "\n",
        "*   Si la palabra contiene la letra: \"La palabra '_____' contiene la letra __ \"\n",
        "*   Si no la contiene: \"La palabra '_____'  no contiene la letra __ \"\n",
        "\n"
      ],
      "metadata": {
        "id": "jAPFMaqtvVst"
      }
    },
    {
      "cell_type": "markdown",
      "source": [
        "7. En Python (y en muchos otros lenguajes de programacion) hay letras minúsculas y mayúsculas son elementos diferentes"
      ],
      "metadata": {
        "id": "qN9ONQ6HxHeP"
      }
    },
    {
      "cell_type": "code",
      "source": [
        "'a' == 'A'"
      ],
      "metadata": {
        "colab": {
          "base_uri": "https://localhost:8080/"
        },
        "id": "iuHY_EKHw8qb",
        "outputId": "3ebfe0c5-5599-45f5-9475-0df59b97aaed"
      },
      "execution_count": null,
      "outputs": [
        {
          "output_type": "execute_result",
          "data": {
            "text/plain": [
              "False"
            ]
          },
          "metadata": {},
          "execution_count": 13
        }
      ]
    },
    {
      "cell_type": "code",
      "source": [
        "'p' in 'Pedro'"
      ],
      "metadata": {
        "colab": {
          "base_uri": "https://localhost:8080/"
        },
        "id": "Nr5X6v3ew6ts",
        "outputId": "cd5a08eb-8ce0-4d3f-caa4-91e4979ac6b3"
      },
      "execution_count": null,
      "outputs": [
        {
          "output_type": "execute_result",
          "data": {
            "text/plain": [
              "False"
            ]
          },
          "metadata": {},
          "execution_count": 14
        }
      ]
    },
    {
      "cell_type": "markdown",
      "source": [
        "Adapta la función (en el caso de que no esté ya adaptada) para que identifique si contiene la letra independientemente de si es mayúscula o minúscula"
      ],
      "metadata": {
        "id": "XjE6G_OSxhTW"
      }
    },
    {
      "cell_type": "code",
      "source": [
        "'a' == 'A'.lower()\n"
      ],
      "metadata": {
        "id": "UydXAu-bKsMM",
        "outputId": "4ce9c32a-44d0-429c-ea09-2bbd77d1b289",
        "colab": {
          "base_uri": "https://localhost:8080/"
        }
      },
      "execution_count": 32,
      "outputs": [
        {
          "output_type": "execute_result",
          "data": {
            "text/plain": [
              "True"
            ]
          },
          "metadata": {},
          "execution_count": 32
        }
      ]
    },
    {
      "cell_type": "code",
      "source": [
        "'p' in 'Pedro'.lower()"
      ],
      "metadata": {
        "id": "nB7FXSIIN90-",
        "outputId": "6e8923e0-86f3-4edf-9b21-92d3a2b28b33",
        "colab": {
          "base_uri": "https://localhost:8080/"
        }
      },
      "execution_count": 33,
      "outputs": [
        {
          "output_type": "execute_result",
          "data": {
            "text/plain": [
              "True"
            ]
          },
          "metadata": {},
          "execution_count": 33
        }
      ]
    },
    {
      "cell_type": "markdown",
      "source": [
        "8. Escribe una función que dada una palabra y un número, imprima la palabra en pantalla ese numero de veces"
      ],
      "metadata": {
        "id": "ZNjTnxFMx-rl"
      }
    },
    {
      "cell_type": "code",
      "source": [
        "def imprimir_palabra (palabra, times):\n",
        "  for i in range(times):\n",
        "    print(palabra)\n",
        "\n",
        "imprimir_palabra('Leyre',3)\n"
      ],
      "metadata": {
        "id": "eymHIlvsG_E5",
        "outputId": "08b337bd-cd3b-46ef-8072-57704c4d7b03",
        "colab": {
          "base_uri": "https://localhost:8080/"
        }
      },
      "execution_count": 11,
      "outputs": [
        {
          "output_type": "stream",
          "name": "stdout",
          "text": [
            "Leyre\n",
            "Leyre\n",
            "Leyre\n"
          ]
        }
      ]
    },
    {
      "cell_type": "markdown",
      "source": [
        "9. Escribe un programa que imprima en pantalla los 20 primeros números naturales usando un loop"
      ],
      "metadata": {
        "id": "j-AVf0_RyjsE"
      }
    },
    {
      "cell_type": "code",
      "source": [
        "for i in range(0,20):\n",
        "  print(i)"
      ],
      "metadata": {
        "colab": {
          "base_uri": "https://localhost:8080/"
        },
        "id": "Qy8HvVt1M4G0",
        "outputId": "6a077d3c-5776-419f-dbe7-2e304d7e83ee"
      },
      "execution_count": 3,
      "outputs": [
        {
          "output_type": "stream",
          "name": "stdout",
          "text": [
            "0\n",
            "1\n",
            "2\n",
            "3\n",
            "4\n",
            "5\n",
            "6\n",
            "7\n",
            "8\n",
            "9\n",
            "10\n",
            "11\n",
            "12\n",
            "13\n",
            "14\n",
            "15\n",
            "16\n",
            "17\n",
            "18\n",
            "19\n"
          ]
        }
      ]
    },
    {
      "cell_type": "markdown",
      "source": [
        "10. Escribe una función que, dada una palabra y una letra, devuelva el numero de veces que aparece la letra en la palabra"
      ],
      "metadata": {
        "id": "eEooktLl0Zib"
      }
    },
    {
      "cell_type": "code",
      "source": [
        "def num_veces (palabra, times):\n",
        "  for i in range (times):\n",
        "    print (palabra)\n",
        "\n",
        "num_veces ('Leyre', 3)"
      ],
      "metadata": {
        "id": "TSkyAl_mIxPV",
        "outputId": "9c1e6478-4153-4bfc-a542-7f145d6647fa",
        "colab": {
          "base_uri": "https://localhost:8080/"
        }
      },
      "execution_count": 13,
      "outputs": [
        {
          "output_type": "stream",
          "name": "stdout",
          "text": [
            "Leyre\n",
            "Leyre\n",
            "Leyre\n"
          ]
        }
      ]
    }
  ]
}