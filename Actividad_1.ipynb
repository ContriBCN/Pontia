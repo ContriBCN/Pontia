{
  "nbformat": 4,
  "nbformat_minor": 0,
  "metadata": {
    "colab": {
      "provenance": [],
      "authorship_tag": "ABX9TyNT6/gLX0h6GXHu66gcfPz0",
      "include_colab_link": true
    },
    "kernelspec": {
      "name": "python3",
      "display_name": "Python 3"
    },
    "language_info": {
      "name": "python"
    }
  },
  "cells": [
    {
      "cell_type": "markdown",
      "metadata": {
        "id": "view-in-github",
        "colab_type": "text"
      },
      "source": [
        "<a href=\"https://colab.research.google.com/github/ContriBCN/ContriBCN/blob/main/Actividad_1.ipynb\" target=\"_parent\"><img src=\"https://colab.research.google.com/assets/colab-badge.svg\" alt=\"Open In Colab\"/></a>"
      ]
    },
    {
      "cell_type": "markdown",
      "source": [
        "# **DESAFÍO 1**\n",
        "* Crea una nueva cadena llamada 'saludo' que use la variable 'string_simple' y la concatene con la frase \", cómo estás hoy?\" utilizando el operador +.\n",
        "* Utiliza f-strings para imprimir la variable 'string_simple' en mayúsculas, seguida de la pregunta \"cómo te encuentras hoy?\".\n",
        "* Emplea el método .format() para crear una cadena que indique que el precio de una bici es de 1150.4332€, mostrando 3 decimales.\n",
        "* Con otro .format(), forma una cadena que diga que \"un luchador de sumo pesa 132,89 kg\", especificando solo un decimal en el peso.\n",
        "* Corrige la frase \"En programación, mi herramienta favorita es Python\" para que diga \"En programación, mi INSTRUMENTO favorito es PYTHON\"."
      ],
      "metadata": {
        "id": "7NHoMWCz2gtI"
      }
    },
    {
      "cell_type": "markdown",
      "source": [],
      "metadata": {
        "id": "euHXFyJE2gL1"
      }
    },
    {
      "cell_type": "code",
      "source": [
        "string_simple = 'Hola'\n",
        "saludo = string_simple + \", cómo estás hoy?\"\n",
        "print(saludo)"
      ],
      "metadata": {
        "colab": {
          "base_uri": "https://localhost:8080/"
        },
        "id": "oxGcRWdw26bZ",
        "outputId": "06a4964f-43d1-4b0c-fe7e-83b6c920bbf2"
      },
      "execution_count": 1,
      "outputs": [
        {
          "output_type": "stream",
          "name": "stdout",
          "text": [
            "Hola, cómo estás hoy?\n"
          ]
        }
      ]
    },
    {
      "cell_type": "code",
      "source": [
        "print(f\"{string_simple.upper()}, cómo estás hoy?\")"
      ],
      "metadata": {
        "colab": {
          "base_uri": "https://localhost:8080/"
        },
        "id": "tkIQyOYf3E7x",
        "outputId": "588ec0f8-270c-4048-ad45-a6ff06d14343"
      },
      "execution_count": 2,
      "outputs": [
        {
          "output_type": "stream",
          "name": "stdout",
          "text": [
            "HOLA, cómo estás hoy?\n"
          ]
        }
      ]
    },
    {
      "cell_type": "code",
      "source": [
        "cadena = \"El precio de una bici es de {precio:.3f}€\"\n",
        "print(cadena.format(precio=1150.4332))"
      ],
      "metadata": {
        "colab": {
          "base_uri": "https://localhost:8080/"
        },
        "id": "tpqV31t93IBV",
        "outputId": "696e439e-3943-4765-e5ae-ca52acf95e04"
      },
      "execution_count": 3,
      "outputs": [
        {
          "output_type": "stream",
          "name": "stdout",
          "text": [
            "El precio de una bici es de 1150.433€\n"
          ]
        }
      ]
    },
    {
      "cell_type": "code",
      "source": [
        "peso_luchador = \"Un luchador de sumo pesa {peso:.1f}kg\"\n",
        "print(peso_luchador.format(peso=132.89))"
      ],
      "metadata": {
        "colab": {
          "base_uri": "https://localhost:8080/"
        },
        "id": "da3UYgNm3Lkq",
        "outputId": "4e94813e-ad36-418d-b600-fca01e389b54"
      },
      "execution_count": 4,
      "outputs": [
        {
          "output_type": "stream",
          "name": "stdout",
          "text": [
            "Un luchador de sumo pesa 132.9kg\n"
          ]
        }
      ]
    },
    {
      "cell_type": "code",
      "source": [
        "frase1 = \"En programación, mi herramienta favorita es Python\"\n",
        "print(frase1.replace('herramienta','INSTRUMENTO').replace('favorita','favorito').replace('Python','PYTHON'))"
      ],
      "metadata": {
        "colab": {
          "base_uri": "https://localhost:8080/"
        },
        "id": "uUpCtuq03N3G",
        "outputId": "318ea17a-d464-4c63-9383-e999f35ba17d"
      },
      "execution_count": 7,
      "outputs": [
        {
          "output_type": "stream",
          "name": "stdout",
          "text": [
            "En programación, mi INSTRUMENTO favorito es PYTHON\n"
          ]
        }
      ]
    },
    {
      "cell_type": "markdown",
      "source": [
        "# **DESAFÍO 2**\n",
        "Imagina que estás desarrollando un programa que necesita procesar información sobre un grupo de estudiantes y sus calificaciones. Aquí tienes las tareas específicas que debes completar:\n",
        "\n",
        "* Tienes una lista de calificaciones de estudiantes: calificaciones = [95, 82, 59, 78, 88, 93]. Un estudiante aprueba si su calificación es 60 o más. Crea una nueva lista llamada aprobados que contenga True o False dependiendo de si cada estudiante ha aprobado o no, utilizando comprensión de listas.\n",
        "\n",
        "* Calcula la calificación promedio de la clase y almacénala en una variable llamada promedio. Imprime el resultado con un mensaje que diga \"La calificación promedio de la clase es: [promedio]\".\n",
        "\n",
        "* A partir de la lista original calificaciones, crea una nueva lista llamada calificaciones_mejoradas donde has añadido 5 puntos extra a cada estudiante cuya calificación original fue menor a 90. Usa comprensión de listas para esto. Asegúrate de que ninguna calificación exceda de 100.\n",
        "\n",
        "* Finalmente, encuentra e imprime la calificación más alta usando la función max() sobre la lista calificaciones_mejoradas."
      ],
      "metadata": {
        "id": "7nTBzsIq3uwE"
      }
    },
    {
      "cell_type": "code",
      "source": [
        "calificaciones = [95, 82, 59, 78, 88, 93]\n",
        "aprobados = [calificacion >= 60 for calificacion in calificaciones]\n",
        "print(aprobados)"
      ],
      "metadata": {
        "colab": {
          "base_uri": "https://localhost:8080/"
        },
        "id": "Me7_1oEJ36Gg",
        "outputId": "fe123b2e-485b-43f5-b346-e739b3f52be4"
      },
      "execution_count": 9,
      "outputs": [
        {
          "output_type": "stream",
          "name": "stdout",
          "text": [
            "[True, True, False, True, True, True]\n"
          ]
        }
      ]
    },
    {
      "cell_type": "code",
      "source": [
        "suma_calificaciones = sum(calificaciones)\n",
        "num_estudiantes = len(calificaciones)\n",
        "promedio = suma_calificaciones / num_estudiantes\n",
        "\n",
        "print(\"La calificación promedio de la clase es:\", promedio)"
      ],
      "metadata": {
        "colab": {
          "base_uri": "https://localhost:8080/"
        },
        "id": "Buzom_lT41_c",
        "outputId": "93edac3f-c738-4131-c016-35ede39848ad"
      },
      "execution_count": 12,
      "outputs": [
        {
          "output_type": "stream",
          "name": "stdout",
          "text": [
            "La calificación promedio de la clase es: 82.5\n"
          ]
        }
      ]
    },
    {
      "cell_type": "code",
      "source": [
        "mejora_calificaciones = [calificacion + 5 if calificacion < 90 else min(calificacion + 5, 100) for calificacion in calificaciones]\n",
        "print(mejora_calificaciones)\n"
      ],
      "metadata": {
        "colab": {
          "base_uri": "https://localhost:8080/"
        },
        "id": "Jfgv78Fb5Rew",
        "outputId": "c5e7f10b-6af3-483b-8953-30786bcaac3d"
      },
      "execution_count": 25,
      "outputs": [
        {
          "output_type": "stream",
          "name": "stdout",
          "text": [
            "[100, 87, 64, 83, 93, 98]\n"
          ]
        }
      ]
    },
    {
      "cell_type": "code",
      "source": [
        "max(mejora_calificaciones)"
      ],
      "metadata": {
        "colab": {
          "base_uri": "https://localhost:8080/"
        },
        "id": "P5Bm1ape6_VU",
        "outputId": "d7a1913b-b766-4dfc-c67c-db04fbbb5258"
      },
      "execution_count": 26,
      "outputs": [
        {
          "output_type": "execute_result",
          "data": {
            "text/plain": [
              "100"
            ]
          },
          "metadata": {},
          "execution_count": 26
        }
      ]
    },
    {
      "cell_type": "markdown",
      "source": [
        "# **DESAFÍO 3**\n",
        "Imagínate organizando una noche de cine con amigos y familiares, donde todos tienen la oportunidad de votar por su película favorita de una lista preseleccionada. El objetivo de este desafío es construir un sistema simple pero completo en Python que no solo permita registrar esos votos, sino también analizarlos e informar sobre la película más popular\n",
        "\n",
        "* Listado de Películas: Comienza mostrando las películas disponibles para votación, enumeradas para facilitar la elección del usuario.\n",
        "* Registrar Votos: Se invita al usuario a votar introduciendo el índice de su película favorita. Puede votar tantas veces como desee hasta que escriba 'salir'. Esta parte del código demuestra cómo recoger y procesar entradas del usuario en un bucle, actualizando el diccionario de votos según las elecciones.\n",
        "* Análisis y Resultado Final: Una vez que el usuario termina de votar, el programa utiliza reduce para determinar cuál película recibió más votos, mostrando el resultado. Esto demuestra la aplicación práctica de reduce para sintetizar una colección de datos en un solo resultado."
      ],
      "metadata": {
        "id": "fAsGdaJg7O-6"
      }
    },
    {
      "cell_type": "code",
      "source": [
        "catalogo_libros = {\"Don Quijote de la Mancha\": \"Miguel de Cervantes\",\n",
        "\"Cien años de soledad\": \"Gabriel García Márquez\",\n",
        "\"La sombra del viento\": \"Carlos Ruiz Zafón\"}\n",
        "\n",
        "print(catalogo_libros)"
      ],
      "metadata": {
        "colab": {
          "base_uri": "https://localhost:8080/"
        },
        "id": "VUYLaAvl7WzJ",
        "outputId": "85ba3964-10eb-4c35-c424-f0bcfaab7982"
      },
      "execution_count": 27,
      "outputs": [
        {
          "output_type": "stream",
          "name": "stdout",
          "text": [
            "{'Don Quijote de la Mancha': 'Miguel de Cervantes', 'Cien años de soledad': 'Gabriel García Márquez', 'La sombra del viento': 'Carlos Ruiz Zafón'}\n"
          ]
        }
      ]
    },
    {
      "cell_type": "code",
      "source": [
        "nombre_libro = input(\"Introduce el nombre del libro: \") #para que el usuario introduzca el nombre del libro\n",
        "\n",
        "encontrado = False #damos un valor de referencia para la búsqueda\n",
        "for libro, autor in catalogo_libros.items(): #definimos los nombres para el bucle 'for'\n",
        "    if libro == nombre_libro: #si el 'libro' es igual al nombre introducido imprime el nombre y el autor\n",
        "        print(f\"El autor del libro {libro} es {autor}.\")\n",
        "        encontrado = True #en caso que encontrado sea 'true', finaliza la búsqueda, si no, imprimie el mensaje de más abajo\n",
        "        break\n",
        "\n",
        "if not encontrado:\n",
        "    print(f\"Lo sentimos, el libro {nombre_libro} no está disponible.\")\n",
        "# hay una forma más sencilla con 'if'\n",
        "if nombre_libro in catalogo_libros:\n",
        "  print(f\"El autor del libro {nombre_libro} es {catalogo_libros[nombre_libro]}.\")\n",
        "else:\n",
        "  print(f\"Lo sentimos, el libro {nombre_libro} no está disponible.\")"
      ],
      "metadata": {
        "colab": {
          "base_uri": "https://localhost:8080/"
        },
        "id": "eR_3Ewmg7kMg",
        "outputId": "f10dde72-3f5d-412e-b2cc-f11f9059ced1"
      },
      "execution_count": 28,
      "outputs": [
        {
          "output_type": "stream",
          "name": "stdout",
          "text": [
            "Introduce el nombre del libro: Cien años de soledad\n",
            "El autor del libro Cien años de soledad es Gabriel García Márquez.\n"
          ]
        }
      ]
    },
    {
      "cell_type": "code",
      "source": [
        "autores_unicos = set(catalogo_libros.values()) #creamos variable donde pedimos a la variable que nos traiga los valores\n",
        "print(\"Autores únicos:\",autores_unicos)"
      ],
      "metadata": {
        "colab": {
          "base_uri": "https://localhost:8080/"
        },
        "id": "VOXtITo77sFn",
        "outputId": "5e5367c5-710c-48ac-adc4-be4d61b98821"
      },
      "execution_count": 29,
      "outputs": [
        {
          "output_type": "stream",
          "name": "stdout",
          "text": [
            "Autores únicos: {'Carlos Ruiz Zafón', 'Miguel de Cervantes', 'Gabriel García Márquez'}\n"
          ]
        }
      ]
    },
    {
      "cell_type": "code",
      "source": [
        "recomendaciones = (\"El alquimista - Paulo Coelho\",\n",
        "                   \"El tatuador de Auschwitz - Pepito Pérez\",\n",
        "                   \"Crónicas de una muerte anunciada - Gabriel García Márquez\")\n",
        "contador = 0\n",
        "print(\"Recomendaciones de lectura: \")\n",
        "while contador < len(recomendaciones):\n",
        "  print(f\"Recomendamos leer: {recomendaciones[contador]}\")\n",
        "  contador +=1"
      ],
      "metadata": {
        "colab": {
          "base_uri": "https://localhost:8080/"
        },
        "id": "S3utessc72UG",
        "outputId": "3da43c7e-1759-4605-d0e5-3251bd1b7331"
      },
      "execution_count": 30,
      "outputs": [
        {
          "output_type": "stream",
          "name": "stdout",
          "text": [
            "Recomendaciones de lectura: \n",
            "Recomendamos leer: El alquimista - Paulo Coelho\n",
            "Recomendamos leer: El tatuador de Auschwitz - Pepito Pérez\n",
            "Recomendamos leer: Crónicas de una muerte anunciada - Gabriel García Márquez\n"
          ]
        }
      ]
    },
    {
      "cell_type": "markdown",
      "source": [
        "# **ACTIVIDAD REPASO**\n",
        "Normalizar la lista de 5 personas:\n",
        "\n",
        "1. Corregir mayúsculas y minúsculas.\n",
        "2. El resultado deberá almacenarse como una variable tipo lista llamada lista_personas_normalizada donde se incluyan todas las personas de la variable lista_personas y personas_faltantes.\n",
        "3. Corroborar en esta nueva variable que el tipo de dato sea el pedido.\n",
        "4. Deberá estar ordenado alfabeticamente el orden de esta lista nueva.\n",
        "5. Mostrar en un print las personas faltantes, indicando en el texto cuántas personas son y cómo se llaman (f-strings 😏).\n",
        "6. Agregar tu nombre y apellido en primera posición de la variable lista_personas_normalizada y eliminar el último posicionado en ella.\n",
        "7. Partiendo de la posición actual de tu nombre, quedarse sólo con las personas cuya posición sera número par."
      ],
      "metadata": {
        "id": "xOuYbXCA8Pzz"
      }
    },
    {
      "cell_type": "code",
      "source": [
        "# 1. Corregir mayúsculas y minúsculas.\n",
        "lista_personas = [\"Juan PéRez\", \"MARIA GóMez\", \"carlos SAnchez\"]\n",
        "personas_faltantes = [\"anA López\", \"luis gonzález\"]\n"
      ],
      "metadata": {
        "id": "y5ccWfbH8fxu"
      },
      "execution_count": 55,
      "outputs": []
    },
    {
      "cell_type": "code",
      "source": [
        "lista_personas_corregidas = [nombre.title() for nombre in lista_personas]\n",
        "\n",
        "print(\"Lista de personas corregida:\", lista_personas_corregidas)\n"
      ],
      "metadata": {
        "colab": {
          "base_uri": "https://localhost:8080/"
        },
        "id": "wEsGbxcB8rk_",
        "outputId": "0e3a64db-08a9-45ea-f453-f3181c9faace"
      },
      "execution_count": 56,
      "outputs": [
        {
          "output_type": "stream",
          "name": "stdout",
          "text": [
            "Lista de personas corregida: ['Juan Pérez', 'Maria Gómez', 'Carlos Sanchez']\n"
          ]
        }
      ]
    },
    {
      "cell_type": "code",
      "source": [
        "personas_faltantes_corregida = [nombre.title() for nombre in personas_faltantes]\n",
        "\n",
        "print(\"Lista de personas faltantes corregida\", personas_faltantes_corregida)\n"
      ],
      "metadata": {
        "colab": {
          "base_uri": "https://localhost:8080/"
        },
        "id": "2zcT74RE9FWg",
        "outputId": "5dc1c7b0-31b1-4ec0-ae0c-aefb3d599df0"
      },
      "execution_count": 57,
      "outputs": [
        {
          "output_type": "stream",
          "name": "stdout",
          "text": [
            "Lista de personas faltantes corregida ['Ana López', 'Luis González']\n"
          ]
        }
      ]
    },
    {
      "cell_type": "code",
      "source": [
        "# 2. El resultado deberá almacenarse como una variable tipo lista llamada lista_personas_normalizada donde\n",
        "# se incluyan todas las personas de la variable lista_personas y personas_faltantes.\n",
        "lista_personas_normalizada = lista_personas_corregidas + personas_faltantes_corregida\n",
        "print(lista_personas_normalizada)"
      ],
      "metadata": {
        "colab": {
          "base_uri": "https://localhost:8080/"
        },
        "id": "CPrixNv2-Xhe",
        "outputId": "ecff9255-b49c-4e7c-db4a-91412fa7f028"
      },
      "execution_count": 58,
      "outputs": [
        {
          "output_type": "stream",
          "name": "stdout",
          "text": [
            "['Juan Pérez', 'Maria Gómez', 'Carlos Sanchez', 'Ana López', 'Luis González']\n"
          ]
        }
      ]
    },
    {
      "cell_type": "code",
      "source": [
        "# 3. Corroborar en esta nueva variable que el tipo de dato sea el pedido.\n",
        "type(lista_personas_normalizada)"
      ],
      "metadata": {
        "colab": {
          "base_uri": "https://localhost:8080/"
        },
        "id": "S6zHfV9l-vrB",
        "outputId": "88e3ed25-8f09-451b-9d48-e7d278bf5317"
      },
      "execution_count": 47,
      "outputs": [
        {
          "output_type": "execute_result",
          "data": {
            "text/plain": [
              "list"
            ]
          },
          "metadata": {},
          "execution_count": 47
        }
      ]
    },
    {
      "cell_type": "code",
      "source": [
        "# 4. Deberá estar ordenado alfabeticamente el orden de esta lista nueva.\n",
        "lista_personas_normalizada.sort()\n",
        "print(lista_personas_normalizada)"
      ],
      "metadata": {
        "colab": {
          "base_uri": "https://localhost:8080/"
        },
        "id": "VJ2zSfWz-_9T",
        "outputId": "baa01747-3045-4f80-e604-daa01dab0d47"
      },
      "execution_count": 59,
      "outputs": [
        {
          "output_type": "stream",
          "name": "stdout",
          "text": [
            "['Ana López', 'Carlos Sanchez', 'Juan Pérez', 'Luis González', 'Maria Gómez']\n"
          ]
        }
      ]
    },
    {
      "cell_type": "code",
      "source": [
        "# 5. Mostrar en un print las personas faltantes, indicando en el texto cuántas personas son y cómo se llaman (f-strings 😏).\n",
        "\n",
        "personas_faltantes2 = [persona for persona in lista_personas_normalizada if persona not in lista_personas_corregidas]\n",
        "\n",
        "# Mostrar las personas faltantes\n",
        "print(f\"Hay {len(personas_faltantes)} personas faltantes:\")\n",
        "for persona in personas_faltantes2:\n",
        "    print(persona)\n"
      ],
      "metadata": {
        "colab": {
          "base_uri": "https://localhost:8080/"
        },
        "id": "aNE50sn1_TfQ",
        "outputId": "984d7a5c-74b7-40dd-c985-090639856206"
      },
      "execution_count": 60,
      "outputs": [
        {
          "output_type": "stream",
          "name": "stdout",
          "text": [
            "Hay 2 personas faltantes:\n",
            "Ana López\n",
            "Luis González\n"
          ]
        }
      ]
    },
    {
      "cell_type": "code",
      "source": [
        "# 6. Agregar tu nombre y apellido en primera posición de la variable lista_personas_normalizada y eliminar el último posicionado en ella.\n",
        "lista_personas_normalizada.insert(0, \"Héctor Contreras\")\n",
        "lista_personas_normalizada.pop()\n",
        "print(lista_personas_normalizada)"
      ],
      "metadata": {
        "colab": {
          "base_uri": "https://localhost:8080/"
        },
        "id": "eel8e3v-AOQp",
        "outputId": "8ef97ed5-e41b-4fe6-a4b5-05b199f4e89b"
      },
      "execution_count": 61,
      "outputs": [
        {
          "output_type": "stream",
          "name": "stdout",
          "text": [
            "['Héctor Contreras', 'Ana López', 'Carlos Sanchez', 'Juan Pérez', 'Luis González']\n"
          ]
        }
      ]
    },
    {
      "cell_type": "code",
      "source": [
        "# 7. Partiendo de la posición actual de tu nombre, quedarse sólo con las personas cuya posición sera número par.\n",
        "\n",
        "print(lista_personas_normalizada)\n",
        "\n",
        "personas_posicion_par = [lista_personas_normalizada[par] for par in range(len(lista_personas_normalizada)) if par % 2 == 0]\n",
        "\n",
        "print(\"\\nPersonas cuya posición es número par:\", personas_posicion_par)\n"
      ],
      "metadata": {
        "colab": {
          "base_uri": "https://localhost:8080/"
        },
        "id": "sIAETNF1BBkm",
        "outputId": "1d635cfa-01fe-49e2-bb51-074cdcb44f52"
      },
      "execution_count": 71,
      "outputs": [
        {
          "output_type": "stream",
          "name": "stdout",
          "text": [
            "['Héctor Contreras', 'Ana López', 'Carlos Sanchez', 'Juan Pérez', 'Luis González']\n",
            "\n",
            "Personas cuya posición es número par: ['Héctor Contreras', 'Carlos Sanchez', 'Luis González']\n"
          ]
        }
      ]
    }
  ]
}